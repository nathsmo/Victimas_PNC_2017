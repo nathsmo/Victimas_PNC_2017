{
  "nbformat": 4,
  "nbformat_minor": 0,
  "metadata": {
    "colab": {
      "name": "Procesamiento2.ipynb",
      "version": "0.3.2",
      "provenance": [],
      "include_colab_link": true
    },
    "kernelspec": {
      "name": "python3",
      "display_name": "Python 3"
    }
  },
  "cells": [
    {
      "cell_type": "markdown",
      "metadata": {
        "id": "view-in-github",
        "colab_type": "text"
      },
      "source": [
        "<a href=\"https://colab.research.google.com/github/nathsmo/Victimas_PNC_2017/blob/master/Procesamiento2.ipynb\" target=\"_parent\"><img src=\"https://colab.research.google.com/assets/colab-badge.svg\" alt=\"Open In Colab\"/></a>"
      ]
    },
    {
      "cell_type": "markdown",
      "metadata": {
        "id": "ekaLAFtPTqxy",
        "colab_type": "text"
      },
      "source": [
        "# Segundo Procesamiento de datos\n",
        "\n",
        "* Segundo análisis creado a partir de una investigación personal después de la clase y entrega original del proyecto."
      ]
    },
    {
      "cell_type": "markdown",
      "metadata": {
        "id": "uNY1R_jiUrzA",
        "colab_type": "text"
      },
      "source": [
        "## Importar librerias"
      ]
    },
    {
      "cell_type": "code",
      "metadata": {
        "id": "KHwlk_AvUr7Q",
        "colab_type": "code",
        "outputId": "5edfdf34-c716-45ca-e592-0bf6dade561a",
        "colab": {
          "base_uri": "https://localhost:8080/",
          "height": 72
        }
      },
      "source": [
        "%matplotlib inline\n",
        "from sklearn.preprocessing import StandardScaler\n",
        "from sklearn.linear_model import LinearRegression\n",
        "from sklearn.linear_model import LogisticRegression\n",
        "from sklearn.linear_model import Ridge\n",
        "from sklearn.decomposition import PCA\n",
        "from sklearn.ensemble import RandomForestClassifier, GradientBoostingClassifier\n",
        "from sklearn.discriminant_analysis import QuadraticDiscriminantAnalysis\n",
        "from sklearn.discriminant_analysis import LinearDiscriminantAnalysis\n",
        "from sklearn.neighbors import KNeighborsClassifier\n",
        "from sklearn.preprocessing import PolynomialFeatures\n",
        "from sklearn.tree import DecisionTreeClassifier, export_graphviz\n",
        "from IPython.display import Image\n",
        "from sklearn.metrics import mean_squared_error, confusion_matrix, classification_report\n",
        "from sklearn.externals.six import StringIO  \n",
        "from sklearn import metrics\n",
        "import pandas as pd\n",
        "import numpy as np  \n",
        "import pydotplus\n",
        "import matplotlib.pyplot as plt  \n",
        "from sklearn.model_selection import train_test_split  \n",
        "from sklearn.model_selection import cross_val_score\n",
        "from pandas import DataFrame\n",
        "import statsmodels.api as sm\n",
        "import seaborn as sns\n",
        "import scipy.stats as stats\n",
        "import sklearn\n",
        "import matplotlib\n",
        "matplotlib.rcParams.update({'font.size': 12})"
      ],
      "execution_count": 1,
      "outputs": [
        {
          "output_type": "stream",
          "text": [
            "/usr/local/lib/python3.6/dist-packages/sklearn/externals/six.py:31: DeprecationWarning: The module is deprecated in version 0.21 and will be removed in version 0.23 since we've dropped support for Python 2.7. Please rely on the official version of six (https://pypi.org/project/six/).\n",
            "  \"(https://pypi.org/project/six/).\", DeprecationWarning)\n"
          ],
          "name": "stderr"
        }
      ]
    },
    {
      "cell_type": "markdown",
      "metadata": {
        "id": "hzGlrj_GUFes",
        "colab_type": "text"
      },
      "source": [
        "## Importando CSV"
      ]
    },
    {
      "cell_type": "code",
      "metadata": {
        "id": "Mnnr1EjWTmnq",
        "colab_type": "code",
        "outputId": "d0310792-2fca-4fd3-c1f5-b43163d54df3",
        "colab": {
          "resources": {
            "http://localhost:8080/nbextensions/google.colab/files.js": {
              "data": "Ly8gQ29weXJpZ2h0IDIwMTcgR29vZ2xlIExMQwovLwovLyBMaWNlbnNlZCB1bmRlciB0aGUgQXBhY2hlIExpY2Vuc2UsIFZlcnNpb24gMi4wICh0aGUgIkxpY2Vuc2UiKTsKLy8geW91IG1heSBub3QgdXNlIHRoaXMgZmlsZSBleGNlcHQgaW4gY29tcGxpYW5jZSB3aXRoIHRoZSBMaWNlbnNlLgovLyBZb3UgbWF5IG9idGFpbiBhIGNvcHkgb2YgdGhlIExpY2Vuc2UgYXQKLy8KLy8gICAgICBodHRwOi8vd3d3LmFwYWNoZS5vcmcvbGljZW5zZXMvTElDRU5TRS0yLjAKLy8KLy8gVW5sZXNzIHJlcXVpcmVkIGJ5IGFwcGxpY2FibGUgbGF3IG9yIGFncmVlZCB0byBpbiB3cml0aW5nLCBzb2Z0d2FyZQovLyBkaXN0cmlidXRlZCB1bmRlciB0aGUgTGljZW5zZSBpcyBkaXN0cmlidXRlZCBvbiBhbiAiQVMgSVMiIEJBU0lTLAovLyBXSVRIT1VUIFdBUlJBTlRJRVMgT1IgQ09ORElUSU9OUyBPRiBBTlkgS0lORCwgZWl0aGVyIGV4cHJlc3Mgb3IgaW1wbGllZC4KLy8gU2VlIHRoZSBMaWNlbnNlIGZvciB0aGUgc3BlY2lmaWMgbGFuZ3VhZ2UgZ292ZXJuaW5nIHBlcm1pc3Npb25zIGFuZAovLyBsaW1pdGF0aW9ucyB1bmRlciB0aGUgTGljZW5zZS4KCi8qKgogKiBAZmlsZW92ZXJ2aWV3IEhlbHBlcnMgZm9yIGdvb2dsZS5jb2xhYiBQeXRob24gbW9kdWxlLgogKi8KKGZ1bmN0aW9uKHNjb3BlKSB7CmZ1bmN0aW9uIHNwYW4odGV4dCwgc3R5bGVBdHRyaWJ1dGVzID0ge30pIHsKICBjb25zdCBlbGVtZW50ID0gZG9jdW1lbnQuY3JlYXRlRWxlbWVudCgnc3BhbicpOwogIGVsZW1lbnQudGV4dENvbnRlbnQgPSB0ZXh0OwogIGZvciAoY29uc3Qga2V5IG9mIE9iamVjdC5rZXlzKHN0eWxlQXR0cmlidXRlcykpIHsKICAgIGVsZW1lbnQuc3R5bGVba2V5XSA9IHN0eWxlQXR0cmlidXRlc1trZXldOwogIH0KICByZXR1cm4gZWxlbWVudDsKfQoKLy8gTWF4IG51bWJlciBvZiBieXRlcyB3aGljaCB3aWxsIGJlIHVwbG9hZGVkIGF0IGEgdGltZS4KY29uc3QgTUFYX1BBWUxPQURfU0laRSA9IDEwMCAqIDEwMjQ7Ci8vIE1heCBhbW91bnQgb2YgdGltZSB0byBibG9jayB3YWl0aW5nIGZvciB0aGUgdXNlci4KY29uc3QgRklMRV9DSEFOR0VfVElNRU9VVF9NUyA9IDMwICogMTAwMDsKCmZ1bmN0aW9uIF91cGxvYWRGaWxlcyhpbnB1dElkLCBvdXRwdXRJZCkgewogIGNvbnN0IHN0ZXBzID0gdXBsb2FkRmlsZXNTdGVwKGlucHV0SWQsIG91dHB1dElkKTsKICBjb25zdCBvdXRwdXRFbGVtZW50ID0gZG9jdW1lbnQuZ2V0RWxlbWVudEJ5SWQob3V0cHV0SWQpOwogIC8vIENhY2hlIHN0ZXBzIG9uIHRoZSBvdXRwdXRFbGVtZW50IHRvIG1ha2UgaXQgYXZhaWxhYmxlIGZvciB0aGUgbmV4dCBjYWxsCiAgLy8gdG8gdXBsb2FkRmlsZXNDb250aW51ZSBmcm9tIFB5dGhvbi4KICBvdXRwdXRFbGVtZW50LnN0ZXBzID0gc3RlcHM7CgogIHJldHVybiBfdXBsb2FkRmlsZXNDb250aW51ZShvdXRwdXRJZCk7Cn0KCi8vIFRoaXMgaXMgcm91Z2hseSBhbiBhc3luYyBnZW5lcmF0b3IgKG5vdCBzdXBwb3J0ZWQgaW4gdGhlIGJyb3dzZXIgeWV0KSwKLy8gd2hlcmUgdGhlcmUgYXJlIG11bHRpcGxlIGFzeW5jaHJvbm91cyBzdGVwcyBhbmQgdGhlIFB5dGhvbiBzaWRlIGlzIGdvaW5nCi8vIHRvIHBvbGwgZm9yIGNvbXBsZXRpb24gb2YgZWFjaCBzdGVwLgovLyBUaGlzIHVzZXMgYSBQcm9taXNlIHRvIGJsb2NrIHRoZSBweXRob24gc2lkZSBvbiBjb21wbGV0aW9uIG9mIGVhY2ggc3RlcCwKLy8gdGhlbiBwYXNzZXMgdGhlIHJlc3VsdCBvZiB0aGUgcHJldmlvdXMgc3RlcCBhcyB0aGUgaW5wdXQgdG8gdGhlIG5leHQgc3RlcC4KZnVuY3Rpb24gX3VwbG9hZEZpbGVzQ29udGludWUob3V0cHV0SWQpIHsKICBjb25zdCBvdXRwdXRFbGVtZW50ID0gZG9jdW1lbnQuZ2V0RWxlbWVudEJ5SWQob3V0cHV0SWQpOwogIGNvbnN0IHN0ZXBzID0gb3V0cHV0RWxlbWVudC5zdGVwczsKCiAgY29uc3QgbmV4dCA9IHN0ZXBzLm5leHQob3V0cHV0RWxlbWVudC5sYXN0UHJvbWlzZVZhbHVlKTsKICByZXR1cm4gUHJvbWlzZS5yZXNvbHZlKG5leHQudmFsdWUucHJvbWlzZSkudGhlbigodmFsdWUpID0+IHsKICAgIC8vIENhY2hlIHRoZSBsYXN0IHByb21pc2UgdmFsdWUgdG8gbWFrZSBpdCBhdmFpbGFibGUgdG8gdGhlIG5leHQKICAgIC8vIHN0ZXAgb2YgdGhlIGdlbmVyYXRvci4KICAgIG91dHB1dEVsZW1lbnQubGFzdFByb21pc2VWYWx1ZSA9IHZhbHVlOwogICAgcmV0dXJuIG5leHQudmFsdWUucmVzcG9uc2U7CiAgfSk7Cn0KCi8qKgogKiBHZW5lcmF0b3IgZnVuY3Rpb24gd2hpY2ggaXMgY2FsbGVkIGJldHdlZW4gZWFjaCBhc3luYyBzdGVwIG9mIHRoZSB1cGxvYWQKICogcHJvY2Vzcy4KICogQHBhcmFtIHtzdHJpbmd9IGlucHV0SWQgRWxlbWVudCBJRCBvZiB0aGUgaW5wdXQgZmlsZSBwaWNrZXIgZWxlbWVudC4KICogQHBhcmFtIHtzdHJpbmd9IG91dHB1dElkIEVsZW1lbnQgSUQgb2YgdGhlIG91dHB1dCBkaXNwbGF5LgogKiBAcmV0dXJuIHshSXRlcmFibGU8IU9iamVjdD59IEl0ZXJhYmxlIG9mIG5leHQgc3RlcHMuCiAqLwpmdW5jdGlvbiogdXBsb2FkRmlsZXNTdGVwKGlucHV0SWQsIG91dHB1dElkKSB7CiAgY29uc3QgaW5wdXRFbGVtZW50ID0gZG9jdW1lbnQuZ2V0RWxlbWVudEJ5SWQoaW5wdXRJZCk7CiAgaW5wdXRFbGVtZW50LmRpc2FibGVkID0gZmFsc2U7CgogIGNvbnN0IG91dHB1dEVsZW1lbnQgPSBkb2N1bWVudC5nZXRFbGVtZW50QnlJZChvdXRwdXRJZCk7CiAgb3V0cHV0RWxlbWVudC5pbm5lckhUTUwgPSAnJzsKCiAgY29uc3QgcGlja2VkUHJvbWlzZSA9IG5ldyBQcm9taXNlKChyZXNvbHZlKSA9PiB7CiAgICBpbnB1dEVsZW1lbnQuYWRkRXZlbnRMaXN0ZW5lcignY2hhbmdlJywgKGUpID0+IHsKICAgICAgcmVzb2x2ZShlLnRhcmdldC5maWxlcyk7CiAgICB9KTsKICB9KTsKCiAgY29uc3QgY2FuY2VsID0gZG9jdW1lbnQuY3JlYXRlRWxlbWVudCgnYnV0dG9uJyk7CiAgaW5wdXRFbGVtZW50LnBhcmVudEVsZW1lbnQuYXBwZW5kQ2hpbGQoY2FuY2VsKTsKICBjYW5jZWwudGV4dENvbnRlbnQgPSAnQ2FuY2VsIHVwbG9hZCc7CiAgY29uc3QgY2FuY2VsUHJvbWlzZSA9IG5ldyBQcm9taXNlKChyZXNvbHZlKSA9PiB7CiAgICBjYW5jZWwub25jbGljayA9ICgpID0+IHsKICAgICAgcmVzb2x2ZShudWxsKTsKICAgIH07CiAgfSk7CgogIC8vIENhbmNlbCB1cGxvYWQgaWYgdXNlciBoYXNuJ3QgcGlja2VkIGFueXRoaW5nIGluIHRpbWVvdXQuCiAgY29uc3QgdGltZW91dFByb21pc2UgPSBuZXcgUHJvbWlzZSgocmVzb2x2ZSkgPT4gewogICAgc2V0VGltZW91dCgoKSA9PiB7CiAgICAgIHJlc29sdmUobnVsbCk7CiAgICB9LCBGSUxFX0NIQU5HRV9USU1FT1VUX01TKTsKICB9KTsKCiAgLy8gV2FpdCBmb3IgdGhlIHVzZXIgdG8gcGljayB0aGUgZmlsZXMuCiAgY29uc3QgZmlsZXMgPSB5aWVsZCB7CiAgICBwcm9taXNlOiBQcm9taXNlLnJhY2UoW3BpY2tlZFByb21pc2UsIHRpbWVvdXRQcm9taXNlLCBjYW5jZWxQcm9taXNlXSksCiAgICByZXNwb25zZTogewogICAgICBhY3Rpb246ICdzdGFydGluZycsCiAgICB9CiAgfTsKCiAgaWYgKCFmaWxlcykgewogICAgcmV0dXJuIHsKICAgICAgcmVzcG9uc2U6IHsKICAgICAgICBhY3Rpb246ICdjb21wbGV0ZScsCiAgICAgIH0KICAgIH07CiAgfQoKICBjYW5jZWwucmVtb3ZlKCk7CgogIC8vIERpc2FibGUgdGhlIGlucHV0IGVsZW1lbnQgc2luY2UgZnVydGhlciBwaWNrcyBhcmUgbm90IGFsbG93ZWQuCiAgaW5wdXRFbGVtZW50LmRpc2FibGVkID0gdHJ1ZTsKCiAgZm9yIChjb25zdCBmaWxlIG9mIGZpbGVzKSB7CiAgICBjb25zdCBsaSA9IGRvY3VtZW50LmNyZWF0ZUVsZW1lbnQoJ2xpJyk7CiAgICBsaS5hcHBlbmQoc3BhbihmaWxlLm5hbWUsIHtmb250V2VpZ2h0OiAnYm9sZCd9KSk7CiAgICBsaS5hcHBlbmQoc3BhbigKICAgICAgICBgKCR7ZmlsZS50eXBlIHx8ICduL2EnfSkgLSAke2ZpbGUuc2l6ZX0gYnl0ZXMsIGAgKwogICAgICAgIGBsYXN0IG1vZGlmaWVkOiAkewogICAgICAgICAgICBmaWxlLmxhc3RNb2RpZmllZERhdGUgPyBmaWxlLmxhc3RNb2RpZmllZERhdGUudG9Mb2NhbGVEYXRlU3RyaW5nKCkgOgogICAgICAgICAgICAgICAgICAgICAgICAgICAgICAgICAgICAnbi9hJ30gLSBgKSk7CiAgICBjb25zdCBwZXJjZW50ID0gc3BhbignMCUgZG9uZScpOwogICAgbGkuYXBwZW5kQ2hpbGQocGVyY2VudCk7CgogICAgb3V0cHV0RWxlbWVudC5hcHBlbmRDaGlsZChsaSk7CgogICAgY29uc3QgZmlsZURhdGFQcm9taXNlID0gbmV3IFByb21pc2UoKHJlc29sdmUpID0+IHsKICAgICAgY29uc3QgcmVhZGVyID0gbmV3IEZpbGVSZWFkZXIoKTsKICAgICAgcmVhZGVyLm9ubG9hZCA9IChlKSA9PiB7CiAgICAgICAgcmVzb2x2ZShlLnRhcmdldC5yZXN1bHQpOwogICAgICB9OwogICAgICByZWFkZXIucmVhZEFzQXJyYXlCdWZmZXIoZmlsZSk7CiAgICB9KTsKICAgIC8vIFdhaXQgZm9yIHRoZSBkYXRhIHRvIGJlIHJlYWR5LgogICAgbGV0IGZpbGVEYXRhID0geWllbGQgewogICAgICBwcm9taXNlOiBmaWxlRGF0YVByb21pc2UsCiAgICAgIHJlc3BvbnNlOiB7CiAgICAgICAgYWN0aW9uOiAnY29udGludWUnLAogICAgICB9CiAgICB9OwoKICAgIC8vIFVzZSBhIGNodW5rZWQgc2VuZGluZyB0byBhdm9pZCBtZXNzYWdlIHNpemUgbGltaXRzLiBTZWUgYi82MjExNTY2MC4KICAgIGxldCBwb3NpdGlvbiA9IDA7CiAgICB3aGlsZSAocG9zaXRpb24gPCBmaWxlRGF0YS5ieXRlTGVuZ3RoKSB7CiAgICAgIGNvbnN0IGxlbmd0aCA9IE1hdGgubWluKGZpbGVEYXRhLmJ5dGVMZW5ndGggLSBwb3NpdGlvbiwgTUFYX1BBWUxPQURfU0laRSk7CiAgICAgIGNvbnN0IGNodW5rID0gbmV3IFVpbnQ4QXJyYXkoZmlsZURhdGEsIHBvc2l0aW9uLCBsZW5ndGgpOwogICAgICBwb3NpdGlvbiArPSBsZW5ndGg7CgogICAgICBjb25zdCBiYXNlNjQgPSBidG9hKFN0cmluZy5mcm9tQ2hhckNvZGUuYXBwbHkobnVsbCwgY2h1bmspKTsKICAgICAgeWllbGQgewogICAgICAgIHJlc3BvbnNlOiB7CiAgICAgICAgICBhY3Rpb246ICdhcHBlbmQnLAogICAgICAgICAgZmlsZTogZmlsZS5uYW1lLAogICAgICAgICAgZGF0YTogYmFzZTY0LAogICAgICAgIH0sCiAgICAgIH07CiAgICAgIHBlcmNlbnQudGV4dENvbnRlbnQgPQogICAgICAgICAgYCR7TWF0aC5yb3VuZCgocG9zaXRpb24gLyBmaWxlRGF0YS5ieXRlTGVuZ3RoKSAqIDEwMCl9JSBkb25lYDsKICAgIH0KICB9CgogIC8vIEFsbCBkb25lLgogIHlpZWxkIHsKICAgIHJlc3BvbnNlOiB7CiAgICAgIGFjdGlvbjogJ2NvbXBsZXRlJywKICAgIH0KICB9Owp9CgpzY29wZS5nb29nbGUgPSBzY29wZS5nb29nbGUgfHwge307CnNjb3BlLmdvb2dsZS5jb2xhYiA9IHNjb3BlLmdvb2dsZS5jb2xhYiB8fCB7fTsKc2NvcGUuZ29vZ2xlLmNvbGFiLl9maWxlcyA9IHsKICBfdXBsb2FkRmlsZXMsCiAgX3VwbG9hZEZpbGVzQ29udGludWUsCn07Cn0pKHNlbGYpOwo=",
              "ok": true,
              "headers": [
                [
                  "content-type",
                  "application/javascript"
                ]
              ],
              "status": 200,
              "status_text": ""
            }
          },
          "base_uri": "https://localhost:8080/",
          "height": 73
        }
      },
      "source": [
        "from google.colab import files\n",
        "uploaded = files.upload()"
      ],
      "execution_count": 2,
      "outputs": [
        {
          "output_type": "display_data",
          "data": {
            "text/html": [
              "\n",
              "     <input type=\"file\" id=\"files-31dd757e-4f67-4ea4-8d8a-5bcee93f2eaa\" name=\"files[]\" multiple disabled />\n",
              "     <output id=\"result-31dd757e-4f67-4ea4-8d8a-5bcee93f2eaa\">\n",
              "      Upload widget is only available when the cell has been executed in the\n",
              "      current browser session. Please rerun this cell to enable.\n",
              "      </output>\n",
              "      <script src=\"/nbextensions/google.colab/files.js\"></script> "
            ],
            "text/plain": [
              "<IPython.core.display.HTML object>"
            ]
          },
          "metadata": {
            "tags": []
          }
        },
        {
          "output_type": "stream",
          "text": [
            "Saving vic_final.csv to vic_final.csv\n"
          ],
          "name": "stdout"
        }
      ]
    },
    {
      "cell_type": "code",
      "metadata": {
        "id": "YxBE95p9UZEv",
        "colab_type": "code",
        "colab": {}
      },
      "source": [
        "df = pd.read_csv('vic_final.csv')\n",
        "df.drop(u'Unnamed: 0', axis=1, inplace=True)# irrelevante"
      ],
      "execution_count": 0,
      "outputs": []
    },
    {
      "cell_type": "markdown",
      "metadata": {
        "id": "B_mcE5oTUz6w",
        "colab_type": "text"
      },
      "source": [
        "## División de regiones de la data\n",
        "\n",
        "\n",
        "* Reference for dividing the regions: https://aprende.guatemala.com/historia/geografia/regiones-de-guatemala/"
      ]
    },
    {
      "cell_type": "markdown",
      "metadata": {
        "id": "JERGoFdBXxvv",
        "colab_type": "text"
      },
      "source": [
        "### Departamentos segun código\n",
        "\n",
        "| Codigo  | Departamento      |\n",
        "|----|----------------|\n",
        "| 1  | Guatemala      |\n",
        "| 2  | El Progreso    |\n",
        "| 3  | Sacatepéquez   |\n",
        "| 4  | Chimaltenango  |\n",
        "| 5  | Escuintla      |\n",
        "| 6  | Santa Rosa     |\n",
        "| 7  | Sololá         |\n",
        "| 8  | Totonicapán    |\n",
        "| 9  | Quetzaltenango |\n",
        "| 10 | Suchitepéquez  |\n",
        "| 11 | Retalhuleu     |\n",
        "| 12 | San Marcos     |\n",
        "| 13 | Huehuetenango  |\n",
        "| 14 | Quiché         |\n",
        "| 15 | Baja Verapaz   |\n",
        "| 16 | Alta Verapaz   |\n",
        "| 17 | Petén          |\n",
        "| 18 | Izabal         |\n",
        "| 19 | Zacapa         |\n",
        "| 20 | Chiquimula     |\n",
        "| 21 | Jalapa         |\n",
        "| 22 | Jutiapa        |\n"
      ]
    },
    {
      "cell_type": "code",
      "metadata": {
        "id": "BuLF9FjnqUxq",
        "colab_type": "code",
        "colab": {}
      },
      "source": [
        "metro = [1]\n",
        "norte = [15, 16]\n",
        "nor_or = [18, 19, 2, 20]\n",
        "sur_or = [21, 22, 6]\n",
        "central = [4, 3, 5]\n",
        "sur_oc = [12, 11, 9, 8, 7, 10]\n",
        "nor_oc = [13, 14]\n",
        "peten = [17]\n",
        "\n",
        "reg = []"
      ],
      "execution_count": 0,
      "outputs": []
    },
    {
      "cell_type": "code",
      "metadata": {
        "id": "qXoLN5T1jLMa",
        "colab_type": "code",
        "colab": {}
      },
      "source": [
        "for i in df['dept']:\n",
        "    if i in metro:\n",
        "        reg.append(\"metro\")\n",
        "    elif i in norte:\n",
        "        reg.append(\"norte\")\n",
        "    elif i in nor_or:\n",
        "        reg.append(\"nor_or\")    \n",
        "    elif i in sur_or:\n",
        "        reg.append(\"sur_or\")    \n",
        "    elif i in central:\n",
        "        reg.append(\"central\") \n",
        "    elif i in sur_oc:\n",
        "        reg.append(\"sur_oc\")    \n",
        "    elif i in nor_oc:\n",
        "        reg.append(\"nor_oc\")\n",
        "    elif i in peten:\n",
        "        reg.append(\"peten\")"
      ],
      "execution_count": 0,
      "outputs": []
    },
    {
      "cell_type": "code",
      "metadata": {
        "id": "F5EhIF7mtGQb",
        "colab_type": "code",
        "colab": {}
      },
      "source": [
        "df['region'] = reg"
      ],
      "execution_count": 0,
      "outputs": []
    },
    {
      "cell_type": "code",
      "metadata": {
        "id": "UTbMKnl0tB9I",
        "colab_type": "code",
        "outputId": "ec912d11-c684-4ee6-a604-4b2f7606d948",
        "colab": {
          "base_uri": "https://localhost:8080/",
          "height": 202
        }
      },
      "source": [
        "df.head()"
      ],
      "execution_count": 7,
      "outputs": [
        {
          "output_type": "execute_result",
          "data": {
            "text/html": [
              "<div>\n",
              "<style scoped>\n",
              "    .dataframe tbody tr th:only-of-type {\n",
              "        vertical-align: middle;\n",
              "    }\n",
              "\n",
              "    .dataframe tbody tr th {\n",
              "        vertical-align: top;\n",
              "    }\n",
              "\n",
              "    .dataframe thead th {\n",
              "        text-align: right;\n",
              "    }\n",
              "</style>\n",
              "<table border=\"1\" class=\"dataframe\">\n",
              "  <thead>\n",
              "    <tr style=\"text-align: right;\">\n",
              "      <th></th>\n",
              "      <th>mes</th>\n",
              "      <th>dia</th>\n",
              "      <th>dia_sem</th>\n",
              "      <th>hora</th>\n",
              "      <th>g_hora</th>\n",
              "      <th>area</th>\n",
              "      <th>dept</th>\n",
              "      <th>muni</th>\n",
              "      <th>sexo</th>\n",
              "      <th>edad</th>\n",
              "      <th>g_edad</th>\n",
              "      <th>mayor_menor</th>\n",
              "      <th>delito</th>\n",
              "      <th>g_delitos</th>\n",
              "      <th>region</th>\n",
              "    </tr>\n",
              "  </thead>\n",
              "  <tbody>\n",
              "    <tr>\n",
              "      <th>0</th>\n",
              "      <td>1</td>\n",
              "      <td>1</td>\n",
              "      <td>7</td>\n",
              "      <td>3</td>\n",
              "      <td>1</td>\n",
              "      <td>2</td>\n",
              "      <td>1</td>\n",
              "      <td>115</td>\n",
              "      <td>1</td>\n",
              "      <td>22</td>\n",
              "      <td>5</td>\n",
              "      <td>1</td>\n",
              "      <td>69</td>\n",
              "      <td>4</td>\n",
              "      <td>metro</td>\n",
              "    </tr>\n",
              "    <tr>\n",
              "      <th>1</th>\n",
              "      <td>1</td>\n",
              "      <td>1</td>\n",
              "      <td>7</td>\n",
              "      <td>19</td>\n",
              "      <td>4</td>\n",
              "      <td>2</td>\n",
              "      <td>2</td>\n",
              "      <td>207</td>\n",
              "      <td>1</td>\n",
              "      <td>24</td>\n",
              "      <td>5</td>\n",
              "      <td>1</td>\n",
              "      <td>69</td>\n",
              "      <td>4</td>\n",
              "      <td>nor_or</td>\n",
              "    </tr>\n",
              "    <tr>\n",
              "      <th>2</th>\n",
              "      <td>1</td>\n",
              "      <td>2</td>\n",
              "      <td>1</td>\n",
              "      <td>8</td>\n",
              "      <td>2</td>\n",
              "      <td>2</td>\n",
              "      <td>19</td>\n",
              "      <td>1901</td>\n",
              "      <td>1</td>\n",
              "      <td>35</td>\n",
              "      <td>8</td>\n",
              "      <td>1</td>\n",
              "      <td>75</td>\n",
              "      <td>3</td>\n",
              "      <td>nor_or</td>\n",
              "    </tr>\n",
              "    <tr>\n",
              "      <th>3</th>\n",
              "      <td>1</td>\n",
              "      <td>2</td>\n",
              "      <td>1</td>\n",
              "      <td>18</td>\n",
              "      <td>4</td>\n",
              "      <td>1</td>\n",
              "      <td>5</td>\n",
              "      <td>501</td>\n",
              "      <td>1</td>\n",
              "      <td>27</td>\n",
              "      <td>6</td>\n",
              "      <td>1</td>\n",
              "      <td>75</td>\n",
              "      <td>3</td>\n",
              "      <td>central</td>\n",
              "    </tr>\n",
              "    <tr>\n",
              "      <th>4</th>\n",
              "      <td>1</td>\n",
              "      <td>2</td>\n",
              "      <td>1</td>\n",
              "      <td>12</td>\n",
              "      <td>3</td>\n",
              "      <td>2</td>\n",
              "      <td>10</td>\n",
              "      <td>1001</td>\n",
              "      <td>1</td>\n",
              "      <td>62</td>\n",
              "      <td>13</td>\n",
              "      <td>1</td>\n",
              "      <td>75</td>\n",
              "      <td>3</td>\n",
              "      <td>sur_oc</td>\n",
              "    </tr>\n",
              "  </tbody>\n",
              "</table>\n",
              "</div>"
            ],
            "text/plain": [
              "   mes  dia  dia_sem  hora  ...  mayor_menor  delito  g_delitos   region\n",
              "0    1    1        7     3  ...            1      69          4    metro\n",
              "1    1    1        7    19  ...            1      69          4   nor_or\n",
              "2    1    2        1     8  ...            1      75          3   nor_or\n",
              "3    1    2        1    18  ...            1      75          3  central\n",
              "4    1    2        1    12  ...            1      75          3   sur_oc\n",
              "\n",
              "[5 rows x 15 columns]"
            ]
          },
          "metadata": {
            "tags": []
          },
          "execution_count": 7
        }
      ]
    },
    {
      "cell_type": "code",
      "metadata": {
        "id": "87Z8DYELvdAr",
        "colab_type": "code",
        "colab": {}
      },
      "source": [
        "Region_Count_Table = df.region.value_counts()"
      ],
      "execution_count": 0,
      "outputs": []
    },
    {
      "cell_type": "code",
      "metadata": {
        "id": "z35t92VXu-j4",
        "colab_type": "code",
        "outputId": "f5b0efba-fde5-4c3b-d6ab-0b16e719b2af",
        "colab": {
          "base_uri": "https://localhost:8080/",
          "height": 289
        }
      },
      "source": [
        "Region_Count_Table.plot.bar(x='lab', y='val', rot=0)"
      ],
      "execution_count": 9,
      "outputs": [
        {
          "output_type": "execute_result",
          "data": {
            "text/plain": [
              "<matplotlib.axes._subplots.AxesSubplot at 0x7ff376fc3d68>"
            ]
          },
          "metadata": {
            "tags": []
          },
          "execution_count": 9
        },
        {
          "output_type": "display_data",
          "data": {
            "image/png": "[encoded data removed]",
            "text/plain": [
              "<Figure size 432x288 with 1 Axes>"
            ]
          },
          "metadata": {
            "tags": []
          }
        }
      ]
    },
    {
      "cell_type": "markdown",
      "metadata": {
        "id": "lniQaC__0XmO",
        "colab_type": "text"
      },
      "source": [
        "* There are probably more crimes reported in the City because there's more police presence there. Also it is easier to go and report a crime than in the outside. \n",
        "* It is interesting how the North Occidental and North region have almost the same crime.\n"
      ]
    },
    {
      "cell_type": "code",
      "metadata": {
        "id": "xr08sBB17h3-",
        "colab_type": "code",
        "colab": {}
      },
      "source": [
        "ciudad = df.loc[df.dept ==1]"
      ],
      "execution_count": 0,
      "outputs": []
    },
    {
      "cell_type": "code",
      "metadata": {
        "id": "Br2G6e3c7bts",
        "colab_type": "code",
        "outputId": "332c01f7-e236-42bb-d56a-54669a86bad3",
        "colab": {
          "base_uri": "https://localhost:8080/",
          "height": 289
        }
      },
      "source": [
        "Ciudad_Count_Table = ciudad.g_delitos.value_counts()\n",
        "Ciudad_Count_Table.plot.bar(x='lab', y='val', rot=0)"
      ],
      "execution_count": 11,
      "outputs": [
        {
          "output_type": "execute_result",
          "data": {
            "text/plain": [
              "<matplotlib.axes._subplots.AxesSubplot at 0x7ff376f07e80>"
            ]
          },
          "metadata": {
            "tags": []
          },
          "execution_count": 11
        },
        {
          "output_type": "display_data",
          "data": {
            "image/png": "[encoded data removed]",
            "text/plain": [
              "<Figure size 432x288 with 1 Axes>"
            ]
          },
          "metadata": {
            "tags": []
          }
        }
      ]
    },
    {
      "cell_type": "markdown",
      "metadata": {
        "id": "xB_juXP_9WrZ",
        "colab_type": "text"
      },
      "source": [
        "* The crime group are in order of less serious to fatal and worst.\n",
        "\n",
        "[0] Detenciones\n",
        "\n",
        "[1] Crímenes leves\n",
        "\n",
        "[2] Lesiones \n",
        "\n",
        "[3] Hurto leve \n",
        "\n",
        "[4] Robo \n",
        "\n",
        "[5] Extorsión \n",
        "\n",
        "[6] Muerte  \n"
      ]
    },
    {
      "cell_type": "code",
      "metadata": {
        "id": "2n-0hD8Wk86b",
        "colab_type": "code",
        "outputId": "8110065c-189d-4c63-fd52-8cc0a18ea2a0",
        "colab": {
          "base_uri": "https://localhost:8080/",
          "height": 202
        }
      },
      "source": [
        "df.head()"
      ],
      "execution_count": 12,
      "outputs": [
        {
          "output_type": "execute_result",
          "data": {
            "text/html": [
              "<div>\n",
              "<style scoped>\n",
              "    .dataframe tbody tr th:only-of-type {\n",
              "        vertical-align: middle;\n",
              "    }\n",
              "\n",
              "    .dataframe tbody tr th {\n",
              "        vertical-align: top;\n",
              "    }\n",
              "\n",
              "    .dataframe thead th {\n",
              "        text-align: right;\n",
              "    }\n",
              "</style>\n",
              "<table border=\"1\" class=\"dataframe\">\n",
              "  <thead>\n",
              "    <tr style=\"text-align: right;\">\n",
              "      <th></th>\n",
              "      <th>mes</th>\n",
              "      <th>dia</th>\n",
              "      <th>dia_sem</th>\n",
              "      <th>hora</th>\n",
              "      <th>g_hora</th>\n",
              "      <th>area</th>\n",
              "      <th>dept</th>\n",
              "      <th>muni</th>\n",
              "      <th>sexo</th>\n",
              "      <th>edad</th>\n",
              "      <th>g_edad</th>\n",
              "      <th>mayor_menor</th>\n",
              "      <th>delito</th>\n",
              "      <th>g_delitos</th>\n",
              "      <th>region</th>\n",
              "    </tr>\n",
              "  </thead>\n",
              "  <tbody>\n",
              "    <tr>\n",
              "      <th>0</th>\n",
              "      <td>1</td>\n",
              "      <td>1</td>\n",
              "      <td>7</td>\n",
              "      <td>3</td>\n",
              "      <td>1</td>\n",
              "      <td>2</td>\n",
              "      <td>1</td>\n",
              "      <td>115</td>\n",
              "      <td>1</td>\n",
              "      <td>22</td>\n",
              "      <td>5</td>\n",
              "      <td>1</td>\n",
              "      <td>69</td>\n",
              "      <td>4</td>\n",
              "      <td>metro</td>\n",
              "    </tr>\n",
              "    <tr>\n",
              "      <th>1</th>\n",
              "      <td>1</td>\n",
              "      <td>1</td>\n",
              "      <td>7</td>\n",
              "      <td>19</td>\n",
              "      <td>4</td>\n",
              "      <td>2</td>\n",
              "      <td>2</td>\n",
              "      <td>207</td>\n",
              "      <td>1</td>\n",
              "      <td>24</td>\n",
              "      <td>5</td>\n",
              "      <td>1</td>\n",
              "      <td>69</td>\n",
              "      <td>4</td>\n",
              "      <td>nor_or</td>\n",
              "    </tr>\n",
              "    <tr>\n",
              "      <th>2</th>\n",
              "      <td>1</td>\n",
              "      <td>2</td>\n",
              "      <td>1</td>\n",
              "      <td>8</td>\n",
              "      <td>2</td>\n",
              "      <td>2</td>\n",
              "      <td>19</td>\n",
              "      <td>1901</td>\n",
              "      <td>1</td>\n",
              "      <td>35</td>\n",
              "      <td>8</td>\n",
              "      <td>1</td>\n",
              "      <td>75</td>\n",
              "      <td>3</td>\n",
              "      <td>nor_or</td>\n",
              "    </tr>\n",
              "    <tr>\n",
              "      <th>3</th>\n",
              "      <td>1</td>\n",
              "      <td>2</td>\n",
              "      <td>1</td>\n",
              "      <td>18</td>\n",
              "      <td>4</td>\n",
              "      <td>1</td>\n",
              "      <td>5</td>\n",
              "      <td>501</td>\n",
              "      <td>1</td>\n",
              "      <td>27</td>\n",
              "      <td>6</td>\n",
              "      <td>1</td>\n",
              "      <td>75</td>\n",
              "      <td>3</td>\n",
              "      <td>central</td>\n",
              "    </tr>\n",
              "    <tr>\n",
              "      <th>4</th>\n",
              "      <td>1</td>\n",
              "      <td>2</td>\n",
              "      <td>1</td>\n",
              "      <td>12</td>\n",
              "      <td>3</td>\n",
              "      <td>2</td>\n",
              "      <td>10</td>\n",
              "      <td>1001</td>\n",
              "      <td>1</td>\n",
              "      <td>62</td>\n",
              "      <td>13</td>\n",
              "      <td>1</td>\n",
              "      <td>75</td>\n",
              "      <td>3</td>\n",
              "      <td>sur_oc</td>\n",
              "    </tr>\n",
              "  </tbody>\n",
              "</table>\n",
              "</div>"
            ],
            "text/plain": [
              "   mes  dia  dia_sem  hora  ...  mayor_menor  delito  g_delitos   region\n",
              "0    1    1        7     3  ...            1      69          4    metro\n",
              "1    1    1        7    19  ...            1      69          4   nor_or\n",
              "2    1    2        1     8  ...            1      75          3   nor_or\n",
              "3    1    2        1    18  ...            1      75          3  central\n",
              "4    1    2        1    12  ...            1      75          3   sur_oc\n",
              "\n",
              "[5 rows x 15 columns]"
            ]
          },
          "metadata": {
            "tags": []
          },
          "execution_count": 12
        }
      ]
    },
    {
      "cell_type": "code",
      "metadata": {
        "id": "ecjnuSy4lYUE",
        "colab_type": "code",
        "colab": {}
      },
      "source": [
        "fraijanes = ciudad.loc[ciudad.muni ==113]"
      ],
      "execution_count": 0,
      "outputs": []
    },
    {
      "cell_type": "code",
      "metadata": {
        "id": "l7IGwkc0mRy-",
        "colab_type": "code",
        "colab": {}
      },
      "source": [
        "fraijanes.drop(['muni', 'dept', 'region'], axis=1)"
      ],
      "execution_count": 0,
      "outputs": []
    },
    {
      "cell_type": "code",
      "metadata": {
        "id": "HhZKcY-OmyyP",
        "colab_type": "code",
        "colab": {}
      },
      "source": [
        "Fraijanes_mes_Count_Table = fraijanes.mes.value_counts()\n",
        "Fraijanes_dia_sem_Count_Table = fraijanes.dia_sem.value_counts()\n",
        "Fraijanes_g_hora_Count_Table = fraijanes.g_hora.value_counts()\n",
        "Fraijanes_area_Count_Table = fraijanes.area.value_counts()\n",
        "Fraijanes_sexo_Count_Table = fraijanes.sexo.value_counts()\n",
        "Fraijanes_g_edad_Count_Table = fraijanes.g_edad.value_counts()\n",
        "Fraijanes_delito_Count_Table = fraijanes.delito.value_counts()"
      ],
      "execution_count": 0,
      "outputs": []
    },
    {
      "cell_type": "code",
      "metadata": {
        "id": "3r8-umGAnXkt",
        "colab_type": "code",
        "outputId": "7a5b2481-3622-4325-e8ef-869c48532fa5",
        "colab": {
          "base_uri": "https://localhost:8080/",
          "height": 289
        }
      },
      "source": [
        "Fraijanes_mes_Count_Table.plot.bar(x='lab', y='val', rot=0)"
      ],
      "execution_count": 16,
      "outputs": [
        {
          "output_type": "execute_result",
          "data": {
            "text/plain": [
              "<matplotlib.axes._subplots.AxesSubplot at 0x7ff37464d9b0>"
            ]
          },
          "metadata": {
            "tags": []
          },
          "execution_count": 16
        },
        {
          "output_type": "display_data",
          "data": {
            "image/png": "[encoded data removed]",
            "text/plain": [
              "<Figure size 432x288 with 1 Axes>"
            ]
          },
          "metadata": {
            "tags": []
          }
        }
      ]
    },
    {
      "cell_type": "code",
      "metadata": {
        "id": "3a181ncHnl3R",
        "colab_type": "code",
        "outputId": "6920c798-2a62-4291-cf15-120e15d2341e",
        "colab": {
          "base_uri": "https://localhost:8080/",
          "height": 289
        }
      },
      "source": [
        "Fraijanes_dia_sem_Count_Table.plot.bar(x='lab', y='val', rot=0)\n"
      ],
      "execution_count": 17,
      "outputs": [
        {
          "output_type": "execute_result",
          "data": {
            "text/plain": [
              "<matplotlib.axes._subplots.AxesSubplot at 0x7ff374635c18>"
            ]
          },
          "metadata": {
            "tags": []
          },
          "execution_count": 17
        },
        {
          "output_type": "display_data",
          "data": {
            "image/png": "[encoded data removed]",
            "text/plain": [
              "<Figure size 432x288 with 1 Axes>"
            ]
          },
          "metadata": {
            "tags": []
          }
        }
      ]
    },
    {
      "cell_type": "code",
      "metadata": {
        "id": "QPhuRfqfnnEy",
        "colab_type": "code",
        "outputId": "8086642e-12b6-4aae-b01a-ffd0832b3e21",
        "colab": {
          "base_uri": "https://localhost:8080/",
          "height": 288
        }
      },
      "source": [
        "Fraijanes_g_hora_Count_Table.plot.bar(x='lab', y='val', rot=0)\n"
      ],
      "execution_count": 0,
      "outputs": [
        {
          "output_type": "execute_result",
          "data": {
            "text/plain": [
              "<matplotlib.axes._subplots.AxesSubplot at 0x7fe1d7e0b5f8>"
            ]
          },
          "metadata": {
            "tags": []
          },
          "execution_count": 29
        },
        {
          "output_type": "display_data",
          "data": {
            "image/png": "[encoded data removed]",
            "text/plain": [
              "<Figure size 432x288 with 1 Axes>"
            ]
          },
          "metadata": {
            "tags": []
          }
        }
      ]
    },
    {
      "cell_type": "code",
      "metadata": {
        "id": "ymGKI2XwnoM5",
        "colab_type": "code",
        "outputId": "9dca50f1-0e2f-4590-a312-23dd7440f6b5",
        "colab": {
          "base_uri": "https://localhost:8080/",
          "height": 288
        }
      },
      "source": [
        "Fraijanes_area_Count_Table.plot.bar(x='lab', y='val', rot=0)\n"
      ],
      "execution_count": 0,
      "outputs": [
        {
          "output_type": "execute_result",
          "data": {
            "text/plain": [
              "<matplotlib.axes._subplots.AxesSubplot at 0x7fe1d7d24d68>"
            ]
          },
          "metadata": {
            "tags": []
          },
          "execution_count": 30
        },
        {
          "output_type": "display_data",
          "data": {
            "image/png": "[encoded data removed]",
            "text/plain": [
              "<Figure size 432x288 with 1 Axes>"
            ]
          },
          "metadata": {
            "tags": []
          }
        }
      ]
    },
    {
      "cell_type": "code",
      "metadata": {
        "id": "CF7l9xpNnpWD",
        "colab_type": "code",
        "outputId": "66e81585-a0ab-4337-88c8-39eb98b00ee6",
        "colab": {
          "base_uri": "https://localhost:8080/",
          "height": 288
        }
      },
      "source": [
        "Fraijanes_sexo_Count_Table.plot.bar(x='lab', y='val', rot=0)\n"
      ],
      "execution_count": 0,
      "outputs": [
        {
          "output_type": "execute_result",
          "data": {
            "text/plain": [
              "<matplotlib.axes._subplots.AxesSubplot at 0x7fe1d7c89a58>"
            ]
          },
          "metadata": {
            "tags": []
          },
          "execution_count": 31
        },
        {
          "output_type": "display_data",
          "data": {
            "image/png": "[encoded data removed]",
            "text/plain": [
              "<Figure size 432x288 with 1 Axes>"
            ]
          },
          "metadata": {
            "tags": []
          }
        }
      ]
    },
    {
      "cell_type": "code",
      "metadata": {
        "id": "5KfeFDHknqYM",
        "colab_type": "code",
        "outputId": "0bf5adaf-041f-459a-95d6-472a57602b4c",
        "colab": {
          "base_uri": "https://localhost:8080/",
          "height": 288
        }
      },
      "source": [
        "Fraijanes_g_edad_Count_Table.plot.bar(x='lab', y='val', rot=0)\n"
      ],
      "execution_count": 0,
      "outputs": [
        {
          "output_type": "execute_result",
          "data": {
            "text/plain": [
              "<matplotlib.axes._subplots.AxesSubplot at 0x7fe1d7eea2b0>"
            ]
          },
          "metadata": {
            "tags": []
          },
          "execution_count": 32
        },
        {
          "output_type": "display_data",
          "data": {
            "image/png": "[encoded data removed]",
            "text/plain": [
              "<Figure size 432x288 with 1 Axes>"
            ]
          },
          "metadata": {
            "tags": []
          }
        }
      ]
    },
    {
      "cell_type": "code",
      "metadata": {
        "id": "b0e76DZfnrUX",
        "colab_type": "code",
        "outputId": "3c1b5512-e7d6-4604-9596-50c55111b3b7",
        "colab": {
          "base_uri": "https://localhost:8080/",
          "height": 288
        }
      },
      "source": [
        "Fraijanes_delito_Count_Table.plot.bar(x='lab', y='val', rot=0)"
      ],
      "execution_count": 0,
      "outputs": [
        {
          "output_type": "execute_result",
          "data": {
            "text/plain": [
              "<matplotlib.axes._subplots.AxesSubplot at 0x7fe1d7bd4208>"
            ]
          },
          "metadata": {
            "tags": []
          },
          "execution_count": 33
        },
        {
          "output_type": "display_data",
          "data": {
            "image/png": "[encoded data removed]",
            "text/plain": [
              "<Figure size 432x288 with 1 Axes>"
            ]
          },
          "metadata": {
            "tags": []
          }
        }
      ]
    },
    {
      "cell_type": "code",
      "metadata": {
        "id": "0XqGcNSzotry",
        "colab_type": "code",
        "outputId": "289c2a7e-df0e-4fa1-82c1-cdfe4c5e0c85",
        "colab": {
          "base_uri": "https://localhost:8080/",
          "height": 846
        }
      },
      "source": [
        "del_com = Fraijanes_delito_Count_Table.reset_index(name='Delitos en Fraijanes')\n",
        "del_com[\"Delito\"] = ['Homicidio por arma de fuego', 'Desaparecido', 'Robo a residencias', 'Extorsion a comercios', 'Lesiones por armas blanca', 'Lesiones por arma de fuego',\n",
        "                    'Robo de armas de fuego', 'Extorsion a residencias', 'Homicidio por arma contundente', 'Hurto a residencias',\n",
        "                    'Hurto de armas de fuego', 'Robo de vehiculos', 'Lesiones por arma contundente', 'Robo a peatones', 'Otras causas (detenidos)', 'Homicidio por estrangulamiento', 'Hurto a comercios',\n",
        "                    'Robo a comercios', 'Hurto de motocicletas', 'Hurto de vehiculos', 'Homicidio por arma blanca', 'Robo de motocicletas', 'Intento de suicidio por arma de fuego', \n",
        "                    'Robo en iglesias', 'Extorsion a transporte escolar', 'Suicidio por arma blanca']\n",
        "del_com[\"Gravedad\"] = [\"HOMICIDIO\",\"DESAPARICION\",\"ROBO\",\"EXTORSION\",\"LESION\",\"LESION\",\"ROBO\",\"EXTORSION\",\"HOMICIDIO\",\"HURTO\",\"HURTO\",'ROBO','LESION','ROBO','OTRO','HOMICIDIO','HURTO','ROBO','HURTO','HURTO','HOMICIDIO','ROBO','LESION','ROBO','EXTORSION','HOMICIDIO']\n",
        "del_com"
      ],
      "execution_count": 18,
      "outputs": [
        {
          "output_type": "execute_result",
          "data": {
            "text/html": [
              "<div>\n",
              "<style scoped>\n",
              "    .dataframe tbody tr th:only-of-type {\n",
              "        vertical-align: middle;\n",
              "    }\n",
              "\n",
              "    .dataframe tbody tr th {\n",
              "        vertical-align: top;\n",
              "    }\n",
              "\n",
              "    .dataframe thead th {\n",
              "        text-align: right;\n",
              "    }\n",
              "</style>\n",
              "<table border=\"1\" class=\"dataframe\">\n",
              "  <thead>\n",
              "    <tr style=\"text-align: right;\">\n",
              "      <th></th>\n",
              "      <th>index</th>\n",
              "      <th>Delitos en Fraijanes</th>\n",
              "      <th>Delito</th>\n",
              "      <th>Gravedad</th>\n",
              "    </tr>\n",
              "  </thead>\n",
              "  <tbody>\n",
              "    <tr>\n",
              "      <th>0</th>\n",
              "      <td>1</td>\n",
              "      <td>18</td>\n",
              "      <td>Homicidio por arma de fuego</td>\n",
              "      <td>HOMICIDIO</td>\n",
              "    </tr>\n",
              "    <tr>\n",
              "      <th>1</th>\n",
              "      <td>71</td>\n",
              "      <td>13</td>\n",
              "      <td>Desaparecido</td>\n",
              "      <td>DESAPARICION</td>\n",
              "    </tr>\n",
              "    <tr>\n",
              "      <th>2</th>\n",
              "      <td>19</td>\n",
              "      <td>11</td>\n",
              "      <td>Robo a residencias</td>\n",
              "      <td>ROBO</td>\n",
              "    </tr>\n",
              "    <tr>\n",
              "      <th>3</th>\n",
              "      <td>97</td>\n",
              "      <td>9</td>\n",
              "      <td>Extorsion a comercios</td>\n",
              "      <td>EXTORSION</td>\n",
              "    </tr>\n",
              "    <tr>\n",
              "      <th>4</th>\n",
              "      <td>8</td>\n",
              "      <td>8</td>\n",
              "      <td>Lesiones por armas blanca</td>\n",
              "      <td>LESION</td>\n",
              "    </tr>\n",
              "    <tr>\n",
              "      <th>5</th>\n",
              "      <td>7</td>\n",
              "      <td>7</td>\n",
              "      <td>Lesiones por arma de fuego</td>\n",
              "      <td>LESION</td>\n",
              "    </tr>\n",
              "    <tr>\n",
              "      <th>6</th>\n",
              "      <td>69</td>\n",
              "      <td>7</td>\n",
              "      <td>Robo de armas de fuego</td>\n",
              "      <td>ROBO</td>\n",
              "    </tr>\n",
              "    <tr>\n",
              "      <th>7</th>\n",
              "      <td>104</td>\n",
              "      <td>5</td>\n",
              "      <td>Extorsion a residencias</td>\n",
              "      <td>EXTORSION</td>\n",
              "    </tr>\n",
              "    <tr>\n",
              "      <th>8</th>\n",
              "      <td>3</td>\n",
              "      <td>5</td>\n",
              "      <td>Homicidio por arma contundente</td>\n",
              "      <td>HOMICIDIO</td>\n",
              "    </tr>\n",
              "    <tr>\n",
              "      <th>9</th>\n",
              "      <td>81</td>\n",
              "      <td>5</td>\n",
              "      <td>Hurto a residencias</td>\n",
              "      <td>HURTO</td>\n",
              "    </tr>\n",
              "    <tr>\n",
              "      <th>10</th>\n",
              "      <td>75</td>\n",
              "      <td>5</td>\n",
              "      <td>Hurto de armas de fuego</td>\n",
              "      <td>HURTO</td>\n",
              "    </tr>\n",
              "    <tr>\n",
              "      <th>11</th>\n",
              "      <td>22</td>\n",
              "      <td>4</td>\n",
              "      <td>Robo de vehiculos</td>\n",
              "      <td>ROBO</td>\n",
              "    </tr>\n",
              "    <tr>\n",
              "      <th>12</th>\n",
              "      <td>9</td>\n",
              "      <td>4</td>\n",
              "      <td>Lesiones por arma contundente</td>\n",
              "      <td>LESION</td>\n",
              "    </tr>\n",
              "    <tr>\n",
              "      <th>13</th>\n",
              "      <td>30</td>\n",
              "      <td>4</td>\n",
              "      <td>Robo a peatones</td>\n",
              "      <td>ROBO</td>\n",
              "    </tr>\n",
              "    <tr>\n",
              "      <th>14</th>\n",
              "      <td>68</td>\n",
              "      <td>3</td>\n",
              "      <td>Otras causas (detenidos)</td>\n",
              "      <td>OTRO</td>\n",
              "    </tr>\n",
              "    <tr>\n",
              "      <th>15</th>\n",
              "      <td>5</td>\n",
              "      <td>3</td>\n",
              "      <td>Homicidio por estrangulamiento</td>\n",
              "      <td>HOMICIDIO</td>\n",
              "    </tr>\n",
              "    <tr>\n",
              "      <th>16</th>\n",
              "      <td>21</td>\n",
              "      <td>2</td>\n",
              "      <td>Hurto a comercios</td>\n",
              "      <td>HURTO</td>\n",
              "    </tr>\n",
              "    <tr>\n",
              "      <th>17</th>\n",
              "      <td>20</td>\n",
              "      <td>2</td>\n",
              "      <td>Robo a comercios</td>\n",
              "      <td>ROBO</td>\n",
              "    </tr>\n",
              "    <tr>\n",
              "      <th>18</th>\n",
              "      <td>79</td>\n",
              "      <td>2</td>\n",
              "      <td>Hurto de motocicletas</td>\n",
              "      <td>HURTO</td>\n",
              "    </tr>\n",
              "    <tr>\n",
              "      <th>19</th>\n",
              "      <td>83</td>\n",
              "      <td>2</td>\n",
              "      <td>Hurto de vehiculos</td>\n",
              "      <td>HURTO</td>\n",
              "    </tr>\n",
              "    <tr>\n",
              "      <th>20</th>\n",
              "      <td>2</td>\n",
              "      <td>2</td>\n",
              "      <td>Homicidio por arma blanca</td>\n",
              "      <td>HOMICIDIO</td>\n",
              "    </tr>\n",
              "    <tr>\n",
              "      <th>21</th>\n",
              "      <td>24</td>\n",
              "      <td>1</td>\n",
              "      <td>Robo de motocicletas</td>\n",
              "      <td>ROBO</td>\n",
              "    </tr>\n",
              "    <tr>\n",
              "      <th>22</th>\n",
              "      <td>106</td>\n",
              "      <td>1</td>\n",
              "      <td>Intento de suicidio por arma de fuego</td>\n",
              "      <td>LESION</td>\n",
              "    </tr>\n",
              "    <tr>\n",
              "      <th>23</th>\n",
              "      <td>35</td>\n",
              "      <td>1</td>\n",
              "      <td>Robo en iglesias</td>\n",
              "      <td>ROBO</td>\n",
              "    </tr>\n",
              "    <tr>\n",
              "      <th>24</th>\n",
              "      <td>100</td>\n",
              "      <td>1</td>\n",
              "      <td>Extorsion a transporte escolar</td>\n",
              "      <td>EXTORSION</td>\n",
              "    </tr>\n",
              "    <tr>\n",
              "      <th>25</th>\n",
              "      <td>111</td>\n",
              "      <td>1</td>\n",
              "      <td>Suicidio por arma blanca</td>\n",
              "      <td>HOMICIDIO</td>\n",
              "    </tr>\n",
              "  </tbody>\n",
              "</table>\n",
              "</div>"
            ],
            "text/plain": [
              "    index  ...      Gravedad\n",
              "0       1  ...     HOMICIDIO\n",
              "1      71  ...  DESAPARICION\n",
              "2      19  ...          ROBO\n",
              "3      97  ...     EXTORSION\n",
              "4       8  ...        LESION\n",
              "5       7  ...        LESION\n",
              "6      69  ...          ROBO\n",
              "7     104  ...     EXTORSION\n",
              "8       3  ...     HOMICIDIO\n",
              "9      81  ...         HURTO\n",
              "10     75  ...         HURTO\n",
              "11     22  ...          ROBO\n",
              "12      9  ...        LESION\n",
              "13     30  ...          ROBO\n",
              "14     68  ...          OTRO\n",
              "15      5  ...     HOMICIDIO\n",
              "16     21  ...         HURTO\n",
              "17     20  ...          ROBO\n",
              "18     79  ...         HURTO\n",
              "19     83  ...         HURTO\n",
              "20      2  ...     HOMICIDIO\n",
              "21     24  ...          ROBO\n",
              "22    106  ...        LESION\n",
              "23     35  ...          ROBO\n",
              "24    100  ...     EXTORSION\n",
              "25    111  ...     HOMICIDIO\n",
              "\n",
              "[26 rows x 4 columns]"
            ]
          },
          "metadata": {
            "tags": []
          },
          "execution_count": 18
        }
      ]
    },
    {
      "cell_type": "code",
      "metadata": {
        "id": "kQ1jwTKBwdXy",
        "colab_type": "code",
        "outputId": "707c8a03-a9cd-4c79-a85c-6806d4fa0ba5",
        "colab": {
          "base_uri": "https://localhost:8080/",
          "height": 34
        }
      },
      "source": [
        "crimenes_fraijanes = del_com['Delitos en Fraijanes'].sum()\n",
        "crimenes_fraijanes"
      ],
      "execution_count": 19,
      "outputs": [
        {
          "output_type": "execute_result",
          "data": {
            "text/plain": [
              "126"
            ]
          },
          "metadata": {
            "tags": []
          },
          "execution_count": 19
        }
      ]
    },
    {
      "cell_type": "code",
      "metadata": {
        "id": "GupRVCeTwHga",
        "colab_type": "code",
        "colab": {}
      },
      "source": [
        "# Create a list of colors (from iWantHue)\n",
        "colors = [\"#E13F29\", \"#D69A80\", \"#D63B59\", \"#AE5552\", \"#CB5C3B\", \"#EB8076\", \"#96624E\"]\n",
        "\n",
        "# Create a pie chart\n",
        "plt.pie(\n",
        "    # using data total)arrests\n",
        "    del_com['Delitos en Fraijanes'],\n",
        "    # with the labels being officer names\n",
        "    labels=df['Gravedad'],\n",
        "    # with no shadows\n",
        "    shadow=False,\n",
        "    # with colors\n",
        "    colors=colors,\n",
        "    # with the start angle at 90%\n",
        "    startangle=90,\n",
        "    # with the percent listed as a fraction\n",
        "    autopct='%1.1f%%',\n",
        "    )\n",
        "\n",
        "# View the plot drop above\n",
        "plt.axis('equal')\n",
        "\n",
        "# View the plot\n",
        "plt.tight_layout()\n",
        "plt.show()"
      ],
      "execution_count": 0,
      "outputs": []
    },
    {
      "cell_type": "markdown",
      "metadata": {
        "id": "rxjwnm7n34gh",
        "colab_type": "text"
      },
      "source": [
        "## Table for crime index"
      ]
    },
    {
      "cell_type": "code",
      "metadata": {
        "id": "l7K4lbjt34Cv",
        "colab_type": "code",
        "colab": {}
      },
      "source": [
        "number = list(range(1,127))\n",
        "number.remove(13)\n",
        "number.remove(14)\n",
        "number.remove(18)\n",
        "number.remove(57)\n",
        "number.remove(70)\n",
        "number.remove(122)"
      ],
      "execution_count": 0,
      "outputs": []
    },
    {
      "cell_type": "code",
      "metadata": {
        "id": "qCR8CuDc7XIN",
        "colab_type": "code",
        "colab": {}
      },
      "source": [
        "delitos_descr = [\"Homicidio por arma de fuego\", \"Homicidio por arma blanca\", \"Homicidio por arma contundente\", \"Homicidio por artefacto explosivo\",\n",
        "\"Homicidio por estrangulamiento\", \"Homicidio por linchamiento\", \"Lesiones por arma de fuego\", \"Lesiones por arma blanca\", \"Lesiones por arma contundente\", \n",
        "\"Lesiones por artefacto explosivo\", \"Lesiones por linchamiento\", \"Agresión\", \"Secuestro\", \"Autosecuestro\", \"Allanamiento de morada\", \"Robo a residencias\",\n",
        "\"Robo a comercios\", \"Hurto a comercios\", \"Robo de vehículos\", \"Robo de camiones/trailers con mercadería\", \"Robo de motocicletas\", \"Portación ilegal arma de fuego\",\n",
        "\"Portación arma blanca\", \"Robo a bancos\", \"Robos a turistas extranjeros\", \"Robo a turistas nacionales\", \"Robo a peatones\", \"Robo a blindados\", \"Robo a buses urbanos\",\n",
        "\"Robo a buses extraurbanos\", \"Cobro ilegal de impuesto a buses\", \"Robo en iglesias\", \"Otros robos y hurtos\", \"Impuesto a negocios\", \"En desalojos de fincas\",\n",
        "\"En allanamientos judiciales\", \"Extorsión\",\"Portación artefacto explosivo\",\"Tenencia de droga\",\"Tráfico de droga\",\"Siembra y cultivo de drogas\",\n",
        "\"Delitos forestales\",\"Cohecho\",\"Orden de captura\",\"Riña\",\"Daños\",\"Ebriedad y escándalo\",\"Escándalo bajo efectos de droga\",\"Responsabilidad de conductores\",\n",
        "\"Accidente de tránsito\",\"Indocumentados extranjeros (remitidos)\",\"Estafa\",\"Perversión de menores\",\"Contrabando\",\"Disparos\",\"Falsificación de documentos\",\n",
        "\"Falsificación de moneda\",\"Disturbios\",\"Tenencia de licores clandestirnos\",\"Rapto\",\"Actos inmorales en la vía pública\",\"Maltrato infantil\",\"Juegos ilícitos\",\n",
        "\"Otras causas (detenidos)\",\"Robo de armas de fuego\",\"Desaparecidos\",\"Extravío de armas de fuego\",\"Robo a microbuses extraurbanos\",\"Robo a microbuses urbanos\",\n",
        "\"Hurto de armas de fuego\",\"Hurto a buses extraurbanos\",\"Hurto a buses urbanos\",\"Hurto a iglesias\",\"Hurto de motocicletas\",\"Hurto a peatones\",\n",
        "\"Hurto a residencias\",\"Hurto a turistas extranjeros\",\"Hurto de vehículos\",\"Violación\",\"Robo a bus\",\"Intento de suicidio por arma blanca\",\n",
        "\"Suicidio por arma de fuego\",\"Suicidio por asfixia\",\"Suicidio por intoxicación de insecticida\",\"Intento de suicidio por intoxicación de medicamentos\",\n",
        "\"Suicidio por otras intoxicaciones\",\"Suicidio por politraumatismo\",\"Suicidio por intoxicación de envenenamiento\",\"Extorsión a buses extraurbanos\",\n",
        "\"Extorsión a buses urbanos\",\"Extorsión a centro educativo\",\"Extorsión a comercios\",\"Extorsión a municipalidad\",\"Extorsión a taxis\",\"Extorsión a transporte escolar\",\n",
        "\"Extorsión a transporte pesado\",\"Extorsión a mototaxis\",\"Extorsión a iglesias\",\"Extorsión a residencias\",\"Otras extorsiones\",\"Intento de suicidio por arma de fuego\",\n",
        "\"Intento de suicidio por asfixia\",\"Intento de suicidio por intoxicación de insecticida\",\"Intento de suicidio por otras intoxicaciones\",\"Intento de suicidio por politraumatismo\",\"Suicidio por arma blanca\",\n",
        "\"Intento de suicidio por intoxiación de envenenamiento\",\"Suicidio por intoxicación de medicamentos\",\"Extorsión a instituciones\",\"Hurto a bancos\",\n",
        "\"Suicidio por causa ignorada\",\"Intento de suicidio por quemadura\",\"Armas incautadas\",\"Intento de suicidio por intoxicación alcohólica\",\"Suicidio por intoxicación alcohólica\",\n",
        "\"Intento de suicidio por causa ignorada\",\"Intento de suicidio por arma contundente\",\"Motos recuperadas\",\"Vehículos recuperados\",\"Lesiones por vapuleo\"]"
      ],
      "execution_count": 0,
      "outputs": []
    },
    {
      "cell_type": "code",
      "metadata": {
        "id": "mtAyx9_-5_Bx",
        "colab_type": "code",
        "colab": {}
      },
      "source": [
        "data = {'index':number, 'Delitos':delitos_descr} \n",
        "\n",
        "# Create DataFrame \n",
        "descrip = pd.DataFrame(data)\n",
        "del_coms = pd.DataFrame(del_com)"
      ],
      "execution_count": 0,
      "outputs": []
    },
    {
      "cell_type": "code",
      "metadata": {
        "id": "OECujKEWHCL9",
        "colab_type": "code",
        "colab": {}
      },
      "source": [
        "df_outer = pd.merge(del_com, descrip, on='index', how='outer')"
      ],
      "execution_count": 0,
      "outputs": []
    },
    {
      "cell_type": "code",
      "metadata": {
        "id": "MXJ6ZFXjHvEQ",
        "colab_type": "code",
        "colab": {
          "base_uri": "https://localhost:8080/",
          "height": 1000
        },
        "outputId": "1fb1a61f-1de1-4518-8785-bef5258a5e51"
      },
      "source": [
        "df_outer.dropna()"
      ],
      "execution_count": 56,
      "outputs": [
        {
          "output_type": "execute_result",
          "data": {
            "text/html": [
              "<div>\n",
              "<style scoped>\n",
              "    .dataframe tbody tr th:only-of-type {\n",
              "        vertical-align: middle;\n",
              "    }\n",
              "\n",
              "    .dataframe tbody tr th {\n",
              "        vertical-align: top;\n",
              "    }\n",
              "\n",
              "    .dataframe thead th {\n",
              "        text-align: right;\n",
              "    }\n",
              "</style>\n",
              "<table border=\"1\" class=\"dataframe\">\n",
              "  <thead>\n",
              "    <tr style=\"text-align: right;\">\n",
              "      <th></th>\n",
              "      <th>index</th>\n",
              "      <th>Delitos en Mixco</th>\n",
              "      <th>Delitos</th>\n",
              "    </tr>\n",
              "  </thead>\n",
              "  <tbody>\n",
              "    <tr>\n",
              "      <th>0</th>\n",
              "      <td>7</td>\n",
              "      <td>264.0</td>\n",
              "      <td>Lesiones por arma de fuego</td>\n",
              "    </tr>\n",
              "    <tr>\n",
              "      <th>1</th>\n",
              "      <td>97</td>\n",
              "      <td>219.0</td>\n",
              "      <td>Extorsión a comercios</td>\n",
              "    </tr>\n",
              "    <tr>\n",
              "      <th>2</th>\n",
              "      <td>71</td>\n",
              "      <td>203.0</td>\n",
              "      <td>Desaparecidos</td>\n",
              "    </tr>\n",
              "    <tr>\n",
              "      <th>3</th>\n",
              "      <td>1</td>\n",
              "      <td>187.0</td>\n",
              "      <td>Homicidio por arma de fuego</td>\n",
              "    </tr>\n",
              "    <tr>\n",
              "      <th>4</th>\n",
              "      <td>83</td>\n",
              "      <td>156.0</td>\n",
              "      <td>Hurto de vehículos</td>\n",
              "    </tr>\n",
              "    <tr>\n",
              "      <th>5</th>\n",
              "      <td>104</td>\n",
              "      <td>142.0</td>\n",
              "      <td>Extorsión a residencias</td>\n",
              "    </tr>\n",
              "    <tr>\n",
              "      <th>6</th>\n",
              "      <td>79</td>\n",
              "      <td>102.0</td>\n",
              "      <td>Hurto de motocicletas</td>\n",
              "    </tr>\n",
              "    <tr>\n",
              "      <th>7</th>\n",
              "      <td>24</td>\n",
              "      <td>83.0</td>\n",
              "      <td>Robo de motocicletas</td>\n",
              "    </tr>\n",
              "    <tr>\n",
              "      <th>8</th>\n",
              "      <td>8</td>\n",
              "      <td>66.0</td>\n",
              "      <td>Lesiones por arma blanca</td>\n",
              "    </tr>\n",
              "    <tr>\n",
              "      <th>9</th>\n",
              "      <td>68</td>\n",
              "      <td>55.0</td>\n",
              "      <td>Otras causas (detenidos)</td>\n",
              "    </tr>\n",
              "    <tr>\n",
              "      <th>10</th>\n",
              "      <td>22</td>\n",
              "      <td>40.0</td>\n",
              "      <td>Robo de vehículos</td>\n",
              "    </tr>\n",
              "    <tr>\n",
              "      <th>11</th>\n",
              "      <td>30</td>\n",
              "      <td>34.0</td>\n",
              "      <td>Robo a peatones</td>\n",
              "    </tr>\n",
              "    <tr>\n",
              "      <th>12</th>\n",
              "      <td>75</td>\n",
              "      <td>34.0</td>\n",
              "      <td>Hurto de armas de fuego</td>\n",
              "    </tr>\n",
              "    <tr>\n",
              "      <th>13</th>\n",
              "      <td>9</td>\n",
              "      <td>27.0</td>\n",
              "      <td>Lesiones por arma contundente</td>\n",
              "    </tr>\n",
              "    <tr>\n",
              "      <th>14</th>\n",
              "      <td>19</td>\n",
              "      <td>27.0</td>\n",
              "      <td>Robo a residencias</td>\n",
              "    </tr>\n",
              "    <tr>\n",
              "      <th>15</th>\n",
              "      <td>81</td>\n",
              "      <td>22.0</td>\n",
              "      <td>Hurto a residencias</td>\n",
              "    </tr>\n",
              "    <tr>\n",
              "      <th>16</th>\n",
              "      <td>20</td>\n",
              "      <td>20.0</td>\n",
              "      <td>Robo a comercios</td>\n",
              "    </tr>\n",
              "    <tr>\n",
              "      <th>17</th>\n",
              "      <td>21</td>\n",
              "      <td>15.0</td>\n",
              "      <td>Hurto a comercios</td>\n",
              "    </tr>\n",
              "    <tr>\n",
              "      <th>18</th>\n",
              "      <td>69</td>\n",
              "      <td>12.0</td>\n",
              "      <td>Robo de armas de fuego</td>\n",
              "    </tr>\n",
              "    <tr>\n",
              "      <th>19</th>\n",
              "      <td>88</td>\n",
              "      <td>11.0</td>\n",
              "      <td>Suicidio por asfixia</td>\n",
              "    </tr>\n",
              "    <tr>\n",
              "      <th>20</th>\n",
              "      <td>3</td>\n",
              "      <td>9.0</td>\n",
              "      <td>Homicidio por arma contundente</td>\n",
              "    </tr>\n",
              "    <tr>\n",
              "      <th>21</th>\n",
              "      <td>5</td>\n",
              "      <td>8.0</td>\n",
              "      <td>Homicidio por estrangulamiento</td>\n",
              "    </tr>\n",
              "    <tr>\n",
              "      <th>22</th>\n",
              "      <td>95</td>\n",
              "      <td>6.0</td>\n",
              "      <td>Extorsión a buses urbanos</td>\n",
              "    </tr>\n",
              "    <tr>\n",
              "      <th>23</th>\n",
              "      <td>96</td>\n",
              "      <td>6.0</td>\n",
              "      <td>Extorsión a centro educativo</td>\n",
              "    </tr>\n",
              "    <tr>\n",
              "      <th>24</th>\n",
              "      <td>2</td>\n",
              "      <td>4.0</td>\n",
              "      <td>Homicidio por arma blanca</td>\n",
              "    </tr>\n",
              "    <tr>\n",
              "      <th>25</th>\n",
              "      <td>99</td>\n",
              "      <td>3.0</td>\n",
              "      <td>Extorsión a taxis</td>\n",
              "    </tr>\n",
              "    <tr>\n",
              "      <th>26</th>\n",
              "      <td>87</td>\n",
              "      <td>3.0</td>\n",
              "      <td>Suicidio por arma de fuego</td>\n",
              "    </tr>\n",
              "    <tr>\n",
              "      <th>27</th>\n",
              "      <td>32</td>\n",
              "      <td>2.0</td>\n",
              "      <td>Robo a buses urbanos</td>\n",
              "    </tr>\n",
              "    <tr>\n",
              "      <th>28</th>\n",
              "      <td>94</td>\n",
              "      <td>2.0</td>\n",
              "      <td>Extorsión a buses extraurbanos</td>\n",
              "    </tr>\n",
              "    <tr>\n",
              "      <th>29</th>\n",
              "      <td>92</td>\n",
              "      <td>2.0</td>\n",
              "      <td>Suicidio por politraumatismo</td>\n",
              "    </tr>\n",
              "    <tr>\n",
              "      <th>30</th>\n",
              "      <td>78</td>\n",
              "      <td>2.0</td>\n",
              "      <td>Hurto a iglesias</td>\n",
              "    </tr>\n",
              "    <tr>\n",
              "      <th>31</th>\n",
              "      <td>4</td>\n",
              "      <td>1.0</td>\n",
              "      <td>Homicidio por artefacto explosivo</td>\n",
              "    </tr>\n",
              "    <tr>\n",
              "      <th>32</th>\n",
              "      <td>106</td>\n",
              "      <td>1.0</td>\n",
              "      <td>Intento de suicidio por arma de fuego</td>\n",
              "    </tr>\n",
              "    <tr>\n",
              "      <th>33</th>\n",
              "      <td>101</td>\n",
              "      <td>1.0</td>\n",
              "      <td>Extorsión a transporte pesado</td>\n",
              "    </tr>\n",
              "    <tr>\n",
              "      <th>34</th>\n",
              "      <td>10</td>\n",
              "      <td>1.0</td>\n",
              "      <td>Lesiones por artefacto explosivo</td>\n",
              "    </tr>\n",
              "    <tr>\n",
              "      <th>35</th>\n",
              "      <td>35</td>\n",
              "      <td>1.0</td>\n",
              "      <td>Robo en iglesias</td>\n",
              "    </tr>\n",
              "    <tr>\n",
              "      <th>36</th>\n",
              "      <td>111</td>\n",
              "      <td>1.0</td>\n",
              "      <td>Suicidio por arma blanca</td>\n",
              "    </tr>\n",
              "    <tr>\n",
              "      <th>37</th>\n",
              "      <td>72</td>\n",
              "      <td>1.0</td>\n",
              "      <td>Extravío de armas de fuego</td>\n",
              "    </tr>\n",
              "    <tr>\n",
              "      <th>38</th>\n",
              "      <td>86</td>\n",
              "      <td>1.0</td>\n",
              "      <td>Intento de suicidio por arma blanca</td>\n",
              "    </tr>\n",
              "    <tr>\n",
              "      <th>39</th>\n",
              "      <td>116</td>\n",
              "      <td>1.0</td>\n",
              "      <td>Suicidio por causa ignorada</td>\n",
              "    </tr>\n",
              "  </tbody>\n",
              "</table>\n",
              "</div>"
            ],
            "text/plain": [
              "    index  Delitos en Mixco                                Delitos\n",
              "0       7             264.0             Lesiones por arma de fuego\n",
              "1      97             219.0                  Extorsión a comercios\n",
              "2      71             203.0                          Desaparecidos\n",
              "3       1             187.0            Homicidio por arma de fuego\n",
              "4      83             156.0                     Hurto de vehículos\n",
              "5     104             142.0                Extorsión a residencias\n",
              "6      79             102.0                  Hurto de motocicletas\n",
              "7      24              83.0                   Robo de motocicletas\n",
              "8       8              66.0               Lesiones por arma blanca\n",
              "9      68              55.0               Otras causas (detenidos)\n",
              "10     22              40.0                      Robo de vehículos\n",
              "11     30              34.0                        Robo a peatones\n",
              "12     75              34.0                Hurto de armas de fuego\n",
              "13      9              27.0          Lesiones por arma contundente\n",
              "14     19              27.0                     Robo a residencias\n",
              "15     81              22.0                    Hurto a residencias\n",
              "16     20              20.0                       Robo a comercios\n",
              "17     21              15.0                      Hurto a comercios\n",
              "18     69              12.0                 Robo de armas de fuego\n",
              "19     88              11.0                   Suicidio por asfixia\n",
              "20      3               9.0         Homicidio por arma contundente\n",
              "21      5               8.0         Homicidio por estrangulamiento\n",
              "22     95               6.0              Extorsión a buses urbanos\n",
              "23     96               6.0           Extorsión a centro educativo\n",
              "24      2               4.0              Homicidio por arma blanca\n",
              "25     99               3.0                      Extorsión a taxis\n",
              "26     87               3.0             Suicidio por arma de fuego\n",
              "27     32               2.0                   Robo a buses urbanos\n",
              "28     94               2.0         Extorsión a buses extraurbanos\n",
              "29     92               2.0           Suicidio por politraumatismo\n",
              "30     78               2.0                       Hurto a iglesias\n",
              "31      4               1.0      Homicidio por artefacto explosivo\n",
              "32    106               1.0  Intento de suicidio por arma de fuego\n",
              "33    101               1.0          Extorsión a transporte pesado\n",
              "34     10               1.0       Lesiones por artefacto explosivo\n",
              "35     35               1.0                       Robo en iglesias\n",
              "36    111               1.0               Suicidio por arma blanca\n",
              "37     72               1.0             Extravío de armas de fuego\n",
              "38     86               1.0    Intento de suicidio por arma blanca\n",
              "39    116               1.0            Suicidio por causa ignorada"
            ]
          },
          "metadata": {
            "tags": []
          },
          "execution_count": 56
        }
      ]
    },
    {
      "cell_type": "code",
      "metadata": {
        "id": "F29q2rmKoDXj",
        "colab_type": "code",
        "colab": {
          "base_uri": "https://localhost:8080/",
          "height": 1000
        },
        "outputId": "471dc043-c02c-4536-c557-a83eb235a4e0"
      },
      "source": [
        "mixco = ciudad.loc[ciudad.muni ==108]\n",
        "mixco_delito_Count_Table = mixco.delito.value_counts()\n",
        "del_com = mixco_delito_Count_Table.reset_index(name='Delitos en Mixco')\n",
        "del_com"
      ],
      "execution_count": 24,
      "outputs": [
        {
          "output_type": "execute_result",
          "data": {
            "text/html": [
              "<div>\n",
              "<style scoped>\n",
              "    .dataframe tbody tr th:only-of-type {\n",
              "        vertical-align: middle;\n",
              "    }\n",
              "\n",
              "    .dataframe tbody tr th {\n",
              "        vertical-align: top;\n",
              "    }\n",
              "\n",
              "    .dataframe thead th {\n",
              "        text-align: right;\n",
              "    }\n",
              "</style>\n",
              "<table border=\"1\" class=\"dataframe\">\n",
              "  <thead>\n",
              "    <tr style=\"text-align: right;\">\n",
              "      <th></th>\n",
              "      <th>index</th>\n",
              "      <th>Delitos en Mixco</th>\n",
              "    </tr>\n",
              "  </thead>\n",
              "  <tbody>\n",
              "    <tr>\n",
              "      <th>0</th>\n",
              "      <td>7</td>\n",
              "      <td>264</td>\n",
              "    </tr>\n",
              "    <tr>\n",
              "      <th>1</th>\n",
              "      <td>97</td>\n",
              "      <td>219</td>\n",
              "    </tr>\n",
              "    <tr>\n",
              "      <th>2</th>\n",
              "      <td>71</td>\n",
              "      <td>203</td>\n",
              "    </tr>\n",
              "    <tr>\n",
              "      <th>3</th>\n",
              "      <td>1</td>\n",
              "      <td>187</td>\n",
              "    </tr>\n",
              "    <tr>\n",
              "      <th>4</th>\n",
              "      <td>83</td>\n",
              "      <td>156</td>\n",
              "    </tr>\n",
              "    <tr>\n",
              "      <th>5</th>\n",
              "      <td>104</td>\n",
              "      <td>142</td>\n",
              "    </tr>\n",
              "    <tr>\n",
              "      <th>6</th>\n",
              "      <td>79</td>\n",
              "      <td>102</td>\n",
              "    </tr>\n",
              "    <tr>\n",
              "      <th>7</th>\n",
              "      <td>24</td>\n",
              "      <td>83</td>\n",
              "    </tr>\n",
              "    <tr>\n",
              "      <th>8</th>\n",
              "      <td>8</td>\n",
              "      <td>66</td>\n",
              "    </tr>\n",
              "    <tr>\n",
              "      <th>9</th>\n",
              "      <td>68</td>\n",
              "      <td>55</td>\n",
              "    </tr>\n",
              "    <tr>\n",
              "      <th>10</th>\n",
              "      <td>22</td>\n",
              "      <td>40</td>\n",
              "    </tr>\n",
              "    <tr>\n",
              "      <th>11</th>\n",
              "      <td>30</td>\n",
              "      <td>34</td>\n",
              "    </tr>\n",
              "    <tr>\n",
              "      <th>12</th>\n",
              "      <td>75</td>\n",
              "      <td>34</td>\n",
              "    </tr>\n",
              "    <tr>\n",
              "      <th>13</th>\n",
              "      <td>9</td>\n",
              "      <td>27</td>\n",
              "    </tr>\n",
              "    <tr>\n",
              "      <th>14</th>\n",
              "      <td>19</td>\n",
              "      <td>27</td>\n",
              "    </tr>\n",
              "    <tr>\n",
              "      <th>15</th>\n",
              "      <td>81</td>\n",
              "      <td>22</td>\n",
              "    </tr>\n",
              "    <tr>\n",
              "      <th>16</th>\n",
              "      <td>20</td>\n",
              "      <td>20</td>\n",
              "    </tr>\n",
              "    <tr>\n",
              "      <th>17</th>\n",
              "      <td>21</td>\n",
              "      <td>15</td>\n",
              "    </tr>\n",
              "    <tr>\n",
              "      <th>18</th>\n",
              "      <td>69</td>\n",
              "      <td>12</td>\n",
              "    </tr>\n",
              "    <tr>\n",
              "      <th>19</th>\n",
              "      <td>88</td>\n",
              "      <td>11</td>\n",
              "    </tr>\n",
              "    <tr>\n",
              "      <th>20</th>\n",
              "      <td>3</td>\n",
              "      <td>9</td>\n",
              "    </tr>\n",
              "    <tr>\n",
              "      <th>21</th>\n",
              "      <td>5</td>\n",
              "      <td>8</td>\n",
              "    </tr>\n",
              "    <tr>\n",
              "      <th>22</th>\n",
              "      <td>95</td>\n",
              "      <td>6</td>\n",
              "    </tr>\n",
              "    <tr>\n",
              "      <th>23</th>\n",
              "      <td>96</td>\n",
              "      <td>6</td>\n",
              "    </tr>\n",
              "    <tr>\n",
              "      <th>24</th>\n",
              "      <td>2</td>\n",
              "      <td>4</td>\n",
              "    </tr>\n",
              "    <tr>\n",
              "      <th>25</th>\n",
              "      <td>99</td>\n",
              "      <td>3</td>\n",
              "    </tr>\n",
              "    <tr>\n",
              "      <th>26</th>\n",
              "      <td>87</td>\n",
              "      <td>3</td>\n",
              "    </tr>\n",
              "    <tr>\n",
              "      <th>27</th>\n",
              "      <td>32</td>\n",
              "      <td>2</td>\n",
              "    </tr>\n",
              "    <tr>\n",
              "      <th>28</th>\n",
              "      <td>94</td>\n",
              "      <td>2</td>\n",
              "    </tr>\n",
              "    <tr>\n",
              "      <th>29</th>\n",
              "      <td>92</td>\n",
              "      <td>2</td>\n",
              "    </tr>\n",
              "    <tr>\n",
              "      <th>30</th>\n",
              "      <td>78</td>\n",
              "      <td>2</td>\n",
              "    </tr>\n",
              "    <tr>\n",
              "      <th>31</th>\n",
              "      <td>4</td>\n",
              "      <td>1</td>\n",
              "    </tr>\n",
              "    <tr>\n",
              "      <th>32</th>\n",
              "      <td>106</td>\n",
              "      <td>1</td>\n",
              "    </tr>\n",
              "    <tr>\n",
              "      <th>33</th>\n",
              "      <td>101</td>\n",
              "      <td>1</td>\n",
              "    </tr>\n",
              "    <tr>\n",
              "      <th>34</th>\n",
              "      <td>10</td>\n",
              "      <td>1</td>\n",
              "    </tr>\n",
              "    <tr>\n",
              "      <th>35</th>\n",
              "      <td>35</td>\n",
              "      <td>1</td>\n",
              "    </tr>\n",
              "    <tr>\n",
              "      <th>36</th>\n",
              "      <td>111</td>\n",
              "      <td>1</td>\n",
              "    </tr>\n",
              "    <tr>\n",
              "      <th>37</th>\n",
              "      <td>72</td>\n",
              "      <td>1</td>\n",
              "    </tr>\n",
              "    <tr>\n",
              "      <th>38</th>\n",
              "      <td>86</td>\n",
              "      <td>1</td>\n",
              "    </tr>\n",
              "    <tr>\n",
              "      <th>39</th>\n",
              "      <td>116</td>\n",
              "      <td>1</td>\n",
              "    </tr>\n",
              "  </tbody>\n",
              "</table>\n",
              "</div>"
            ],
            "text/plain": [
              "    index  Delitos en Mixco\n",
              "0       7               264\n",
              "1      97               219\n",
              "2      71               203\n",
              "3       1               187\n",
              "4      83               156\n",
              "5     104               142\n",
              "6      79               102\n",
              "7      24                83\n",
              "8       8                66\n",
              "9      68                55\n",
              "10     22                40\n",
              "11     30                34\n",
              "12     75                34\n",
              "13      9                27\n",
              "14     19                27\n",
              "15     81                22\n",
              "16     20                20\n",
              "17     21                15\n",
              "18     69                12\n",
              "19     88                11\n",
              "20      3                 9\n",
              "21      5                 8\n",
              "22     95                 6\n",
              "23     96                 6\n",
              "24      2                 4\n",
              "25     99                 3\n",
              "26     87                 3\n",
              "27     32                 2\n",
              "28     94                 2\n",
              "29     92                 2\n",
              "30     78                 2\n",
              "31      4                 1\n",
              "32    106                 1\n",
              "33    101                 1\n",
              "34     10                 1\n",
              "35     35                 1\n",
              "36    111                 1\n",
              "37     72                 1\n",
              "38     86                 1\n",
              "39    116                 1"
            ]
          },
          "metadata": {
            "tags": []
          },
          "execution_count": 24
        }
      ]
    },
    {
      "cell_type": "code",
      "metadata": {
        "id": "_Nza2BTx3psD",
        "colab_type": "code",
        "colab": {}
      },
      "source": [
        "del_com[\"Delito\"] = ['Homicidio por arma de fuego', 'Desaparecido', 'Robo a residencias', 'Extorsion a comercios', 'Lesiones por armas blanca', 'Lesiones por arma de fuego',\n",
        "                    'Robo de armas de fuego', 'Extorsion a residencias', 'Homicidio por arma contundente', 'Hurto a residencias',\n",
        "                    'Hurto de armas de fuego', 'Robo de vehiculos', 'Lesiones por arma contundente', 'Robo a peatones', 'Otras causas (detenidos)', 'Homicidio por estrangulamiento', 'Hurto a comercios',\n",
        "                    'Robo a comercios', 'Hurto de motocicletas', 'Hurto de vehiculos', 'Homicidio por arma blanca', 'Robo de motocicletas', 'Intento de suicidio por arma de fuego', \n",
        "                    'Robo en iglesias', 'Extorsion a transporte escolar', 'Suicidio por arma blanca']\n",
        "del_com[\"Gravedad\"] = [\"HOMICIDIO\",\"DESAPARICION\",\"ROBO\",\"EXTORSION\",\"LESION\",\"LESION\",\"ROBO\",\"EXTORSION\",\"HOMICIDIO\",\"HURTO\",\"HURTO\",'ROBO','LESION','ROBO','OTRO','HOMICIDIO','HURTO','ROBO','HURTO','HURTO','HOMICIDIO','ROBO','LESION','ROBO','EXTORSION','HOMICIDIO']\n",
        "del_com"
      ],
      "execution_count": 0,
      "outputs": []
    }
  ]
}