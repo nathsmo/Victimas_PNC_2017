{
  "nbformat": 4,
  "nbformat_minor": 0,
  "metadata": {
    "colab": {
      "name": "Procesamiento2.ipynb",
      "version": "0.3.2",
      "provenance": [],
      "include_colab_link": true
    },
    "kernelspec": {
      "name": "python3",
      "display_name": "Python 3"
    }
  },
  "cells": [
    {
      "cell_type": "markdown",
      "metadata": {
        "id": "view-in-github",
        "colab_type": "text"
      },
      "source": [
        "<a href=\"https://colab.research.google.com/github/nathsmo/Victimas_PNC_2017/blob/master/Procesamiento2.ipynb\" target=\"_parent\"><img src=\"https://colab.research.google.com/assets/colab-badge.svg\" alt=\"Open In Colab\"/></a>"
      ]
    },
    {
      "cell_type": "markdown",
      "metadata": {
        "id": "ekaLAFtPTqxy",
        "colab_type": "text"
      },
      "source": [
        "# Segundo Procesamiento de datos\n",
        "\n",
        "* Segundo análisis creado a partir de una investigación personal después de la clase y entrega original del proyecto."
      ]
    },
    {
      "cell_type": "markdown",
      "metadata": {
        "id": "uNY1R_jiUrzA",
        "colab_type": "text"
      },
      "source": [
        "## Importar librerias"
      ]
    },
    {
      "cell_type": "code",
      "metadata": {
        "id": "KHwlk_AvUr7Q",
        "colab_type": "code",
        "colab": {}
      },
      "source": [
        "%matplotlib inline\n",
        "from sklearn import metrics\n",
        "import pandas as pd\n",
        "import numpy as np  \n",
        "import matplotlib.pyplot as plt  \n",
        "from pandas import DataFrame\n",
        "import statsmodels.api as sm\n",
        "import seaborn as sns\n",
        "import scipy.stats as stats\n",
        "import sklearn\n",
        "import matplotlib\n",
        "matplotlib.rcParams.update({'font.size': 12})"
      ],
      "execution_count": 0,
      "outputs": []
    },
    {
      "cell_type": "markdown",
      "metadata": {
        "id": "hzGlrj_GUFes",
        "colab_type": "text"
      },
      "source": [
        "## Importando CSV"
      ]
    },
    {
      "cell_type": "code",
      "metadata": {
        "id": "Mnnr1EjWTmnq",
        "colab_type": "code",
        "outputId": "beed8b82-2f7f-4652-ce46-32a16f923dfb",
        "colab": {
          "resources": {
            "http://localhost:8080/nbextensions/google.colab/files.js": {
              "data": "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",
              "ok": true,
              "headers": [
                [
                  "content-type",
                  "application/javascript"
                ]
              ],
              "status": 200,
              "status_text": ""
            }
          },
          "base_uri": "https://localhost:8080/",
          "height": 71
        }
      },
      "source": [
        "from google.colab import files\n",
        "uploaded = files.upload()"
      ],
      "execution_count": 2,
      "outputs": [
        {
          "output_type": "display_data",
          "data": {
            "text/html": [
              "\n",
              "     <input type=\"file\" id=\"files-6e2b7c2a-cf61-4c30-8dd1-b59f50f33ec7\" name=\"files[]\" multiple disabled />\n",
              "     <output id=\"result-6e2b7c2a-cf61-4c30-8dd1-b59f50f33ec7\">\n",
              "      Upload widget is only available when the cell has been executed in the\n",
              "      current browser session. Please rerun this cell to enable.\n",
              "      </output>\n",
              "      <script src=\"/nbextensions/google.colab/files.js\"></script> "
            ],
            "text/plain": [
              "<IPython.core.display.HTML object>"
            ]
          },
          "metadata": {
            "tags": []
          }
        },
        {
          "output_type": "stream",
          "text": [
            "Saving vic_final.csv to vic_final.csv\n"
          ],
          "name": "stdout"
        }
      ]
    },
    {
      "cell_type": "code",
      "metadata": {
        "id": "YxBE95p9UZEv",
        "colab_type": "code",
        "colab": {}
      },
      "source": [
        "df = pd.read_csv('vic_final.csv')\n",
        "df.drop(u'Unnamed: 0', axis=1, inplace=True)# irrelevante"
      ],
      "execution_count": 0,
      "outputs": []
    },
    {
      "cell_type": "markdown",
      "metadata": {
        "id": "B_mcE5oTUz6w",
        "colab_type": "text"
      },
      "source": [
        "## División de regiones de la data\n",
        "\n",
        "\n",
        "* Reference for dividing the regions: https://aprende.guatemala.com/historia/geografia/regiones-de-guatemala/"
      ]
    },
    {
      "cell_type": "markdown",
      "metadata": {
        "id": "JERGoFdBXxvv",
        "colab_type": "text"
      },
      "source": [
        "### Departamentos segun código\n",
        "\n",
        "| Codigo  | Departamento      |\n",
        "|----|----------------|\n",
        "| 1  | Guatemala      |\n",
        "| 2  | El Progreso    |\n",
        "| 3  | Sacatepéquez   |\n",
        "| 4  | Chimaltenango  |\n",
        "| 5  | Escuintla      |\n",
        "| 6  | Santa Rosa     |\n",
        "| 7  | Sololá         |\n",
        "| 8  | Totonicapán    |\n",
        "| 9  | Quetzaltenango |\n",
        "| 10 | Suchitepéquez  |\n",
        "| 11 | Retalhuleu     |\n",
        "| 12 | San Marcos     |\n",
        "| 13 | Huehuetenango  |\n",
        "| 14 | Quiché         |\n",
        "| 15 | Baja Verapaz   |\n",
        "| 16 | Alta Verapaz   |\n",
        "| 17 | Petén          |\n",
        "| 18 | Izabal         |\n",
        "| 19 | Zacapa         |\n",
        "| 20 | Chiquimula     |\n",
        "| 21 | Jalapa         |\n",
        "| 22 | Jutiapa        |\n"
      ]
    },
    {
      "cell_type": "code",
      "metadata": {
        "id": "BuLF9FjnqUxq",
        "colab_type": "code",
        "colab": {}
      },
      "source": [
        "metro = [1]\n",
        "norte = [15, 16]\n",
        "nor_or = [18, 19, 2, 20]\n",
        "sur_or = [21, 22, 6]\n",
        "central = [4, 3, 5]\n",
        "sur_oc = [12, 11, 9, 8, 7, 10]\n",
        "nor_oc = [13, 14]\n",
        "peten = [17]\n",
        "\n",
        "reg = []"
      ],
      "execution_count": 0,
      "outputs": []
    },
    {
      "cell_type": "code",
      "metadata": {
        "id": "qXoLN5T1jLMa",
        "colab_type": "code",
        "colab": {}
      },
      "source": [
        "for i in df['dept']:\n",
        "    if i in metro:\n",
        "        reg.append(\"metro\")\n",
        "    elif i in norte:\n",
        "        reg.append(\"norte\")\n",
        "    elif i in nor_or:\n",
        "        reg.append(\"nor_or\")    \n",
        "    elif i in sur_or:\n",
        "        reg.append(\"sur_or\")    \n",
        "    elif i in central:\n",
        "        reg.append(\"central\") \n",
        "    elif i in sur_oc:\n",
        "        reg.append(\"sur_oc\")    \n",
        "    elif i in nor_oc:\n",
        "        reg.append(\"nor_oc\")\n",
        "    elif i in peten:\n",
        "        reg.append(\"peten\")"
      ],
      "execution_count": 0,
      "outputs": []
    },
    {
      "cell_type": "code",
      "metadata": {
        "id": "F5EhIF7mtGQb",
        "colab_type": "code",
        "colab": {}
      },
      "source": [
        "df['region'] = reg"
      ],
      "execution_count": 0,
      "outputs": []
    },
    {
      "cell_type": "code",
      "metadata": {
        "id": "UTbMKnl0tB9I",
        "colab_type": "code",
        "outputId": "88e3e741-6e83-4856-da79-7721d3afd92c",
        "colab": {
          "base_uri": "https://localhost:8080/",
          "height": 204
        }
      },
      "source": [
        "df.head()"
      ],
      "execution_count": 32,
      "outputs": [
        {
          "output_type": "execute_result",
          "data": {
            "text/html": [
              "<div>\n",
              "<style scoped>\n",
              "    .dataframe tbody tr th:only-of-type {\n",
              "        vertical-align: middle;\n",
              "    }\n",
              "\n",
              "    .dataframe tbody tr th {\n",
              "        vertical-align: top;\n",
              "    }\n",
              "\n",
              "    .dataframe thead th {\n",
              "        text-align: right;\n",
              "    }\n",
              "</style>\n",
              "<table border=\"1\" class=\"dataframe\">\n",
              "  <thead>\n",
              "    <tr style=\"text-align: right;\">\n",
              "      <th></th>\n",
              "      <th>mes</th>\n",
              "      <th>dia</th>\n",
              "      <th>dia_sem</th>\n",
              "      <th>hora</th>\n",
              "      <th>g_hora</th>\n",
              "      <th>area</th>\n",
              "      <th>dept</th>\n",
              "      <th>muni</th>\n",
              "      <th>sexo</th>\n",
              "      <th>edad</th>\n",
              "      <th>g_edad</th>\n",
              "      <th>mayor_menor</th>\n",
              "      <th>delito</th>\n",
              "      <th>g_delitos</th>\n",
              "      <th>region</th>\n",
              "    </tr>\n",
              "  </thead>\n",
              "  <tbody>\n",
              "    <tr>\n",
              "      <th>0</th>\n",
              "      <td>1</td>\n",
              "      <td>1</td>\n",
              "      <td>7</td>\n",
              "      <td>3</td>\n",
              "      <td>1</td>\n",
              "      <td>2</td>\n",
              "      <td>1</td>\n",
              "      <td>115</td>\n",
              "      <td>1</td>\n",
              "      <td>22</td>\n",
              "      <td>5</td>\n",
              "      <td>1</td>\n",
              "      <td>69</td>\n",
              "      <td>4</td>\n",
              "      <td>metro</td>\n",
              "    </tr>\n",
              "    <tr>\n",
              "      <th>1</th>\n",
              "      <td>1</td>\n",
              "      <td>1</td>\n",
              "      <td>7</td>\n",
              "      <td>19</td>\n",
              "      <td>4</td>\n",
              "      <td>2</td>\n",
              "      <td>2</td>\n",
              "      <td>207</td>\n",
              "      <td>1</td>\n",
              "      <td>24</td>\n",
              "      <td>5</td>\n",
              "      <td>1</td>\n",
              "      <td>69</td>\n",
              "      <td>4</td>\n",
              "      <td>nor_or</td>\n",
              "    </tr>\n",
              "    <tr>\n",
              "      <th>2</th>\n",
              "      <td>1</td>\n",
              "      <td>2</td>\n",
              "      <td>1</td>\n",
              "      <td>8</td>\n",
              "      <td>2</td>\n",
              "      <td>2</td>\n",
              "      <td>19</td>\n",
              "      <td>1901</td>\n",
              "      <td>1</td>\n",
              "      <td>35</td>\n",
              "      <td>8</td>\n",
              "      <td>1</td>\n",
              "      <td>75</td>\n",
              "      <td>3</td>\n",
              "      <td>nor_or</td>\n",
              "    </tr>\n",
              "    <tr>\n",
              "      <th>3</th>\n",
              "      <td>1</td>\n",
              "      <td>2</td>\n",
              "      <td>1</td>\n",
              "      <td>18</td>\n",
              "      <td>4</td>\n",
              "      <td>1</td>\n",
              "      <td>5</td>\n",
              "      <td>501</td>\n",
              "      <td>1</td>\n",
              "      <td>27</td>\n",
              "      <td>6</td>\n",
              "      <td>1</td>\n",
              "      <td>75</td>\n",
              "      <td>3</td>\n",
              "      <td>central</td>\n",
              "    </tr>\n",
              "    <tr>\n",
              "      <th>4</th>\n",
              "      <td>1</td>\n",
              "      <td>2</td>\n",
              "      <td>1</td>\n",
              "      <td>12</td>\n",
              "      <td>3</td>\n",
              "      <td>2</td>\n",
              "      <td>10</td>\n",
              "      <td>1001</td>\n",
              "      <td>1</td>\n",
              "      <td>62</td>\n",
              "      <td>13</td>\n",
              "      <td>1</td>\n",
              "      <td>75</td>\n",
              "      <td>3</td>\n",
              "      <td>sur_oc</td>\n",
              "    </tr>\n",
              "  </tbody>\n",
              "</table>\n",
              "</div>"
            ],
            "text/plain": [
              "   mes  dia  dia_sem  hora  ...  mayor_menor  delito  g_delitos   region\n",
              "0    1    1        7     3  ...            1      69          4    metro\n",
              "1    1    1        7    19  ...            1      69          4   nor_or\n",
              "2    1    2        1     8  ...            1      75          3   nor_or\n",
              "3    1    2        1    18  ...            1      75          3  central\n",
              "4    1    2        1    12  ...            1      75          3   sur_oc\n",
              "\n",
              "[5 rows x 15 columns]"
            ]
          },
          "metadata": {
            "tags": []
          },
          "execution_count": 32
        }
      ]
    },
    {
      "cell_type": "code",
      "metadata": {
        "id": "87Z8DYELvdAr",
        "colab_type": "code",
        "colab": {}
      },
      "source": [
        "Region_Count_Table = df.region.value_counts()"
      ],
      "execution_count": 0,
      "outputs": []
    },
    {
      "cell_type": "code",
      "metadata": {
        "id": "z35t92VXu-j4",
        "colab_type": "code",
        "outputId": "9da44807-5f0b-40c0-c6f5-af48176e20e0",
        "colab": {
          "base_uri": "https://localhost:8080/",
          "height": 318
        }
      },
      "source": [
        "Region_Count_Table.plot.bar(x='lab', y='val')"
      ],
      "execution_count": 10,
      "outputs": [
        {
          "output_type": "execute_result",
          "data": {
            "text/plain": [
              "<matplotlib.axes._subplots.AxesSubplot at 0x7efbd323a470>"
            ]
          },
          "metadata": {
            "tags": []
          },
          "execution_count": 10
        },
        {
          "output_type": "display_data",
          "data": {
            "image/png": "[encoded data removed]",
            "text/plain": [
              "<Figure size 432x288 with 1 Axes>"
            ]
          },
          "metadata": {
            "tags": []
          }
        }
      ]
    },
    {
      "cell_type": "markdown",
      "metadata": {
        "id": "lniQaC__0XmO",
        "colab_type": "text"
      },
      "source": [
        "* There are probably more crimes reported in the City because there's more police presence there. Also it is easier to go and report a crime than in the outside. \n",
        "* It is interesting how the North Occidental and North region have almost the same crime.\n"
      ]
    },
    {
      "cell_type": "markdown",
      "metadata": {
        "id": "xB_juXP_9WrZ",
        "colab_type": "text"
      },
      "source": [
        "* The crime group are in order of less serious to fatal and worst.\n",
        "\n",
        "[0] Detenciones\n",
        "\n",
        "[1] Crímenes leves\n",
        "\n",
        "[2] Lesiones \n",
        "\n",
        "[3] Hurto leve \n",
        "\n",
        "[4] Robo \n",
        "\n",
        "[5] Extorsión \n",
        "\n",
        "[6] Muerte  \n"
      ]
    },
    {
      "cell_type": "markdown",
      "metadata": {
        "id": "geZwCe2PJvf0",
        "colab_type": "text"
      },
      "source": [
        "## Division of crimes on the city"
      ]
    },
    {
      "cell_type": "code",
      "metadata": {
        "id": "xr08sBB17h3-",
        "colab_type": "code",
        "colab": {}
      },
      "source": [
        "ciudad = df.loc[df.dept ==1]"
      ],
      "execution_count": 0,
      "outputs": []
    },
    {
      "cell_type": "code",
      "metadata": {
        "id": "Br2G6e3c7bts",
        "colab_type": "code",
        "outputId": "104d5625-d799-44c0-a865-362b89a3d600",
        "colab": {
          "base_uri": "https://localhost:8080/",
          "height": 289
        }
      },
      "source": [
        "Ciudad_Count_Table = ciudad.g_delitos.value_counts()\n",
        "Ciudad_Count_Table.plot.bar(x='lab', y='val', rot=0)"
      ],
      "execution_count": 12,
      "outputs": [
        {
          "output_type": "execute_result",
          "data": {
            "text/plain": [
              "<matplotlib.axes._subplots.AxesSubplot at 0x7efbd5a9c358>"
            ]
          },
          "metadata": {
            "tags": []
          },
          "execution_count": 12
        },
        {
          "output_type": "display_data",
          "data": {
            "image/png": "[encoded data removed]",
            "text/plain": [
              "<Figure size 432x288 with 1 Axes>"
            ]
          },
          "metadata": {
            "tags": []
          }
        }
      ]
    },
    {
      "cell_type": "markdown",
      "metadata": {
        "id": "-0n9yUicKKfH",
        "colab_type": "text"
      },
      "source": [
        "## Division of crimes in Fraijanes\n"
      ]
    },
    {
      "cell_type": "code",
      "metadata": {
        "id": "ecjnuSy4lYUE",
        "colab_type": "code",
        "colab": {}
      },
      "source": [
        "fraijanes = ciudad.loc[ciudad.muni ==113]\n",
        "#fraijanes.drop(['muni', 'dept', 'region'], axis=1)"
      ],
      "execution_count": 0,
      "outputs": []
    },
    {
      "cell_type": "markdown",
      "metadata": {
        "id": "GIgrrWDbN6mj",
        "colab_type": "text"
      },
      "source": [
        "### Creation of different Counting Tables"
      ]
    },
    {
      "cell_type": "code",
      "metadata": {
        "id": "HhZKcY-OmyyP",
        "colab_type": "code",
        "colab": {}
      },
      "source": [
        "Fraijanes_mes_Count_Table = fraijanes.mes.value_counts()\n",
        "Fraijanes_dia_sem_Count_Table = fraijanes.dia_sem.value_counts()\n",
        "Fraijanes_g_hora_Count_Table = fraijanes.g_hora.value_counts()\n",
        "Fraijanes_area_Count_Table = fraijanes.area.value_counts()\n",
        "Fraijanes_sexo_Count_Table = fraijanes.sexo.value_counts()\n",
        "Fraijanes_g_edad_Count_Table = fraijanes.g_edad.value_counts()\n",
        "Fraijanes_delito_Count_Table = fraijanes.delito.value_counts()"
      ],
      "execution_count": 0,
      "outputs": []
    },
    {
      "cell_type": "code",
      "metadata": {
        "id": "3r8-umGAnXkt",
        "colab_type": "code",
        "colab": {
          "base_uri": "https://localhost:8080/",
          "height": 289
        },
        "outputId": "685d747a-fa51-41cb-c23f-33d49a656873"
      },
      "source": [
        "Fraijanes_mes_Count_Table.plot.bar(x='lab', y='val', rot=0)"
      ],
      "execution_count": 16,
      "outputs": [
        {
          "output_type": "execute_result",
          "data": {
            "text/plain": [
              "<matplotlib.axes._subplots.AxesSubplot at 0x7efbd30e16a0>"
            ]
          },
          "metadata": {
            "tags": []
          },
          "execution_count": 16
        },
        {
          "output_type": "display_data",
          "data": {
            "image/png": "[encoded data removed]",
            "text/plain": [
              "<Figure size 432x288 with 1 Axes>"
            ]
          },
          "metadata": {
            "tags": []
          }
        }
      ]
    },
    {
      "cell_type": "code",
      "metadata": {
        "id": "3a181ncHnl3R",
        "colab_type": "code",
        "colab": {}
      },
      "source": [
        "Fraijanes_dia_sem_Count_Table.plot.bar(x='lab', y='val', rot=0)"
      ],
      "execution_count": 0,
      "outputs": []
    },
    {
      "cell_type": "code",
      "metadata": {
        "id": "QPhuRfqfnnEy",
        "colab_type": "code",
        "colab": {}
      },
      "source": [
        "Fraijanes_g_hora_Count_Table.plot.bar(x='lab', y='val', rot=0)"
      ],
      "execution_count": 0,
      "outputs": []
    },
    {
      "cell_type": "code",
      "metadata": {
        "id": "ymGKI2XwnoM5",
        "colab_type": "code",
        "colab": {}
      },
      "source": [
        "Fraijanes_area_Count_Table.plot.bar(x='lab', y='val', rot=0)"
      ],
      "execution_count": 0,
      "outputs": []
    },
    {
      "cell_type": "code",
      "metadata": {
        "id": "CF7l9xpNnpWD",
        "colab_type": "code",
        "colab": {}
      },
      "source": [
        "Fraijanes_sexo_Count_Table.plot.bar(x='lab', y='val', rot=0)"
      ],
      "execution_count": 0,
      "outputs": []
    },
    {
      "cell_type": "code",
      "metadata": {
        "id": "5KfeFDHknqYM",
        "colab_type": "code",
        "colab": {}
      },
      "source": [
        "Fraijanes_g_edad_Count_Table.plot.bar(x='lab', y='val', rot=0)"
      ],
      "execution_count": 0,
      "outputs": []
    },
    {
      "cell_type": "code",
      "metadata": {
        "id": "b0e76DZfnrUX",
        "colab_type": "code",
        "colab": {}
      },
      "source": [
        "Fraijanes_delito_Count_Table.plot.bar(x='lab', y='val', rot=0)"
      ],
      "execution_count": 0,
      "outputs": []
    },
    {
      "cell_type": "markdown",
      "metadata": {
        "id": "lG4mE9eTKVX6",
        "colab_type": "text"
      },
      "source": [
        "## Funcion para identificacion de los crimenes dentro de un area"
      ]
    },
    {
      "cell_type": "code",
      "metadata": {
        "id": "0XqGcNSzotry",
        "colab_type": "code",
        "outputId": "74e11eb4-1c14-49ae-e2de-70f8f618c750",
        "colab": {
          "base_uri": "https://localhost:8080/",
          "height": 855
        }
      },
      "source": [
        "del_com = Fraijanes_delito_Count_Table.reset_index(name='Delitos en Fraijanes')\n",
        "del_com[\"Delito\"] = ['Homicidio por arma de fuego', 'Desaparecido', 'Robo a residencias', 'Extorsion a comercios', 'Lesiones por armas blanca', 'Lesiones por arma de fuego',\n",
        "                    'Robo de armas de fuego', 'Extorsion a residencias', 'Homicidio por arma contundente', 'Hurto a residencias',\n",
        "                    'Hurto de armas de fuego', 'Robo de vehiculos', 'Lesiones por arma contundente', 'Robo a peatones', 'Otras causas (detenidos)', 'Homicidio por estrangulamiento', 'Hurto a comercios',\n",
        "                    'Robo a comercios', 'Hurto de motocicletas', 'Hurto de vehiculos', 'Homicidio por arma blanca', 'Robo de motocicletas', 'Intento de suicidio por arma de fuego', \n",
        "                    'Robo en iglesias', 'Extorsion a transporte escolar', 'Suicidio por arma blanca']\n",
        "del_com[\"Gravedad\"] = [\"HOMICIDIO\",\"DESAPARICION\",\"ROBO\",\"EXTORSION\",\"LESION\",\"LESION\",\"ROBO\",\"EXTORSION\",\"HOMICIDIO\",\"HURTO\",\"HURTO\",'ROBO','LESION','ROBO','OTRO','HOMICIDIO','HURTO','ROBO','HURTO','HURTO','HOMICIDIO','ROBO','LESION','ROBO','EXTORSION','HOMICIDIO']\n",
        "del_com"
      ],
      "execution_count": 17,
      "outputs": [
        {
          "output_type": "execute_result",
          "data": {
            "text/html": [
              "<div>\n",
              "<style scoped>\n",
              "    .dataframe tbody tr th:only-of-type {\n",
              "        vertical-align: middle;\n",
              "    }\n",
              "\n",
              "    .dataframe tbody tr th {\n",
              "        vertical-align: top;\n",
              "    }\n",
              "\n",
              "    .dataframe thead th {\n",
              "        text-align: right;\n",
              "    }\n",
              "</style>\n",
              "<table border=\"1\" class=\"dataframe\">\n",
              "  <thead>\n",
              "    <tr style=\"text-align: right;\">\n",
              "      <th></th>\n",
              "      <th>index</th>\n",
              "      <th>Delitos en Fraijanes</th>\n",
              "      <th>Delito</th>\n",
              "      <th>Gravedad</th>\n",
              "    </tr>\n",
              "  </thead>\n",
              "  <tbody>\n",
              "    <tr>\n",
              "      <th>0</th>\n",
              "      <td>1</td>\n",
              "      <td>18</td>\n",
              "      <td>Homicidio por arma de fuego</td>\n",
              "      <td>HOMICIDIO</td>\n",
              "    </tr>\n",
              "    <tr>\n",
              "      <th>1</th>\n",
              "      <td>71</td>\n",
              "      <td>13</td>\n",
              "      <td>Desaparecido</td>\n",
              "      <td>DESAPARICION</td>\n",
              "    </tr>\n",
              "    <tr>\n",
              "      <th>2</th>\n",
              "      <td>19</td>\n",
              "      <td>11</td>\n",
              "      <td>Robo a residencias</td>\n",
              "      <td>ROBO</td>\n",
              "    </tr>\n",
              "    <tr>\n",
              "      <th>3</th>\n",
              "      <td>97</td>\n",
              "      <td>9</td>\n",
              "      <td>Extorsion a comercios</td>\n",
              "      <td>EXTORSION</td>\n",
              "    </tr>\n",
              "    <tr>\n",
              "      <th>4</th>\n",
              "      <td>8</td>\n",
              "      <td>8</td>\n",
              "      <td>Lesiones por armas blanca</td>\n",
              "      <td>LESION</td>\n",
              "    </tr>\n",
              "    <tr>\n",
              "      <th>5</th>\n",
              "      <td>7</td>\n",
              "      <td>7</td>\n",
              "      <td>Lesiones por arma de fuego</td>\n",
              "      <td>LESION</td>\n",
              "    </tr>\n",
              "    <tr>\n",
              "      <th>6</th>\n",
              "      <td>69</td>\n",
              "      <td>7</td>\n",
              "      <td>Robo de armas de fuego</td>\n",
              "      <td>ROBO</td>\n",
              "    </tr>\n",
              "    <tr>\n",
              "      <th>7</th>\n",
              "      <td>104</td>\n",
              "      <td>5</td>\n",
              "      <td>Extorsion a residencias</td>\n",
              "      <td>EXTORSION</td>\n",
              "    </tr>\n",
              "    <tr>\n",
              "      <th>8</th>\n",
              "      <td>3</td>\n",
              "      <td>5</td>\n",
              "      <td>Homicidio por arma contundente</td>\n",
              "      <td>HOMICIDIO</td>\n",
              "    </tr>\n",
              "    <tr>\n",
              "      <th>9</th>\n",
              "      <td>81</td>\n",
              "      <td>5</td>\n",
              "      <td>Hurto a residencias</td>\n",
              "      <td>HURTO</td>\n",
              "    </tr>\n",
              "    <tr>\n",
              "      <th>10</th>\n",
              "      <td>75</td>\n",
              "      <td>5</td>\n",
              "      <td>Hurto de armas de fuego</td>\n",
              "      <td>HURTO</td>\n",
              "    </tr>\n",
              "    <tr>\n",
              "      <th>11</th>\n",
              "      <td>22</td>\n",
              "      <td>4</td>\n",
              "      <td>Robo de vehiculos</td>\n",
              "      <td>ROBO</td>\n",
              "    </tr>\n",
              "    <tr>\n",
              "      <th>12</th>\n",
              "      <td>9</td>\n",
              "      <td>4</td>\n",
              "      <td>Lesiones por arma contundente</td>\n",
              "      <td>LESION</td>\n",
              "    </tr>\n",
              "    <tr>\n",
              "      <th>13</th>\n",
              "      <td>30</td>\n",
              "      <td>4</td>\n",
              "      <td>Robo a peatones</td>\n",
              "      <td>ROBO</td>\n",
              "    </tr>\n",
              "    <tr>\n",
              "      <th>14</th>\n",
              "      <td>68</td>\n",
              "      <td>3</td>\n",
              "      <td>Otras causas (detenidos)</td>\n",
              "      <td>OTRO</td>\n",
              "    </tr>\n",
              "    <tr>\n",
              "      <th>15</th>\n",
              "      <td>5</td>\n",
              "      <td>3</td>\n",
              "      <td>Homicidio por estrangulamiento</td>\n",
              "      <td>HOMICIDIO</td>\n",
              "    </tr>\n",
              "    <tr>\n",
              "      <th>16</th>\n",
              "      <td>21</td>\n",
              "      <td>2</td>\n",
              "      <td>Hurto a comercios</td>\n",
              "      <td>HURTO</td>\n",
              "    </tr>\n",
              "    <tr>\n",
              "      <th>17</th>\n",
              "      <td>20</td>\n",
              "      <td>2</td>\n",
              "      <td>Robo a comercios</td>\n",
              "      <td>ROBO</td>\n",
              "    </tr>\n",
              "    <tr>\n",
              "      <th>18</th>\n",
              "      <td>79</td>\n",
              "      <td>2</td>\n",
              "      <td>Hurto de motocicletas</td>\n",
              "      <td>HURTO</td>\n",
              "    </tr>\n",
              "    <tr>\n",
              "      <th>19</th>\n",
              "      <td>83</td>\n",
              "      <td>2</td>\n",
              "      <td>Hurto de vehiculos</td>\n",
              "      <td>HURTO</td>\n",
              "    </tr>\n",
              "    <tr>\n",
              "      <th>20</th>\n",
              "      <td>2</td>\n",
              "      <td>2</td>\n",
              "      <td>Homicidio por arma blanca</td>\n",
              "      <td>HOMICIDIO</td>\n",
              "    </tr>\n",
              "    <tr>\n",
              "      <th>21</th>\n",
              "      <td>24</td>\n",
              "      <td>1</td>\n",
              "      <td>Robo de motocicletas</td>\n",
              "      <td>ROBO</td>\n",
              "    </tr>\n",
              "    <tr>\n",
              "      <th>22</th>\n",
              "      <td>106</td>\n",
              "      <td>1</td>\n",
              "      <td>Intento de suicidio por arma de fuego</td>\n",
              "      <td>LESION</td>\n",
              "    </tr>\n",
              "    <tr>\n",
              "      <th>23</th>\n",
              "      <td>35</td>\n",
              "      <td>1</td>\n",
              "      <td>Robo en iglesias</td>\n",
              "      <td>ROBO</td>\n",
              "    </tr>\n",
              "    <tr>\n",
              "      <th>24</th>\n",
              "      <td>100</td>\n",
              "      <td>1</td>\n",
              "      <td>Extorsion a transporte escolar</td>\n",
              "      <td>EXTORSION</td>\n",
              "    </tr>\n",
              "    <tr>\n",
              "      <th>25</th>\n",
              "      <td>111</td>\n",
              "      <td>1</td>\n",
              "      <td>Suicidio por arma blanca</td>\n",
              "      <td>HOMICIDIO</td>\n",
              "    </tr>\n",
              "  </tbody>\n",
              "</table>\n",
              "</div>"
            ],
            "text/plain": [
              "    index  ...      Gravedad\n",
              "0       1  ...     HOMICIDIO\n",
              "1      71  ...  DESAPARICION\n",
              "2      19  ...          ROBO\n",
              "3      97  ...     EXTORSION\n",
              "4       8  ...        LESION\n",
              "5       7  ...        LESION\n",
              "6      69  ...          ROBO\n",
              "7     104  ...     EXTORSION\n",
              "8       3  ...     HOMICIDIO\n",
              "9      81  ...         HURTO\n",
              "10     75  ...         HURTO\n",
              "11     22  ...          ROBO\n",
              "12      9  ...        LESION\n",
              "13     30  ...          ROBO\n",
              "14     68  ...          OTRO\n",
              "15      5  ...     HOMICIDIO\n",
              "16     21  ...         HURTO\n",
              "17     20  ...          ROBO\n",
              "18     79  ...         HURTO\n",
              "19     83  ...         HURTO\n",
              "20      2  ...     HOMICIDIO\n",
              "21     24  ...          ROBO\n",
              "22    106  ...        LESION\n",
              "23     35  ...          ROBO\n",
              "24    100  ...     EXTORSION\n",
              "25    111  ...     HOMICIDIO\n",
              "\n",
              "[26 rows x 4 columns]"
            ]
          },
          "metadata": {
            "tags": []
          },
          "execution_count": 17
        }
      ]
    },
    {
      "cell_type": "code",
      "metadata": {
        "id": "kQ1jwTKBwdXy",
        "colab_type": "code",
        "colab": {}
      },
      "source": [
        "crimenes_fraijanes = del_com['Delitos en Fraijanes'].sum()\n",
        "crimenes_fraijanes"
      ],
      "execution_count": 0,
      "outputs": []
    },
    {
      "cell_type": "markdown",
      "metadata": {
        "id": "rxjwnm7n34gh",
        "colab_type": "text"
      },
      "source": [
        "## Table for crime index"
      ]
    },
    {
      "cell_type": "markdown",
      "metadata": {
        "id": "ZFiijNJ6KkOH",
        "colab_type": "text"
      },
      "source": [
        "### Creation of the lists of crimes"
      ]
    },
    {
      "cell_type": "code",
      "metadata": {
        "id": "l7K4lbjt34Cv",
        "colab_type": "code",
        "colab": {}
      },
      "source": [
        "number = list(range(1,127))\n",
        "number.remove(13)\n",
        "number.remove(14)\n",
        "number.remove(18)\n",
        "number.remove(57)\n",
        "number.remove(70)\n",
        "number.remove(122)"
      ],
      "execution_count": 0,
      "outputs": []
    },
    {
      "cell_type": "code",
      "metadata": {
        "id": "qCR8CuDc7XIN",
        "colab_type": "code",
        "colab": {}
      },
      "source": [
        "delitos_descr = [\"Homicidio por arma de fuego\", \"Homicidio por arma blanca\", \"Homicidio por arma contundente\", \"Homicidio por artefacto explosivo\",\n",
        "\"Homicidio por estrangulamiento\", \"Homicidio por linchamiento\", \"Lesiones por arma de fuego\", \"Lesiones por arma blanca\", \"Lesiones por arma contundente\", \n",
        "\"Lesiones por artefacto explosivo\", \"Lesiones por linchamiento\", \"Agresión\", \"Secuestro\", \"Autosecuestro\", \"Allanamiento de morada\", \"Robo a residencias\",\n",
        "\"Robo a comercios\", \"Hurto a comercios\", \"Robo de vehículos\", \"Robo de camiones/trailers con mercadería\", \"Robo de motocicletas\", \"Portación ilegal arma de fuego\",\n",
        "\"Portación arma blanca\", \"Robo a bancos\", \"Robos a turistas extranjeros\", \"Robo a turistas nacionales\", \"Robo a peatones\", \"Robo a blindados\", \"Robo a buses urbanos\",\n",
        "\"Robo a buses extraurbanos\", \"Cobro ilegal de impuesto a buses\", \"Robo en iglesias\", \"Otros robos y hurtos\", \"Impuesto a negocios\", \"En desalojos de fincas\",\n",
        "\"En allanamientos judiciales\", \"Extorsión\",\"Portación artefacto explosivo\",\"Tenencia de droga\",\"Tráfico de droga\",\"Siembra y cultivo de drogas\",\n",
        "\"Delitos forestales\",\"Cohecho\",\"Orden de captura\",\"Riña\",\"Daños\",\"Ebriedad y escándalo\",\"Escándalo bajo efectos de droga\",\"Responsabilidad de conductores\",\n",
        "\"Accidente de tránsito\",\"Indocumentados extranjeros (remitidos)\",\"Estafa\",\"Perversión de menores\",\"Contrabando\",\"Disparos\",\"Falsificación de documentos\",\n",
        "\"Falsificación de moneda\",\"Disturbios\",\"Tenencia de licores clandestirnos\",\"Rapto\",\"Actos inmorales en la vía pública\",\"Maltrato infantil\",\"Juegos ilícitos\",\n",
        "\"Otras causas (detenidos)\",\"Robo de armas de fuego\",\"Desaparecidos\",\"Extravío de armas de fuego\",\"Robo a microbuses extraurbanos\",\"Robo a microbuses urbanos\",\n",
        "\"Hurto de armas de fuego\",\"Hurto a buses extraurbanos\",\"Hurto a buses urbanos\",\"Hurto a iglesias\",\"Hurto de motocicletas\",\"Hurto a peatones\",\n",
        "\"Hurto a residencias\",\"Hurto a turistas extranjeros\",\"Hurto de vehículos\",\"Violación\",\"Robo a bus\",\"Intento de suicidio por arma blanca\",\n",
        "\"Suicidio por arma de fuego\",\"Suicidio por asfixia\",\"Suicidio por intoxicación de insecticida\",\"Intento de suicidio por intoxicación de medicamentos\",\n",
        "\"Suicidio por otras intoxicaciones\",\"Suicidio por politraumatismo\",\"Suicidio por intoxicación de envenenamiento\",\"Extorsión a buses extraurbanos\",\n",
        "\"Extorsión a buses urbanos\",\"Extorsión a centro educativo\",\"Extorsión a comercios\",\"Extorsión a municipalidad\",\"Extorsión a taxis\",\"Extorsión a transporte escolar\",\n",
        "\"Extorsión a transporte pesado\",\"Extorsión a mototaxis\",\"Extorsión a iglesias\",\"Extorsión a residencias\",\"Otras extorsiones\",\"Intento de suicidio por arma de fuego\",\n",
        "\"Intento de suicidio por asfixia\",\"Intento de suicidio por intoxicación de insecticida\",\"Intento de suicidio por otras intoxicaciones\",\"Intento de suicidio por politraumatismo\",\"Suicidio por arma blanca\",\n",
        "\"Intento de suicidio por intoxiación de envenenamiento\",\"Suicidio por intoxicación de medicamentos\",\"Extorsión a instituciones\",\"Hurto a bancos\",\n",
        "\"Suicidio por causa ignorada\",\"Intento de suicidio por quemadura\",\"Armas incautadas\",\"Intento de suicidio por intoxicación alcohólica\",\"Suicidio por intoxicación alcohólica\",\n",
        "\"Intento de suicidio por causa ignorada\",\"Intento de suicidio por arma contundente\",\"Motos recuperadas\",\"Vehículos recuperados\",\"Lesiones por vapuleo\"]"
      ],
      "execution_count": 0,
      "outputs": []
    },
    {
      "cell_type": "code",
      "metadata": {
        "id": "6eCwymaTNIZr",
        "colab_type": "code",
        "colab": {}
      },
      "source": [
        "data = {'index':number, 'Delitos':delitos_descr} "
      ],
      "execution_count": 0,
      "outputs": []
    },
    {
      "cell_type": "markdown",
      "metadata": {
        "id": "GJ64dxeoNjNA",
        "colab_type": "text"
      },
      "source": [
        "## Analysis of municipio"
      ]
    },
    {
      "cell_type": "markdown",
      "metadata": {
        "id": "k5mfHxHvNLxS",
        "colab_type": "text"
      },
      "source": [
        "### Creation of dataframe for analysis"
      ]
    },
    {
      "cell_type": "code",
      "metadata": {
        "id": "mtAyx9_-5_Bx",
        "colab_type": "code",
        "colab": {}
      },
      "source": [
        "# Create DataFrame \n",
        "\n",
        "descrip = pd.DataFrame(data)\n",
        "ciudad = df.loc[df.dept ==1]\n",
        "muni = ciudad.loc[ciudad.muni ==113]\n",
        "delito_Count_Table = muni.delito.value_counts()\n",
        "del_com = delito_Count_Table.reset_index(name='Delitos en Fraijanes')\n",
        "union_tables = pd.merge(del_com, descrip, on='index', how='inner')"
      ],
      "execution_count": 0,
      "outputs": []
    },
    {
      "cell_type": "code",
      "metadata": {
        "id": "YXxPWtqcRgAu",
        "colab_type": "code",
        "outputId": "dc28f469-c37f-4fbf-b3df-55e8411afa79",
        "colab": {
          "base_uri": "https://localhost:8080/",
          "height": 855
        }
      },
      "source": [
        "union_tables"
      ],
      "execution_count": 27,
      "outputs": [
        {
          "output_type": "execute_result",
          "data": {
            "text/html": [
              "<div>\n",
              "<style scoped>\n",
              "    .dataframe tbody tr th:only-of-type {\n",
              "        vertical-align: middle;\n",
              "    }\n",
              "\n",
              "    .dataframe tbody tr th {\n",
              "        vertical-align: top;\n",
              "    }\n",
              "\n",
              "    .dataframe thead th {\n",
              "        text-align: right;\n",
              "    }\n",
              "</style>\n",
              "<table border=\"1\" class=\"dataframe\">\n",
              "  <thead>\n",
              "    <tr style=\"text-align: right;\">\n",
              "      <th></th>\n",
              "      <th>index</th>\n",
              "      <th>Delitos en Fraijanes</th>\n",
              "      <th>Delitos</th>\n",
              "    </tr>\n",
              "  </thead>\n",
              "  <tbody>\n",
              "    <tr>\n",
              "      <th>0</th>\n",
              "      <td>1</td>\n",
              "      <td>18</td>\n",
              "      <td>Homicidio por arma de fuego</td>\n",
              "    </tr>\n",
              "    <tr>\n",
              "      <th>1</th>\n",
              "      <td>71</td>\n",
              "      <td>13</td>\n",
              "      <td>Desaparecidos</td>\n",
              "    </tr>\n",
              "    <tr>\n",
              "      <th>2</th>\n",
              "      <td>19</td>\n",
              "      <td>11</td>\n",
              "      <td>Robo a residencias</td>\n",
              "    </tr>\n",
              "    <tr>\n",
              "      <th>3</th>\n",
              "      <td>97</td>\n",
              "      <td>9</td>\n",
              "      <td>Extorsión a comercios</td>\n",
              "    </tr>\n",
              "    <tr>\n",
              "      <th>4</th>\n",
              "      <td>8</td>\n",
              "      <td>8</td>\n",
              "      <td>Lesiones por arma blanca</td>\n",
              "    </tr>\n",
              "    <tr>\n",
              "      <th>5</th>\n",
              "      <td>7</td>\n",
              "      <td>7</td>\n",
              "      <td>Lesiones por arma de fuego</td>\n",
              "    </tr>\n",
              "    <tr>\n",
              "      <th>6</th>\n",
              "      <td>69</td>\n",
              "      <td>7</td>\n",
              "      <td>Robo de armas de fuego</td>\n",
              "    </tr>\n",
              "    <tr>\n",
              "      <th>7</th>\n",
              "      <td>104</td>\n",
              "      <td>5</td>\n",
              "      <td>Extorsión a residencias</td>\n",
              "    </tr>\n",
              "    <tr>\n",
              "      <th>8</th>\n",
              "      <td>3</td>\n",
              "      <td>5</td>\n",
              "      <td>Homicidio por arma contundente</td>\n",
              "    </tr>\n",
              "    <tr>\n",
              "      <th>9</th>\n",
              "      <td>81</td>\n",
              "      <td>5</td>\n",
              "      <td>Hurto a residencias</td>\n",
              "    </tr>\n",
              "    <tr>\n",
              "      <th>10</th>\n",
              "      <td>75</td>\n",
              "      <td>5</td>\n",
              "      <td>Hurto de armas de fuego</td>\n",
              "    </tr>\n",
              "    <tr>\n",
              "      <th>11</th>\n",
              "      <td>22</td>\n",
              "      <td>4</td>\n",
              "      <td>Robo de vehículos</td>\n",
              "    </tr>\n",
              "    <tr>\n",
              "      <th>12</th>\n",
              "      <td>9</td>\n",
              "      <td>4</td>\n",
              "      <td>Lesiones por arma contundente</td>\n",
              "    </tr>\n",
              "    <tr>\n",
              "      <th>13</th>\n",
              "      <td>30</td>\n",
              "      <td>4</td>\n",
              "      <td>Robo a peatones</td>\n",
              "    </tr>\n",
              "    <tr>\n",
              "      <th>14</th>\n",
              "      <td>68</td>\n",
              "      <td>3</td>\n",
              "      <td>Otras causas (detenidos)</td>\n",
              "    </tr>\n",
              "    <tr>\n",
              "      <th>15</th>\n",
              "      <td>5</td>\n",
              "      <td>3</td>\n",
              "      <td>Homicidio por estrangulamiento</td>\n",
              "    </tr>\n",
              "    <tr>\n",
              "      <th>16</th>\n",
              "      <td>21</td>\n",
              "      <td>2</td>\n",
              "      <td>Hurto a comercios</td>\n",
              "    </tr>\n",
              "    <tr>\n",
              "      <th>17</th>\n",
              "      <td>20</td>\n",
              "      <td>2</td>\n",
              "      <td>Robo a comercios</td>\n",
              "    </tr>\n",
              "    <tr>\n",
              "      <th>18</th>\n",
              "      <td>79</td>\n",
              "      <td>2</td>\n",
              "      <td>Hurto de motocicletas</td>\n",
              "    </tr>\n",
              "    <tr>\n",
              "      <th>19</th>\n",
              "      <td>83</td>\n",
              "      <td>2</td>\n",
              "      <td>Hurto de vehículos</td>\n",
              "    </tr>\n",
              "    <tr>\n",
              "      <th>20</th>\n",
              "      <td>2</td>\n",
              "      <td>2</td>\n",
              "      <td>Homicidio por arma blanca</td>\n",
              "    </tr>\n",
              "    <tr>\n",
              "      <th>21</th>\n",
              "      <td>24</td>\n",
              "      <td>1</td>\n",
              "      <td>Robo de motocicletas</td>\n",
              "    </tr>\n",
              "    <tr>\n",
              "      <th>22</th>\n",
              "      <td>106</td>\n",
              "      <td>1</td>\n",
              "      <td>Intento de suicidio por arma de fuego</td>\n",
              "    </tr>\n",
              "    <tr>\n",
              "      <th>23</th>\n",
              "      <td>35</td>\n",
              "      <td>1</td>\n",
              "      <td>Robo en iglesias</td>\n",
              "    </tr>\n",
              "    <tr>\n",
              "      <th>24</th>\n",
              "      <td>100</td>\n",
              "      <td>1</td>\n",
              "      <td>Extorsión a transporte escolar</td>\n",
              "    </tr>\n",
              "    <tr>\n",
              "      <th>25</th>\n",
              "      <td>111</td>\n",
              "      <td>1</td>\n",
              "      <td>Suicidio por arma blanca</td>\n",
              "    </tr>\n",
              "  </tbody>\n",
              "</table>\n",
              "</div>"
            ],
            "text/plain": [
              "    index  Delitos en Fraijanes                                Delitos\n",
              "0       1                    18            Homicidio por arma de fuego\n",
              "1      71                    13                          Desaparecidos\n",
              "2      19                    11                     Robo a residencias\n",
              "3      97                     9                  Extorsión a comercios\n",
              "4       8                     8               Lesiones por arma blanca\n",
              "5       7                     7             Lesiones por arma de fuego\n",
              "6      69                     7                 Robo de armas de fuego\n",
              "7     104                     5                Extorsión a residencias\n",
              "8       3                     5         Homicidio por arma contundente\n",
              "9      81                     5                    Hurto a residencias\n",
              "10     75                     5                Hurto de armas de fuego\n",
              "11     22                     4                      Robo de vehículos\n",
              "12      9                     4          Lesiones por arma contundente\n",
              "13     30                     4                        Robo a peatones\n",
              "14     68                     3               Otras causas (detenidos)\n",
              "15      5                     3         Homicidio por estrangulamiento\n",
              "16     21                     2                      Hurto a comercios\n",
              "17     20                     2                       Robo a comercios\n",
              "18     79                     2                  Hurto de motocicletas\n",
              "19     83                     2                     Hurto de vehículos\n",
              "20      2                     2              Homicidio por arma blanca\n",
              "21     24                     1                   Robo de motocicletas\n",
              "22    106                     1  Intento de suicidio por arma de fuego\n",
              "23     35                     1                       Robo en iglesias\n",
              "24    100                     1         Extorsión a transporte escolar\n",
              "25    111                     1               Suicidio por arma blanca"
            ]
          },
          "metadata": {
            "tags": []
          },
          "execution_count": 27
        }
      ]
    },
    {
      "cell_type": "code",
      "metadata": {
        "id": "MdTOZljnPAZu",
        "colab_type": "code",
        "colab": {}
      },
      "source": [
        "df.head()"
      ],
      "execution_count": 0,
      "outputs": []
    },
    {
      "cell_type": "markdown",
      "metadata": {
        "id": "VWMnnBJ7O54f",
        "colab_type": "text"
      },
      "source": [
        "### Division to see the Municipio with the most crimes reported"
      ]
    },
    {
      "cell_type": "code",
      "metadata": {
        "id": "2IQIYjc2O0cY",
        "colab_type": "code",
        "colab": {
          "base_uri": "https://localhost:8080/",
          "height": 1000
        },
        "outputId": "8f6a7cf5-ea2e-4501-cc09-1744635e5c35"
      },
      "source": [
        "grouping2 = df\n",
        "#print(grouping)\n",
        "grouping2 = grouping2.drop(['dia_sem', 'dia', 'hora', 'g_hora', 'sexo', 'edad', 'g_edad', 'mayor_menor', 'g_delitos', 'region', 'area', 'mes'], axis=1)\n",
        "\n",
        "grouping = grouping2['muni'].value_counts()\n",
        "#grouping.drop(['dia_sem', 'dia', 'hora', 'g_hora', 'sexo', 'edad', 'g_edad', 'mayor_menor', 'g_delito'], axis=1)\n",
        "grouping = pd.DataFrame(grouping)\n",
        "grouping"
      ],
      "execution_count": 28,
      "outputs": [
        {
          "output_type": "execute_result",
          "data": {
            "text/html": [
              "<div>\n",
              "<style scoped>\n",
              "    .dataframe tbody tr th:only-of-type {\n",
              "        vertical-align: middle;\n",
              "    }\n",
              "\n",
              "    .dataframe tbody tr th {\n",
              "        vertical-align: top;\n",
              "    }\n",
              "\n",
              "    .dataframe thead th {\n",
              "        text-align: right;\n",
              "    }\n",
              "</style>\n",
              "<table border=\"1\" class=\"dataframe\">\n",
              "  <thead>\n",
              "    <tr style=\"text-align: right;\">\n",
              "      <th></th>\n",
              "      <th>muni</th>\n",
              "    </tr>\n",
              "  </thead>\n",
              "  <tbody>\n",
              "    <tr>\n",
              "      <th>101</th>\n",
              "      <td>7423</td>\n",
              "    </tr>\n",
              "    <tr>\n",
              "      <th>108</th>\n",
              "      <td>1775</td>\n",
              "    </tr>\n",
              "    <tr>\n",
              "      <th>115</th>\n",
              "      <td>1326</td>\n",
              "    </tr>\n",
              "    <tr>\n",
              "      <th>501</th>\n",
              "      <td>994</td>\n",
              "    </tr>\n",
              "    <tr>\n",
              "      <th>901</th>\n",
              "      <td>750</td>\n",
              "    </tr>\n",
              "    <tr>\n",
              "      <th>401</th>\n",
              "      <td>583</td>\n",
              "    </tr>\n",
              "    <tr>\n",
              "      <th>114</th>\n",
              "      <td>581</td>\n",
              "    </tr>\n",
              "    <tr>\n",
              "      <th>1801</th>\n",
              "      <td>562</td>\n",
              "    </tr>\n",
              "    <tr>\n",
              "      <th>1301</th>\n",
              "      <td>515</td>\n",
              "    </tr>\n",
              "    <tr>\n",
              "      <th>1601</th>\n",
              "      <td>456</td>\n",
              "    </tr>\n",
              "    <tr>\n",
              "      <th>920</th>\n",
              "      <td>430</td>\n",
              "    </tr>\n",
              "    <tr>\n",
              "      <th>502</th>\n",
              "      <td>417</td>\n",
              "    </tr>\n",
              "    <tr>\n",
              "      <th>2001</th>\n",
              "      <td>408</td>\n",
              "    </tr>\n",
              "    <tr>\n",
              "      <th>2101</th>\n",
              "      <td>391</td>\n",
              "    </tr>\n",
              "    <tr>\n",
              "      <th>117</th>\n",
              "      <td>390</td>\n",
              "    </tr>\n",
              "    <tr>\n",
              "      <th>116</th>\n",
              "      <td>390</td>\n",
              "    </tr>\n",
              "    <tr>\n",
              "      <th>509</th>\n",
              "      <td>379</td>\n",
              "    </tr>\n",
              "    <tr>\n",
              "      <th>102</th>\n",
              "      <td>335</td>\n",
              "    </tr>\n",
              "    <tr>\n",
              "      <th>1901</th>\n",
              "      <td>300</td>\n",
              "    </tr>\n",
              "    <tr>\n",
              "      <th>106</th>\n",
              "      <td>297</td>\n",
              "    </tr>\n",
              "    <tr>\n",
              "      <th>1101</th>\n",
              "      <td>284</td>\n",
              "    </tr>\n",
              "    <tr>\n",
              "      <th>110</th>\n",
              "      <td>280</td>\n",
              "    </tr>\n",
              "    <tr>\n",
              "      <th>1001</th>\n",
              "      <td>271</td>\n",
              "    </tr>\n",
              "    <tr>\n",
              "      <th>301</th>\n",
              "      <td>270</td>\n",
              "    </tr>\n",
              "    <tr>\n",
              "      <th>1804</th>\n",
              "      <td>267</td>\n",
              "    </tr>\n",
              "    <tr>\n",
              "      <th>2201</th>\n",
              "      <td>240</td>\n",
              "    </tr>\n",
              "    <tr>\n",
              "      <th>1703</th>\n",
              "      <td>222</td>\n",
              "    </tr>\n",
              "    <tr>\n",
              "      <th>506</th>\n",
              "      <td>217</td>\n",
              "    </tr>\n",
              "    <tr>\n",
              "      <th>1701</th>\n",
              "      <td>206</td>\n",
              "    </tr>\n",
              "    <tr>\n",
              "      <th>103</th>\n",
              "      <td>202</td>\n",
              "    </tr>\n",
              "    <tr>\n",
              "      <th>...</th>\n",
              "      <td>...</td>\n",
              "    </tr>\n",
              "    <tr>\n",
              "      <th>1214</th>\n",
              "      <td>4</td>\n",
              "    </tr>\n",
              "    <tr>\n",
              "      <th>918</th>\n",
              "      <td>4</td>\n",
              "    </tr>\n",
              "    <tr>\n",
              "      <th>1408</th>\n",
              "      <td>4</td>\n",
              "    </tr>\n",
              "    <tr>\n",
              "      <th>807</th>\n",
              "      <td>4</td>\n",
              "    </tr>\n",
              "    <tr>\n",
              "      <th>405</th>\n",
              "      <td>4</td>\n",
              "    </tr>\n",
              "    <tr>\n",
              "      <th>1421</th>\n",
              "      <td>4</td>\n",
              "    </tr>\n",
              "    <tr>\n",
              "      <th>1409</th>\n",
              "      <td>4</td>\n",
              "    </tr>\n",
              "    <tr>\n",
              "      <th>702</th>\n",
              "      <td>4</td>\n",
              "    </tr>\n",
              "    <tr>\n",
              "      <th>1329</th>\n",
              "      <td>3</td>\n",
              "    </tr>\n",
              "    <tr>\n",
              "      <th>1229</th>\n",
              "      <td>3</td>\n",
              "    </tr>\n",
              "    <tr>\n",
              "      <th>1223</th>\n",
              "      <td>3</td>\n",
              "    </tr>\n",
              "    <tr>\n",
              "      <th>907</th>\n",
              "      <td>3</td>\n",
              "    </tr>\n",
              "    <tr>\n",
              "      <th>1702</th>\n",
              "      <td>3</td>\n",
              "    </tr>\n",
              "    <tr>\n",
              "      <th>1505</th>\n",
              "      <td>3</td>\n",
              "    </tr>\n",
              "    <tr>\n",
              "      <th>316</th>\n",
              "      <td>3</td>\n",
              "    </tr>\n",
              "    <tr>\n",
              "      <th>716</th>\n",
              "      <td>3</td>\n",
              "    </tr>\n",
              "    <tr>\n",
              "      <th>1418</th>\n",
              "      <td>3</td>\n",
              "    </tr>\n",
              "    <tr>\n",
              "      <th>1410</th>\n",
              "      <td>3</td>\n",
              "    </tr>\n",
              "    <tr>\n",
              "      <th>1228</th>\n",
              "      <td>2</td>\n",
              "    </tr>\n",
              "    <tr>\n",
              "      <th>1403</th>\n",
              "      <td>2</td>\n",
              "    </tr>\n",
              "    <tr>\n",
              "      <th>1225</th>\n",
              "      <td>2</td>\n",
              "    </tr>\n",
              "    <tr>\n",
              "      <th>1322</th>\n",
              "      <td>2</td>\n",
              "    </tr>\n",
              "    <tr>\n",
              "      <th>711</th>\n",
              "      <td>2</td>\n",
              "    </tr>\n",
              "    <tr>\n",
              "      <th>908</th>\n",
              "      <td>2</td>\n",
              "    </tr>\n",
              "    <tr>\n",
              "      <th>2209</th>\n",
              "      <td>2</td>\n",
              "    </tr>\n",
              "    <tr>\n",
              "      <th>708</th>\n",
              "      <td>2</td>\n",
              "    </tr>\n",
              "    <tr>\n",
              "      <th>703</th>\n",
              "      <td>1</td>\n",
              "    </tr>\n",
              "    <tr>\n",
              "      <th>1402</th>\n",
              "      <td>1</td>\n",
              "    </tr>\n",
              "    <tr>\n",
              "      <th>1224</th>\n",
              "      <td>1</td>\n",
              "    </tr>\n",
              "    <tr>\n",
              "      <th>1321</th>\n",
              "      <td>1</td>\n",
              "    </tr>\n",
              "  </tbody>\n",
              "</table>\n",
              "<p>336 rows × 1 columns</p>\n",
              "</div>"
            ],
            "text/plain": [
              "      muni\n",
              "101   7423\n",
              "108   1775\n",
              "115   1326\n",
              "501    994\n",
              "901    750\n",
              "401    583\n",
              "114    581\n",
              "1801   562\n",
              "1301   515\n",
              "1601   456\n",
              "920    430\n",
              "502    417\n",
              "2001   408\n",
              "2101   391\n",
              "117    390\n",
              "116    390\n",
              "509    379\n",
              "102    335\n",
              "1901   300\n",
              "106    297\n",
              "1101   284\n",
              "110    280\n",
              "1001   271\n",
              "301    270\n",
              "1804   267\n",
              "2201   240\n",
              "1703   222\n",
              "506    217\n",
              "1701   206\n",
              "103    202\n",
              "...    ...\n",
              "1214     4\n",
              "918      4\n",
              "1408     4\n",
              "807      4\n",
              "405      4\n",
              "1421     4\n",
              "1409     4\n",
              "702      4\n",
              "1329     3\n",
              "1229     3\n",
              "1223     3\n",
              "907      3\n",
              "1702     3\n",
              "1505     3\n",
              "316      3\n",
              "716      3\n",
              "1418     3\n",
              "1410     3\n",
              "1228     2\n",
              "1403     2\n",
              "1225     2\n",
              "1322     2\n",
              "711      2\n",
              "908      2\n",
              "2209     2\n",
              "708      2\n",
              "703      1\n",
              "1402     1\n",
              "1224     1\n",
              "1321     1\n",
              "\n",
              "[336 rows x 1 columns]"
            ]
          },
          "metadata": {
            "tags": []
          },
          "execution_count": 28
        }
      ]
    },
    {
      "cell_type": "code",
      "metadata": {
        "id": "9iNYIrm3RrZG",
        "colab_type": "code",
        "colab": {}
      },
      "source": [
        "muni_descr = [\n",
        "\"Guatemala\",\"Santa Catarina Pinula\",\"San José Pinula\",\"San José del Golfo\",\"Palencia\",\"Chinautla\",\"San Pedro Ayampuc\",\"Mixco\",\"San Pedro Sacatepéquez\",\n",
        "\"San Juan Sacatepéquez\",\"San Raymundo\",\"Chuarrancho\",\"Fraijanes\",\"Amatitlán\",\"Villa Nueva\",\"Villa Canales\",\"Petapa\",\"Guastatoya\",\"Morazán\",\n",
        "\"San Agustín Acasaguastlán\",\"San Cristóbal Acasaguastlán\",\"El Jícaro\",\"Sansare\",\"Sanarate\",\"San Antonio La Paz\",\"Antigua Guatemala\",\"Jocotenango\",\n",
        "\"Pastores\",\"Sumpango\",\"Santo Domingo Xenacoj\",\"Santiago Sacatepéquez\",\"San Bartolomé Milpas Altas\",\"San Lucas Sacatepéquez\",\"Santa Lucía Milpas Altas\",\n",
        "\"Magdalena Milpas Altas\",\"Santa María de Jesús\",\"Ciudad Vieja\",\"San Miguel Dueñas\",\"Alotenango\",\"San Antonio Aguas Calientes\",\"Santa Catarina Barahona\",\n",
        "\"Chimaltenango\",\"San José Poaquil\",\"San Martín Jilotepeque\",\"Comalapa\",\"Santa Apolonia\",\"Tecpán Guatemala\",\"Patzún\",\"Pochuta\",\"Patzicía\",\"Santa Cruz Balanyá\",\n",
        "\"Acatenango\",\"Yepocapa\",\"San Andrés Itzapa\",\"Parramos\",\"Zaragoza\",\"El Tejar\",\"Escuintla\",\"Santa Lucía Cotzumalguapa\",\"La Democracia\",\"Siquinalá\",\n",
        "\"Masagua\",\"Tiquisate\",\"La Gomera\",\"Guanagazapa\",\"San José\",\"Iztapa\",\"Palín\",\"San Vicente Pacaya\",\"Nueva Concepción\",\"Sipacate\",\"Cuilapa\",\"Barberena\",\n",
        "\"Santa Rosa de Lima\",\"Casillas\",\"San Rafael las Flores\",\"Oratorio\",\"San Juan Tecuaco\",\"Chiquimulilla\",\"Taxisco\",\"Santa María Ixhuatán\",\"Guazacapán\",\n",
        "\"Santa Cruz Naranjo\",\"Pueblo Nuevo Viñas\",\"Nueva Santa Rosa\",\"Sololá\",\"San José Chacayá\",\"Santa María Visitación\",\"Santa Lucía Utatlán\",\"Nahualá\",\n",
        "\"Santa Catarina Ixtahuacán\",\"Santa Clara La Laguna\",\"Concepción\",\"San Andrés Semetabaj\",\"Panajachel\",\"Santa Catarina Palopó\",\"San Antonio Palopó\",\n",
        "\"San Lucas Toliman\",\"Santa Cruz La Laguna\",\"San Pablo La Laguna\",\"San Marcos La Laguna\",\"San Juan La Laguna\",\"San Pedro La Laguna\",\"Santiago Atitlán\",\n",
        "\"Totonicapán\",\"San Cristobal Totonicapán\",\"San Francisco El Alto\",\"San Andrés Xecul\",\"Momostenango\",\"Santa María Chiquimula\",\"Santa Lucía La Reforma\",\n",
        "\"San Bartolo\",\"Quetzaltenango\",\"Salcajá\",\"Olintepeque\",\"San Carlos Sija\",\"Sibilia\",\"Cabricán\",\"Cajolá\",\"San Miguel Siguilá\",\"Ostuncalco\",\"San Mateo\",\n",
        "\"Concepción Chiquirichapa\",\"San Martín Sacatepéquez\",\"Almolonga\",\"Cantel\",\"Huitán\",\"Zunil\",\"Colomba\",\"San Francisco La Unión\",\"El Palmar\",\"Coatepeque\",\n",
        "\"Génova\",\"Flores Costa Cuca\",\"La Esperanza\",\"Palestina de los Altos\",\"Mazatenango\",\"Cuyotenango\",\"San Francisco Zapotitlán\", \"San Bernardino\",\n",
        "\"San José El Idolo\", \"Santo Domingo Suchitepéquez\", \"San Lorenzo\", \"Samayac\", \"San Pablo Jocopilas\", \"San Antonio Suchitepéquez\", \"San Miguel Panán\",\n",
        "\"San Gabriel\", \"Chicacao\", \"Patulul\", \"Santa Bárbara\", \"San Juan Bautista\", \"Santo Tomás La Unión\", \"Zunilito\", \"Pueblo Nuevo\" , \"Rio Bravo\",\"San José La Máquina\",\n",
        "\"Retalhuleu\", \"San Sebastián\", \"Santa Cruz Muluá\", \"San Martín Zapotitlán\", \"San Felipe\", \"San Andrés Villa Seca\", \"Champerico\", \"Nuevo San Carlos\"\n",
        "\"El Asintal\", \"San Marcos\", \"San Pedro Sacatepéquez\", \"San Antonio Sacatepéquez\", \"Comitancillo\", \"San Miguel Ixtahuacán\", \"Concepción Tutuapa\",\n",
        "\"Tacaná\", \"Sibinal\", \"Tajumulco\", \"Tejutla\", \"San Rafael Pié de La Cuesta\", \"Nuevo Progreso\", \"El Tumbador\", \"El Rodeo\", \"Malacatán\", \"Catarina\",\n",
        "\"Ayutla o Tecún Umán\", \"Ocós\", \"San Pablo\", \"El Quetzal\", \"La Reforma\", \"Pajapita\", \"Ixchiguán\", \"San José Ojetenam\", \"San Cristóbal Cucho\",\n",
        "\"Sipacapa\", \"Esquipulas Palo Gordo\", \"Rio Blanco\", \"San Lorenzo\", \"La Blanca\", \"Huehuetenango\", \"Chiantla\", \"Malacatancito\",\"Cuilco\",\"Nentón\",\n",
        "\"San Pedro Necta\", \"Jacaltenango\", \"Soloma\", \"Ixtahuacán\", \"Santa Bárbara\", \"La Libertad\", \"La Democracia\", \"San Miguel Acatán\", \"San Rafael La Independencia\",\n",
        "\"Todos Santos Cuchumatán\", \"San Juan Atitán\", \"Santa Eulalia\", \"San Mateo Ixtatán\", \"Colotenango\", \"San Sebastián Huehuetenango\", \"Tectitán\", \"Concepción Huista\",\n",
        "\"San Juan Ixcoy\", \"San Antonio Huista\", \"San Sebastián Coatán\", \"Barillas\", \"Aguacatán\", \"San Rafael Petzal\", \"San Gaspar Ixchil\", \"Santiago Chimaltenango\",\n",
        "\"Santa Ana Huista\", \"Unión Cantinil\", \"Petatán\", \"Santa Cruz del Quiché\", \"Chiché\", \"Chinique\", \"Zacualpa\", \"Chajul\", \"Chichicastenango\",\n",
        "\"Patzité\", \"San Antonio Ilotenango\", \"San Pedro Jocopilas\", \"Cunén\", \"San Juan Cotzal\", \"Joyabaj\", \"Nebaj\", \"San Andrés Sajcabajá\", \"Uspantán\",\n",
        "\"Sacapulas\", \"San Bartolomé Jocotenango\", \"Canillá\", \"Chicamán\", \"Ixcán\", \"Pachalum\", \"Salamá\", \"San Miguel Chicaj\", \"Rabinal\", \"Cubulco\",\n",
        "\"Granados\", \"El Chol\", \"San Jerónimo\", \"Purulhá\",\"Cobán\",\"Santa Cruz Verapaz\", \"San Cristóbal Verapaz\", \"Tactic\", \"Tamahú\", \"Tucurú\", \"Panzós\",\n",
        "\"Senahú\", \"San Pedro Carchá\", \"San Juan Chamelco\", \"Lanquín\", \"Cahabón\", \"Chisec\", \"Chahal\", \"Fray Bartolomé de Las Casas\", \"Santa Catalina la Tinta\",\n",
        "\"Raxruhá\", \"Flores\", \"San José\", \"San Benito\", \"San Andrés\", \"La Libertad\", \"San Francisco\", \"Santa Ana\", \"Dolores\", \"San Luis\", \"Sayaxché\",\n",
        "\"Melchor de Mencos\", \"Poptún\", \"Las Cruces\", \"El Chal\", \"Puerto Barrios\", \"Livingston\",\"El Estor\", \"Morales\", \"Los Amates\", \"Zacapa\",\n",
        "\"Estanzuela\", \"Río Hondo\", \"Gualán\", \"Teculután\", \"Usumatlán\", \"Cabañas\", \"San Diego\", \"La Unión\", \"Huité\", \"San Jorge\", \"Chiquimula\", \"San José La Arada\",\n",
        "\"San Juan Erminta\", \"Jocotán\", \"Camotán\", \"Olopa\", \"Esquipulas\", \"Concepción Las Minas\", \"Quetzaltepeque\",\"San Jacinto\",\"Ipala\", \"Jalapa\",\n",
        "\"San Pedro Pinula\", \"San Luis Jilotepeque\", \"San Manuel Chaparrón\", \"San Carlos Alzatate\", \"Monjas\", \"Mataquescuintla\", \"Jutiapa\", \"El Progreso\",\n",
        "\"Santa Catarina Mita\", \"Agua Blanca\", \"Asunción Mita\", \"Yupiltepeque\", \"Atescatempa\", \"Jerez\", \"El Adelanto\", \"Zapotitlán\", \"Comapa\", \"Jalpatagua\",\n",
        "\"Conguaco\", \"Moyuta\", \"Pasaco\", \"San José Acatempa\", \"Quesada\"]"
      ],
      "execution_count": 0,
      "outputs": []
    },
    {
      "cell_type": "code",
      "metadata": {
        "id": "MrKamCc8Ru3w",
        "colab_type": "code",
        "colab": {}
      },
      "source": [
        "number = [101,102,103,104,105,106,107,108,109,110,111,112,113,114,115,116,117,\n",
        "          201,202,203,204,205,206,207,208,\n",
        "          301,302,303,304,305,306,307,308,309,310,311,312,313,314,315,316,\n",
        "          401,402,403,404,405,406,407,408,409,410,411,412,413,414,415,416,\n",
        "          501,502,503,504,505,506,507,508,509,510,511,512,513,514,\n",
        "          601,602,603,604,605,606,607,608,609,610,611,612,613,614,\n",
        "          701,702,703,704,705,706,707,708,709,710,711,712,713,714,715,716,717,718,719,\n",
        "          801,802,803,804,805,806,807,808,\n",
        "          901,902,903,904,905,906,907,908,909,910,911,912,913,914,915,916,917,918,919,920,921,922,923,924,\n",
        "          1001,1002,1003,1004,1005,1006,1007,1008,1009,1010,1011,1012,10131014,1015,1016,1017,1018,1019,1020,1021,\n",
        "          1101,1102,1103,1104,1105,1106,1107,1108,1109,\n",
        "          1201,1202,1203,1204,1205,1206,1207,1208,1209,1210,1211,1212,1213,1214,1215,1216,1217,1218,1219,\n",
        "          1220,1221,1222,1223,1224,1225,1226,1227,1228,1229,1230,\n",
        "          1301,1302,1303,13041305,1306,1307,1308,1309,1310,1311,1312,1313,1314,1315,1316,1317,1318,1319,\n",
        "          1320,1321,1322,1323,1324,1325,1326,1327,1328,1329,1330,1331,1332,1333,\n",
        "          1401,1402,1403,1404,1405,1406,1407,1408,1409,1410,1411,1412,1413,1414,14151416,1417,1418,1419,1420,1421,\n",
        "          1501,1502,1503,1504,1505,1506,1507,1508,\n",
        "          1601,1602,1603,1604,1605,1606,1607,1608,1609,1610,1611,1612,1613,1614,1615,1616,1617,\n",
        "          1701,1702,1703,1704,1705,1706,17071708,1709,1710,1711,1712,1713,1714,\n",
        "          1801,1802,1803,1804,1805,\n",
        "          1901,1902,1903,1904,1905,1906,1907,1908,1909,1910,1911,\n",
        "          2001,2002,2003,2004,2005,2006,2007,2008,2009,2010,2011,\n",
        "          2101,2102,2103,2104,2105,2106,2107,\n",
        "          2201,2202,2203,2204,2205,2206,2207,2208,2209,2210,2211,2212,2213,2214,2215,2216,2217]"
      ],
      "execution_count": 0,
      "outputs": []
    },
    {
      "cell_type": "code",
      "metadata": {
        "id": "YzH8_l18RwSO",
        "colab_type": "code",
        "colab": {}
      },
      "source": [
        "data = {'codigo_municipalidad':number, 'muni':muni_descr} "
      ],
      "execution_count": 0,
      "outputs": []
    },
    {
      "cell_type": "code",
      "metadata": {
        "id": "ZXFVpB4Tzl-_",
        "colab_type": "code",
        "colab": {
          "base_uri": "https://localhost:8080/",
          "height": 34
        },
        "outputId": "f45a9e12-9deb-4140-f93d-e49658265fbf"
      },
      "source": [
        "len(number)\n",
        "len(muni_descr)"
      ],
      "execution_count": 40,
      "outputs": [
        {
          "output_type": "execute_result",
          "data": {
            "text/plain": [
              "339"
            ]
          },
          "metadata": {
            "tags": []
          },
          "execution_count": 40
        }
      ]
    },
    {
      "cell_type": "code",
      "metadata": {
        "id": "v5rP0fexRoSR",
        "colab_type": "code",
        "colab": {}
      },
      "source": [
        "# Create DataFrame \n",
        "\n",
        "descrip = pd.DataFrame(data)\n",
        "ciudad = df.loc[df.dept ==1]\n",
        "muni = ciudad.loc[ciudad.muni ==113]\n",
        "delito_Count_Table = muni.delito.value_counts()\n",
        "del_com = delito_Count_Table.reset_index(name='Delitos en ')\n",
        "union_tables = pd.merge(del_com, descrip, on='index', how='inner')"
      ],
      "execution_count": 0,
      "outputs": []
    },
    {
      "cell_type": "markdown",
      "metadata": {
        "id": "iIZRfcNQzDeA",
        "colab_type": "text"
      },
      "source": [
        "## Adding an extra Column to see name of Municipalidad\n"
      ]
    },
    {
      "cell_type": "code",
      "metadata": {
        "id": "yhPrt1g_zIiP",
        "colab_type": "code",
        "colab": {
          "base_uri": "https://localhost:8080/",
          "height": 375
        },
        "outputId": "093fa644-79d6-4b6e-af19-7cd9c4c31f33"
      },
      "source": [
        "descrip = pd.DataFrame(data)\n",
        "#ciudad = df.loc[df.dept ==1]\n",
        "#muni = ciudad.loc[ciudad.muni ==113]\n",
        "#delito_Count_Table = muni.delito.value_counts()\n",
        "del_com = delito_Count_Table.reset_index(name='Delitos en Fraijanes')\n",
        "df_muni = pd.merge(df, descrip, on='muni', how='inner')"
      ],
      "execution_count": 34,
      "outputs": [
        {
          "output_type": "error",
          "ename": "ValueError",
          "evalue": "ignored",
          "traceback": [
            "\u001b[0;31m---------------------------------------------------------------------------\u001b[0m",
            "\u001b[0;31mValueError\u001b[0m                                Traceback (most recent call last)",
            "\u001b[0;32m<ipython-input-34-d3f2f95a997d>\u001b[0m in \u001b[0;36m<module>\u001b[0;34m()\u001b[0m\n\u001b[0;32m----> 1\u001b[0;31m \u001b[0mdescrip\u001b[0m \u001b[0;34m=\u001b[0m \u001b[0mpd\u001b[0m\u001b[0;34m.\u001b[0m\u001b[0mDataFrame\u001b[0m\u001b[0;34m(\u001b[0m\u001b[0mdata\u001b[0m\u001b[0;34m)\u001b[0m\u001b[0;34m\u001b[0m\u001b[0;34m\u001b[0m\u001b[0m\n\u001b[0m\u001b[1;32m      2\u001b[0m \u001b[0;31m#ciudad = df.loc[df.dept ==1]\u001b[0m\u001b[0;34m\u001b[0m\u001b[0;34m\u001b[0m\u001b[0;34m\u001b[0m\u001b[0m\n\u001b[1;32m      3\u001b[0m \u001b[0;31m#muni = ciudad.loc[ciudad.muni ==113]\u001b[0m\u001b[0;34m\u001b[0m\u001b[0;34m\u001b[0m\u001b[0;34m\u001b[0m\u001b[0m\n\u001b[1;32m      4\u001b[0m \u001b[0;31m#delito_Count_Table = muni.delito.value_counts()\u001b[0m\u001b[0;34m\u001b[0m\u001b[0;34m\u001b[0m\u001b[0;34m\u001b[0m\u001b[0m\n\u001b[1;32m      5\u001b[0m \u001b[0mdel_com\u001b[0m \u001b[0;34m=\u001b[0m \u001b[0mdelito_Count_Table\u001b[0m\u001b[0;34m.\u001b[0m\u001b[0mreset_index\u001b[0m\u001b[0;34m(\u001b[0m\u001b[0mname\u001b[0m\u001b[0;34m=\u001b[0m\u001b[0;34m'Delitos en Fraijanes'\u001b[0m\u001b[0;34m)\u001b[0m\u001b[0;34m\u001b[0m\u001b[0;34m\u001b[0m\u001b[0m\n",
            "\u001b[0;32m/usr/local/lib/python3.6/dist-packages/pandas/core/frame.py\u001b[0m in \u001b[0;36m__init__\u001b[0;34m(self, data, index, columns, dtype, copy)\u001b[0m\n\u001b[1;32m    390\u001b[0m                                  dtype=dtype, copy=copy)\n\u001b[1;32m    391\u001b[0m         \u001b[0;32melif\u001b[0m \u001b[0misinstance\u001b[0m\u001b[0;34m(\u001b[0m\u001b[0mdata\u001b[0m\u001b[0;34m,\u001b[0m \u001b[0mdict\u001b[0m\u001b[0;34m)\u001b[0m\u001b[0;34m:\u001b[0m\u001b[0;34m\u001b[0m\u001b[0;34m\u001b[0m\u001b[0m\n\u001b[0;32m--> 392\u001b[0;31m             \u001b[0mmgr\u001b[0m \u001b[0;34m=\u001b[0m \u001b[0minit_dict\u001b[0m\u001b[0;34m(\u001b[0m\u001b[0mdata\u001b[0m\u001b[0;34m,\u001b[0m \u001b[0mindex\u001b[0m\u001b[0;34m,\u001b[0m \u001b[0mcolumns\u001b[0m\u001b[0;34m,\u001b[0m \u001b[0mdtype\u001b[0m\u001b[0;34m=\u001b[0m\u001b[0mdtype\u001b[0m\u001b[0;34m)\u001b[0m\u001b[0;34m\u001b[0m\u001b[0;34m\u001b[0m\u001b[0m\n\u001b[0m\u001b[1;32m    393\u001b[0m         \u001b[0;32melif\u001b[0m \u001b[0misinstance\u001b[0m\u001b[0;34m(\u001b[0m\u001b[0mdata\u001b[0m\u001b[0;34m,\u001b[0m \u001b[0mma\u001b[0m\u001b[0;34m.\u001b[0m\u001b[0mMaskedArray\u001b[0m\u001b[0;34m)\u001b[0m\u001b[0;34m:\u001b[0m\u001b[0;34m\u001b[0m\u001b[0;34m\u001b[0m\u001b[0m\n\u001b[1;32m    394\u001b[0m             \u001b[0;32mimport\u001b[0m \u001b[0mnumpy\u001b[0m\u001b[0;34m.\u001b[0m\u001b[0mma\u001b[0m\u001b[0;34m.\u001b[0m\u001b[0mmrecords\u001b[0m \u001b[0;32mas\u001b[0m \u001b[0mmrecords\u001b[0m\u001b[0;34m\u001b[0m\u001b[0;34m\u001b[0m\u001b[0m\n",
            "\u001b[0;32m/usr/local/lib/python3.6/dist-packages/pandas/core/internals/construction.py\u001b[0m in \u001b[0;36minit_dict\u001b[0;34m(data, index, columns, dtype)\u001b[0m\n\u001b[1;32m    210\u001b[0m         \u001b[0marrays\u001b[0m \u001b[0;34m=\u001b[0m \u001b[0;34m[\u001b[0m\u001b[0mdata\u001b[0m\u001b[0;34m[\u001b[0m\u001b[0mk\u001b[0m\u001b[0;34m]\u001b[0m \u001b[0;32mfor\u001b[0m \u001b[0mk\u001b[0m \u001b[0;32min\u001b[0m \u001b[0mkeys\u001b[0m\u001b[0;34m]\u001b[0m\u001b[0;34m\u001b[0m\u001b[0;34m\u001b[0m\u001b[0m\n\u001b[1;32m    211\u001b[0m \u001b[0;34m\u001b[0m\u001b[0m\n\u001b[0;32m--> 212\u001b[0;31m     \u001b[0;32mreturn\u001b[0m \u001b[0marrays_to_mgr\u001b[0m\u001b[0;34m(\u001b[0m\u001b[0marrays\u001b[0m\u001b[0;34m,\u001b[0m \u001b[0mdata_names\u001b[0m\u001b[0;34m,\u001b[0m \u001b[0mindex\u001b[0m\u001b[0;34m,\u001b[0m \u001b[0mcolumns\u001b[0m\u001b[0;34m,\u001b[0m \u001b[0mdtype\u001b[0m\u001b[0;34m=\u001b[0m\u001b[0mdtype\u001b[0m\u001b[0;34m)\u001b[0m\u001b[0;34m\u001b[0m\u001b[0;34m\u001b[0m\u001b[0m\n\u001b[0m\u001b[1;32m    213\u001b[0m \u001b[0;34m\u001b[0m\u001b[0m\n\u001b[1;32m    214\u001b[0m \u001b[0;34m\u001b[0m\u001b[0m\n",
            "\u001b[0;32m/usr/local/lib/python3.6/dist-packages/pandas/core/internals/construction.py\u001b[0m in \u001b[0;36marrays_to_mgr\u001b[0;34m(arrays, arr_names, index, columns, dtype)\u001b[0m\n\u001b[1;32m     49\u001b[0m     \u001b[0;31m# figure out the index, if necessary\u001b[0m\u001b[0;34m\u001b[0m\u001b[0;34m\u001b[0m\u001b[0;34m\u001b[0m\u001b[0m\n\u001b[1;32m     50\u001b[0m     \u001b[0;32mif\u001b[0m \u001b[0mindex\u001b[0m \u001b[0;32mis\u001b[0m \u001b[0;32mNone\u001b[0m\u001b[0;34m:\u001b[0m\u001b[0;34m\u001b[0m\u001b[0;34m\u001b[0m\u001b[0m\n\u001b[0;32m---> 51\u001b[0;31m         \u001b[0mindex\u001b[0m \u001b[0;34m=\u001b[0m \u001b[0mextract_index\u001b[0m\u001b[0;34m(\u001b[0m\u001b[0marrays\u001b[0m\u001b[0;34m)\u001b[0m\u001b[0;34m\u001b[0m\u001b[0;34m\u001b[0m\u001b[0m\n\u001b[0m\u001b[1;32m     52\u001b[0m     \u001b[0;32melse\u001b[0m\u001b[0;34m:\u001b[0m\u001b[0;34m\u001b[0m\u001b[0;34m\u001b[0m\u001b[0m\n\u001b[1;32m     53\u001b[0m         \u001b[0mindex\u001b[0m \u001b[0;34m=\u001b[0m \u001b[0mensure_index\u001b[0m\u001b[0;34m(\u001b[0m\u001b[0mindex\u001b[0m\u001b[0;34m)\u001b[0m\u001b[0;34m\u001b[0m\u001b[0;34m\u001b[0m\u001b[0m\n",
            "\u001b[0;32m/usr/local/lib/python3.6/dist-packages/pandas/core/internals/construction.py\u001b[0m in \u001b[0;36mextract_index\u001b[0;34m(data)\u001b[0m\n\u001b[1;32m    315\u001b[0m             \u001b[0mlengths\u001b[0m \u001b[0;34m=\u001b[0m \u001b[0mlist\u001b[0m\u001b[0;34m(\u001b[0m\u001b[0mset\u001b[0m\u001b[0;34m(\u001b[0m\u001b[0mraw_lengths\u001b[0m\u001b[0;34m)\u001b[0m\u001b[0;34m)\u001b[0m\u001b[0;34m\u001b[0m\u001b[0;34m\u001b[0m\u001b[0m\n\u001b[1;32m    316\u001b[0m             \u001b[0;32mif\u001b[0m \u001b[0mlen\u001b[0m\u001b[0;34m(\u001b[0m\u001b[0mlengths\u001b[0m\u001b[0;34m)\u001b[0m \u001b[0;34m>\u001b[0m \u001b[0;36m1\u001b[0m\u001b[0;34m:\u001b[0m\u001b[0;34m\u001b[0m\u001b[0;34m\u001b[0m\u001b[0m\n\u001b[0;32m--> 317\u001b[0;31m                 \u001b[0;32mraise\u001b[0m \u001b[0mValueError\u001b[0m\u001b[0;34m(\u001b[0m\u001b[0;34m'arrays must all be same length'\u001b[0m\u001b[0;34m)\u001b[0m\u001b[0;34m\u001b[0m\u001b[0;34m\u001b[0m\u001b[0m\n\u001b[0m\u001b[1;32m    318\u001b[0m \u001b[0;34m\u001b[0m\u001b[0m\n\u001b[1;32m    319\u001b[0m             \u001b[0;32mif\u001b[0m \u001b[0mhave_dicts\u001b[0m\u001b[0;34m:\u001b[0m\u001b[0;34m\u001b[0m\u001b[0;34m\u001b[0m\u001b[0m\n",
            "\u001b[0;31mValueError\u001b[0m: arrays must all be same length"
          ]
        }
      ]
    }
  ]
}