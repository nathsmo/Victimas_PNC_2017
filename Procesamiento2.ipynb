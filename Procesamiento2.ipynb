{
  "nbformat": 4,
  "nbformat_minor": 0,
  "metadata": {
    "colab": {
      "name": "Procesamiento2.ipynb",
      "version": "0.3.2",
      "provenance": [],
      "include_colab_link": true
    },
    "kernelspec": {
      "name": "python3",
      "display_name": "Python 3"
    }
  },
  "cells": [
    {
      "cell_type": "markdown",
      "metadata": {
        "id": "view-in-github",
        "colab_type": "text"
      },
      "source": [
        "<a href=\"https://colab.research.google.com/github/nathsmo/Victimas_PNC_2017/blob/master/Procesamiento2.ipynb\" target=\"_parent\"><img src=\"https://colab.research.google.com/assets/colab-badge.svg\" alt=\"Open In Colab\"/></a>"
      ]
    },
    {
      "cell_type": "markdown",
      "metadata": {
        "id": "ekaLAFtPTqxy",
        "colab_type": "text"
      },
      "source": [
        "# Segundo Procesamiento de datos\n",
        "\n",
        "* Segundo análisis creado a partir de una investigación personal después de la clase y entrega original del proyecto."
      ]
    },
    {
      "cell_type": "markdown",
      "metadata": {
        "id": "uNY1R_jiUrzA",
        "colab_type": "text"
      },
      "source": [
        "## Importar librerias"
      ]
    },
    {
      "cell_type": "code",
      "metadata": {
        "id": "KHwlk_AvUr7Q",
        "colab_type": "code",
        "outputId": "5edfdf34-c716-45ca-e592-0bf6dade561a",
        "colab": {
          "base_uri": "https://localhost:8080/",
          "height": 0
        }
      },
      "source": [
        "%matplotlib inline\n",
        "from sklearn.preprocessing import StandardScaler\n",
        "from sklearn.linear_model import LinearRegression\n",
        "from sklearn.linear_model import LogisticRegression\n",
        "from sklearn.linear_model import Ridge\n",
        "from sklearn.decomposition import PCA\n",
        "from sklearn.ensemble import RandomForestClassifier, GradientBoostingClassifier\n",
        "from sklearn.discriminant_analysis import QuadraticDiscriminantAnalysis\n",
        "from sklearn.discriminant_analysis import LinearDiscriminantAnalysis\n",
        "from sklearn.neighbors import KNeighborsClassifier\n",
        "from sklearn.preprocessing import PolynomialFeatures\n",
        "from sklearn.tree import DecisionTreeClassifier, export_graphviz\n",
        "from IPython.display import Image\n",
        "from sklearn.metrics import mean_squared_error, confusion_matrix, classification_report\n",
        "from sklearn.externals.six import StringIO  \n",
        "from sklearn import metrics\n",
        "import pandas as pd\n",
        "import numpy as np  \n",
        "import pydotplus\n",
        "import matplotlib.pyplot as plt  \n",
        "from sklearn.model_selection import train_test_split  \n",
        "from sklearn.model_selection import cross_val_score\n",
        "from pandas import DataFrame\n",
        "import statsmodels.api as sm\n",
        "import seaborn as sns\n",
        "import scipy.stats as stats\n",
        "import sklearn\n",
        "import matplotlib\n",
        "matplotlib.rcParams.update({'font.size': 12})"
      ],
      "execution_count": 1,
      "outputs": [
        {
          "output_type": "stream",
          "text": [
            "/usr/local/lib/python3.6/dist-packages/sklearn/externals/six.py:31: DeprecationWarning: The module is deprecated in version 0.21 and will be removed in version 0.23 since we've dropped support for Python 2.7. Please rely on the official version of six (https://pypi.org/project/six/).\n",
            "  \"(https://pypi.org/project/six/).\", DeprecationWarning)\n"
          ],
          "name": "stderr"
        }
      ]
    },
    {
      "cell_type": "markdown",
      "metadata": {
        "id": "hzGlrj_GUFes",
        "colab_type": "text"
      },
      "source": [
        "## Importando CSV"
      ]
    },
    {
      "cell_type": "code",
      "metadata": {
        "id": "Mnnr1EjWTmnq",
        "colab_type": "code",
        "outputId": "d0310792-2fca-4fd3-c1f5-b43163d54df3",
        "colab": {
          "resources": {
            "http://localhost:8080/nbextensions/google.colab/files.js": {
              "data": "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",
              "ok": true,
              "headers": [
                [
                  "content-type",
                  "application/javascript"
                ]
              ],
              "status": 200,
              "status_text": ""
            }
          },
          "base_uri": "https://localhost:8080/",
          "height": 0
        }
      },
      "source": [
        "from google.colab import files\n",
        "uploaded = files.upload()"
      ],
      "execution_count": 2,
      "outputs": [
        {
          "output_type": "display_data",
          "data": {
            "text/html": [
              "\n",
              "     <input type=\"file\" id=\"files-31dd757e-4f67-4ea4-8d8a-5bcee93f2eaa\" name=\"files[]\" multiple disabled />\n",
              "     <output id=\"result-31dd757e-4f67-4ea4-8d8a-5bcee93f2eaa\">\n",
              "      Upload widget is only available when the cell has been executed in the\n",
              "      current browser session. Please rerun this cell to enable.\n",
              "      </output>\n",
              "      <script src=\"/nbextensions/google.colab/files.js\"></script> "
            ],
            "text/plain": [
              "<IPython.core.display.HTML object>"
            ]
          },
          "metadata": {
            "tags": []
          }
        },
        {
          "output_type": "stream",
          "text": [
            "Saving vic_final.csv to vic_final.csv\n"
          ],
          "name": "stdout"
        }
      ]
    },
    {
      "cell_type": "code",
      "metadata": {
        "id": "YxBE95p9UZEv",
        "colab_type": "code",
        "colab": {}
      },
      "source": [
        "df = pd.read_csv('vic_final.csv')\n",
        "df.drop(u'Unnamed: 0', axis=1, inplace=True)# irrelevante"
      ],
      "execution_count": 0,
      "outputs": []
    },
    {
      "cell_type": "markdown",
      "metadata": {
        "id": "B_mcE5oTUz6w",
        "colab_type": "text"
      },
      "source": [
        "## División de regiones de la data\n",
        "\n",
        "\n",
        "* Reference for dividing the regions: https://aprende.guatemala.com/historia/geografia/regiones-de-guatemala/"
      ]
    },
    {
      "cell_type": "markdown",
      "metadata": {
        "id": "JERGoFdBXxvv",
        "colab_type": "text"
      },
      "source": [
        "### Departamentos segun código\n",
        "\n",
        "| Codigo  | Departamento      |\n",
        "|----|----------------|\n",
        "| 1  | Guatemala      |\n",
        "| 2  | El Progreso    |\n",
        "| 3  | Sacatepéquez   |\n",
        "| 4  | Chimaltenango  |\n",
        "| 5  | Escuintla      |\n",
        "| 6  | Santa Rosa     |\n",
        "| 7  | Sololá         |\n",
        "| 8  | Totonicapán    |\n",
        "| 9  | Quetzaltenango |\n",
        "| 10 | Suchitepéquez  |\n",
        "| 11 | Retalhuleu     |\n",
        "| 12 | San Marcos     |\n",
        "| 13 | Huehuetenango  |\n",
        "| 14 | Quiché         |\n",
        "| 15 | Baja Verapaz   |\n",
        "| 16 | Alta Verapaz   |\n",
        "| 17 | Petén          |\n",
        "| 18 | Izabal         |\n",
        "| 19 | Zacapa         |\n",
        "| 20 | Chiquimula     |\n",
        "| 21 | Jalapa         |\n",
        "| 22 | Jutiapa        |\n"
      ]
    },
    {
      "cell_type": "code",
      "metadata": {
        "id": "BuLF9FjnqUxq",
        "colab_type": "code",
        "colab": {}
      },
      "source": [
        "metro = [1]\n",
        "norte = [15, 16]\n",
        "nor_or = [18, 19, 2, 20]\n",
        "sur_or = [21, 22, 6]\n",
        "central = [4, 3, 5]\n",
        "sur_oc = [12, 11, 9, 8, 7, 10]\n",
        "nor_oc = [13, 14]\n",
        "peten = [17]\n",
        "\n",
        "reg = []"
      ],
      "execution_count": 0,
      "outputs": []
    },
    {
      "cell_type": "code",
      "metadata": {
        "id": "qXoLN5T1jLMa",
        "colab_type": "code",
        "colab": {}
      },
      "source": [
        "for i in df['dept']:\n",
        "    if i in metro:\n",
        "        reg.append(\"metro\")\n",
        "    elif i in norte:\n",
        "        reg.append(\"norte\")\n",
        "    elif i in nor_or:\n",
        "        reg.append(\"nor_or\")    \n",
        "    elif i in sur_or:\n",
        "        reg.append(\"sur_or\")    \n",
        "    elif i in central:\n",
        "        reg.append(\"central\") \n",
        "    elif i in sur_oc:\n",
        "        reg.append(\"sur_oc\")    \n",
        "    elif i in nor_oc:\n",
        "        reg.append(\"nor_oc\")\n",
        "    elif i in peten:\n",
        "        reg.append(\"peten\")"
      ],
      "execution_count": 0,
      "outputs": []
    },
    {
      "cell_type": "code",
      "metadata": {
        "id": "F5EhIF7mtGQb",
        "colab_type": "code",
        "colab": {}
      },
      "source": [
        "df['region'] = reg"
      ],
      "execution_count": 0,
      "outputs": []
    },
    {
      "cell_type": "code",
      "metadata": {
        "id": "UTbMKnl0tB9I",
        "colab_type": "code",
        "outputId": "55924d40-f620-41af-ef42-124b8c291bd2",
        "colab": {
          "base_uri": "https://localhost:8080/",
          "height": 204
        }
      },
      "source": [
        "df.head()"
      ],
      "execution_count": 57,
      "outputs": [
        {
          "output_type": "execute_result",
          "data": {
            "text/html": [
              "<div>\n",
              "<style scoped>\n",
              "    .dataframe tbody tr th:only-of-type {\n",
              "        vertical-align: middle;\n",
              "    }\n",
              "\n",
              "    .dataframe tbody tr th {\n",
              "        vertical-align: top;\n",
              "    }\n",
              "\n",
              "    .dataframe thead th {\n",
              "        text-align: right;\n",
              "    }\n",
              "</style>\n",
              "<table border=\"1\" class=\"dataframe\">\n",
              "  <thead>\n",
              "    <tr style=\"text-align: right;\">\n",
              "      <th></th>\n",
              "      <th>mes</th>\n",
              "      <th>dia</th>\n",
              "      <th>dia_sem</th>\n",
              "      <th>hora</th>\n",
              "      <th>g_hora</th>\n",
              "      <th>area</th>\n",
              "      <th>dept</th>\n",
              "      <th>muni</th>\n",
              "      <th>sexo</th>\n",
              "      <th>edad</th>\n",
              "      <th>g_edad</th>\n",
              "      <th>mayor_menor</th>\n",
              "      <th>delito</th>\n",
              "      <th>g_delitos</th>\n",
              "      <th>region</th>\n",
              "    </tr>\n",
              "  </thead>\n",
              "  <tbody>\n",
              "    <tr>\n",
              "      <th>0</th>\n",
              "      <td>1</td>\n",
              "      <td>1</td>\n",
              "      <td>7</td>\n",
              "      <td>3</td>\n",
              "      <td>1</td>\n",
              "      <td>2</td>\n",
              "      <td>1</td>\n",
              "      <td>115</td>\n",
              "      <td>1</td>\n",
              "      <td>22</td>\n",
              "      <td>5</td>\n",
              "      <td>1</td>\n",
              "      <td>69</td>\n",
              "      <td>4</td>\n",
              "      <td>metro</td>\n",
              "    </tr>\n",
              "    <tr>\n",
              "      <th>1</th>\n",
              "      <td>1</td>\n",
              "      <td>1</td>\n",
              "      <td>7</td>\n",
              "      <td>19</td>\n",
              "      <td>4</td>\n",
              "      <td>2</td>\n",
              "      <td>2</td>\n",
              "      <td>207</td>\n",
              "      <td>1</td>\n",
              "      <td>24</td>\n",
              "      <td>5</td>\n",
              "      <td>1</td>\n",
              "      <td>69</td>\n",
              "      <td>4</td>\n",
              "      <td>nor_or</td>\n",
              "    </tr>\n",
              "    <tr>\n",
              "      <th>2</th>\n",
              "      <td>1</td>\n",
              "      <td>2</td>\n",
              "      <td>1</td>\n",
              "      <td>8</td>\n",
              "      <td>2</td>\n",
              "      <td>2</td>\n",
              "      <td>19</td>\n",
              "      <td>1901</td>\n",
              "      <td>1</td>\n",
              "      <td>35</td>\n",
              "      <td>8</td>\n",
              "      <td>1</td>\n",
              "      <td>75</td>\n",
              "      <td>3</td>\n",
              "      <td>nor_or</td>\n",
              "    </tr>\n",
              "    <tr>\n",
              "      <th>3</th>\n",
              "      <td>1</td>\n",
              "      <td>2</td>\n",
              "      <td>1</td>\n",
              "      <td>18</td>\n",
              "      <td>4</td>\n",
              "      <td>1</td>\n",
              "      <td>5</td>\n",
              "      <td>501</td>\n",
              "      <td>1</td>\n",
              "      <td>27</td>\n",
              "      <td>6</td>\n",
              "      <td>1</td>\n",
              "      <td>75</td>\n",
              "      <td>3</td>\n",
              "      <td>central</td>\n",
              "    </tr>\n",
              "    <tr>\n",
              "      <th>4</th>\n",
              "      <td>1</td>\n",
              "      <td>2</td>\n",
              "      <td>1</td>\n",
              "      <td>12</td>\n",
              "      <td>3</td>\n",
              "      <td>2</td>\n",
              "      <td>10</td>\n",
              "      <td>1001</td>\n",
              "      <td>1</td>\n",
              "      <td>62</td>\n",
              "      <td>13</td>\n",
              "      <td>1</td>\n",
              "      <td>75</td>\n",
              "      <td>3</td>\n",
              "      <td>sur_oc</td>\n",
              "    </tr>\n",
              "  </tbody>\n",
              "</table>\n",
              "</div>"
            ],
            "text/plain": [
              "   mes  dia  dia_sem  hora  ...  mayor_menor  delito  g_delitos   region\n",
              "0    1    1        7     3  ...            1      69          4    metro\n",
              "1    1    1        7    19  ...            1      69          4   nor_or\n",
              "2    1    2        1     8  ...            1      75          3   nor_or\n",
              "3    1    2        1    18  ...            1      75          3  central\n",
              "4    1    2        1    12  ...            1      75          3   sur_oc\n",
              "\n",
              "[5 rows x 15 columns]"
            ]
          },
          "metadata": {
            "tags": []
          },
          "execution_count": 57
        }
      ]
    },
    {
      "cell_type": "code",
      "metadata": {
        "id": "87Z8DYELvdAr",
        "colab_type": "code",
        "colab": {}
      },
      "source": [
        "Region_Count_Table = df.region.value_counts()"
      ],
      "execution_count": 0,
      "outputs": []
    },
    {
      "cell_type": "code",
      "metadata": {
        "id": "z35t92VXu-j4",
        "colab_type": "code",
        "outputId": "f5b0efba-fde5-4c3b-d6ab-0b16e719b2af",
        "colab": {
          "base_uri": "https://localhost:8080/",
          "height": 289
        }
      },
      "source": [
        "Region_Count_Table.plot.bar(x='lab', y='val', rot=0)"
      ],
      "execution_count": 9,
      "outputs": [
        {
          "output_type": "execute_result",
          "data": {
            "text/plain": [
              "<matplotlib.axes._subplots.AxesSubplot at 0x7ff376fc3d68>"
            ]
          },
          "metadata": {
            "tags": []
          },
          "execution_count": 9
        },
        {
          "output_type": "display_data",
          "data": {
            "image/png": "[encoded data removed]",
            "text/plain": [
              "<Figure size 432x288 with 1 Axes>"
            ]
          },
          "metadata": {
            "tags": []
          }
        }
      ]
    },
    {
      "cell_type": "markdown",
      "metadata": {
        "id": "lniQaC__0XmO",
        "colab_type": "text"
      },
      "source": [
        "* There are probably more crimes reported in the City because there's more police presence there. Also it is easier to go and report a crime than in the outside. \n",
        "* It is interesting how the North Occidental and North region have almost the same crime.\n"
      ]
    },
    {
      "cell_type": "markdown",
      "metadata": {
        "id": "xB_juXP_9WrZ",
        "colab_type": "text"
      },
      "source": [
        "* The crime group are in order of less serious to fatal and worst.\n",
        "\n",
        "[0] Detenciones\n",
        "\n",
        "[1] Crímenes leves\n",
        "\n",
        "[2] Lesiones \n",
        "\n",
        "[3] Hurto leve \n",
        "\n",
        "[4] Robo \n",
        "\n",
        "[5] Extorsión \n",
        "\n",
        "[6] Muerte  \n"
      ]
    },
    {
      "cell_type": "markdown",
      "metadata": {
        "id": "geZwCe2PJvf0",
        "colab_type": "text"
      },
      "source": [
        "## Division of crimes on the city"
      ]
    },
    {
      "cell_type": "code",
      "metadata": {
        "id": "xr08sBB17h3-",
        "colab_type": "code",
        "colab": {}
      },
      "source": [
        "ciudad = df.loc[df.dept ==1]"
      ],
      "execution_count": 0,
      "outputs": []
    },
    {
      "cell_type": "code",
      "metadata": {
        "id": "Br2G6e3c7bts",
        "colab_type": "code",
        "outputId": "332c01f7-e236-42bb-d56a-54669a86bad3",
        "colab": {
          "base_uri": "https://localhost:8080/",
          "height": 0
        }
      },
      "source": [
        "Ciudad_Count_Table = ciudad.g_delitos.value_counts()\n",
        "Ciudad_Count_Table.plot.bar(x='lab', y='val', rot=0)"
      ],
      "execution_count": 11,
      "outputs": [
        {
          "output_type": "execute_result",
          "data": {
            "text/plain": [
              "<matplotlib.axes._subplots.AxesSubplot at 0x7ff376f07e80>"
            ]
          },
          "metadata": {
            "tags": []
          },
          "execution_count": 11
        },
        {
          "output_type": "display_data",
          "data": {
            "image/png": "[encoded data removed]",
            "text/plain": [
              "<Figure size 432x288 with 1 Axes>"
            ]
          },
          "metadata": {
            "tags": []
          }
        }
      ]
    },
    {
      "cell_type": "markdown",
      "metadata": {
        "id": "-0n9yUicKKfH",
        "colab_type": "text"
      },
      "source": [
        "## Division of crimes in Fraijanes\n"
      ]
    },
    {
      "cell_type": "code",
      "metadata": {
        "id": "ecjnuSy4lYUE",
        "colab_type": "code",
        "colab": {}
      },
      "source": [
        "fraijanes = ciudad.loc[ciudad.muni ==113]\n",
        "#fraijanes.drop(['muni', 'dept', 'region'], axis=1)"
      ],
      "execution_count": 0,
      "outputs": []
    },
    {
      "cell_type": "markdown",
      "metadata": {
        "id": "GIgrrWDbN6mj",
        "colab_type": "text"
      },
      "source": [
        "### Creation of different Counting Tables"
      ]
    },
    {
      "cell_type": "code",
      "metadata": {
        "id": "HhZKcY-OmyyP",
        "colab_type": "code",
        "colab": {}
      },
      "source": [
        "Fraijanes_mes_Count_Table = fraijanes.mes.value_counts()\n",
        "Fraijanes_dia_sem_Count_Table = fraijanes.dia_sem.value_counts()\n",
        "Fraijanes_g_hora_Count_Table = fraijanes.g_hora.value_counts()\n",
        "Fraijanes_area_Count_Table = fraijanes.area.value_counts()\n",
        "Fraijanes_sexo_Count_Table = fraijanes.sexo.value_counts()\n",
        "Fraijanes_g_edad_Count_Table = fraijanes.g_edad.value_counts()\n",
        "Fraijanes_delito_Count_Table = fraijanes.delito.value_counts()"
      ],
      "execution_count": 0,
      "outputs": []
    },
    {
      "cell_type": "code",
      "metadata": {
        "id": "3r8-umGAnXkt",
        "colab_type": "code",
        "colab": {}
      },
      "source": [
        "Fraijanes_mes_Count_Table.plot.bar(x='lab', y='val', rot=0)"
      ],
      "execution_count": 0,
      "outputs": []
    },
    {
      "cell_type": "code",
      "metadata": {
        "id": "3a181ncHnl3R",
        "colab_type": "code",
        "colab": {}
      },
      "source": [
        "Fraijanes_dia_sem_Count_Table.plot.bar(x='lab', y='val', rot=0)"
      ],
      "execution_count": 0,
      "outputs": []
    },
    {
      "cell_type": "code",
      "metadata": {
        "id": "QPhuRfqfnnEy",
        "colab_type": "code",
        "colab": {}
      },
      "source": [
        "Fraijanes_g_hora_Count_Table.plot.bar(x='lab', y='val', rot=0)"
      ],
      "execution_count": 0,
      "outputs": []
    },
    {
      "cell_type": "code",
      "metadata": {
        "id": "ymGKI2XwnoM5",
        "colab_type": "code",
        "colab": {}
      },
      "source": [
        "Fraijanes_area_Count_Table.plot.bar(x='lab', y='val', rot=0)"
      ],
      "execution_count": 0,
      "outputs": []
    },
    {
      "cell_type": "code",
      "metadata": {
        "id": "CF7l9xpNnpWD",
        "colab_type": "code",
        "colab": {}
      },
      "source": [
        "Fraijanes_sexo_Count_Table.plot.bar(x='lab', y='val', rot=0)"
      ],
      "execution_count": 0,
      "outputs": []
    },
    {
      "cell_type": "code",
      "metadata": {
        "id": "5KfeFDHknqYM",
        "colab_type": "code",
        "colab": {}
      },
      "source": [
        "Fraijanes_g_edad_Count_Table.plot.bar(x='lab', y='val', rot=0)"
      ],
      "execution_count": 0,
      "outputs": []
    },
    {
      "cell_type": "code",
      "metadata": {
        "id": "b0e76DZfnrUX",
        "colab_type": "code",
        "colab": {}
      },
      "source": [
        "Fraijanes_delito_Count_Table.plot.bar(x='lab', y='val', rot=0)"
      ],
      "execution_count": 0,
      "outputs": []
    },
    {
      "cell_type": "markdown",
      "metadata": {
        "id": "lG4mE9eTKVX6",
        "colab_type": "text"
      },
      "source": [
        "## Funcion para identificacion de los crimenes dentro de un area"
      ]
    },
    {
      "cell_type": "code",
      "metadata": {
        "id": "0XqGcNSzotry",
        "colab_type": "code",
        "outputId": "289c2a7e-df0e-4fa1-82c1-cdfe4c5e0c85",
        "colab": {
          "base_uri": "https://localhost:8080/",
          "height": 0
        }
      },
      "source": [
        "del_com = Fraijanes_delito_Count_Table.reset_index(name='Delitos en Fraijanes')\n",
        "del_com[\"Delito\"] = ['Homicidio por arma de fuego', 'Desaparecido', 'Robo a residencias', 'Extorsion a comercios', 'Lesiones por armas blanca', 'Lesiones por arma de fuego',\n",
        "                    'Robo de armas de fuego', 'Extorsion a residencias', 'Homicidio por arma contundente', 'Hurto a residencias',\n",
        "                    'Hurto de armas de fuego', 'Robo de vehiculos', 'Lesiones por arma contundente', 'Robo a peatones', 'Otras causas (detenidos)', 'Homicidio por estrangulamiento', 'Hurto a comercios',\n",
        "                    'Robo a comercios', 'Hurto de motocicletas', 'Hurto de vehiculos', 'Homicidio por arma blanca', 'Robo de motocicletas', 'Intento de suicidio por arma de fuego', \n",
        "                    'Robo en iglesias', 'Extorsion a transporte escolar', 'Suicidio por arma blanca']\n",
        "del_com[\"Gravedad\"] = [\"HOMICIDIO\",\"DESAPARICION\",\"ROBO\",\"EXTORSION\",\"LESION\",\"LESION\",\"ROBO\",\"EXTORSION\",\"HOMICIDIO\",\"HURTO\",\"HURTO\",'ROBO','LESION','ROBO','OTRO','HOMICIDIO','HURTO','ROBO','HURTO','HURTO','HOMICIDIO','ROBO','LESION','ROBO','EXTORSION','HOMICIDIO']\n",
        "del_com"
      ],
      "execution_count": 18,
      "outputs": [
        {
          "output_type": "execute_result",
          "data": {
            "text/html": [
              "<div>\n",
              "<style scoped>\n",
              "    .dataframe tbody tr th:only-of-type {\n",
              "        vertical-align: middle;\n",
              "    }\n",
              "\n",
              "    .dataframe tbody tr th {\n",
              "        vertical-align: top;\n",
              "    }\n",
              "\n",
              "    .dataframe thead th {\n",
              "        text-align: right;\n",
              "    }\n",
              "</style>\n",
              "<table border=\"1\" class=\"dataframe\">\n",
              "  <thead>\n",
              "    <tr style=\"text-align: right;\">\n",
              "      <th></th>\n",
              "      <th>index</th>\n",
              "      <th>Delitos en Fraijanes</th>\n",
              "      <th>Delito</th>\n",
              "      <th>Gravedad</th>\n",
              "    </tr>\n",
              "  </thead>\n",
              "  <tbody>\n",
              "    <tr>\n",
              "      <th>0</th>\n",
              "      <td>1</td>\n",
              "      <td>18</td>\n",
              "      <td>Homicidio por arma de fuego</td>\n",
              "      <td>HOMICIDIO</td>\n",
              "    </tr>\n",
              "    <tr>\n",
              "      <th>1</th>\n",
              "      <td>71</td>\n",
              "      <td>13</td>\n",
              "      <td>Desaparecido</td>\n",
              "      <td>DESAPARICION</td>\n",
              "    </tr>\n",
              "    <tr>\n",
              "      <th>2</th>\n",
              "      <td>19</td>\n",
              "      <td>11</td>\n",
              "      <td>Robo a residencias</td>\n",
              "      <td>ROBO</td>\n",
              "    </tr>\n",
              "    <tr>\n",
              "      <th>3</th>\n",
              "      <td>97</td>\n",
              "      <td>9</td>\n",
              "      <td>Extorsion a comercios</td>\n",
              "      <td>EXTORSION</td>\n",
              "    </tr>\n",
              "    <tr>\n",
              "      <th>4</th>\n",
              "      <td>8</td>\n",
              "      <td>8</td>\n",
              "      <td>Lesiones por armas blanca</td>\n",
              "      <td>LESION</td>\n",
              "    </tr>\n",
              "    <tr>\n",
              "      <th>5</th>\n",
              "      <td>7</td>\n",
              "      <td>7</td>\n",
              "      <td>Lesiones por arma de fuego</td>\n",
              "      <td>LESION</td>\n",
              "    </tr>\n",
              "    <tr>\n",
              "      <th>6</th>\n",
              "      <td>69</td>\n",
              "      <td>7</td>\n",
              "      <td>Robo de armas de fuego</td>\n",
              "      <td>ROBO</td>\n",
              "    </tr>\n",
              "    <tr>\n",
              "      <th>7</th>\n",
              "      <td>104</td>\n",
              "      <td>5</td>\n",
              "      <td>Extorsion a residencias</td>\n",
              "      <td>EXTORSION</td>\n",
              "    </tr>\n",
              "    <tr>\n",
              "      <th>8</th>\n",
              "      <td>3</td>\n",
              "      <td>5</td>\n",
              "      <td>Homicidio por arma contundente</td>\n",
              "      <td>HOMICIDIO</td>\n",
              "    </tr>\n",
              "    <tr>\n",
              "      <th>9</th>\n",
              "      <td>81</td>\n",
              "      <td>5</td>\n",
              "      <td>Hurto a residencias</td>\n",
              "      <td>HURTO</td>\n",
              "    </tr>\n",
              "    <tr>\n",
              "      <th>10</th>\n",
              "      <td>75</td>\n",
              "      <td>5</td>\n",
              "      <td>Hurto de armas de fuego</td>\n",
              "      <td>HURTO</td>\n",
              "    </tr>\n",
              "    <tr>\n",
              "      <th>11</th>\n",
              "      <td>22</td>\n",
              "      <td>4</td>\n",
              "      <td>Robo de vehiculos</td>\n",
              "      <td>ROBO</td>\n",
              "    </tr>\n",
              "    <tr>\n",
              "      <th>12</th>\n",
              "      <td>9</td>\n",
              "      <td>4</td>\n",
              "      <td>Lesiones por arma contundente</td>\n",
              "      <td>LESION</td>\n",
              "    </tr>\n",
              "    <tr>\n",
              "      <th>13</th>\n",
              "      <td>30</td>\n",
              "      <td>4</td>\n",
              "      <td>Robo a peatones</td>\n",
              "      <td>ROBO</td>\n",
              "    </tr>\n",
              "    <tr>\n",
              "      <th>14</th>\n",
              "      <td>68</td>\n",
              "      <td>3</td>\n",
              "      <td>Otras causas (detenidos)</td>\n",
              "      <td>OTRO</td>\n",
              "    </tr>\n",
              "    <tr>\n",
              "      <th>15</th>\n",
              "      <td>5</td>\n",
              "      <td>3</td>\n",
              "      <td>Homicidio por estrangulamiento</td>\n",
              "      <td>HOMICIDIO</td>\n",
              "    </tr>\n",
              "    <tr>\n",
              "      <th>16</th>\n",
              "      <td>21</td>\n",
              "      <td>2</td>\n",
              "      <td>Hurto a comercios</td>\n",
              "      <td>HURTO</td>\n",
              "    </tr>\n",
              "    <tr>\n",
              "      <th>17</th>\n",
              "      <td>20</td>\n",
              "      <td>2</td>\n",
              "      <td>Robo a comercios</td>\n",
              "      <td>ROBO</td>\n",
              "    </tr>\n",
              "    <tr>\n",
              "      <th>18</th>\n",
              "      <td>79</td>\n",
              "      <td>2</td>\n",
              "      <td>Hurto de motocicletas</td>\n",
              "      <td>HURTO</td>\n",
              "    </tr>\n",
              "    <tr>\n",
              "      <th>19</th>\n",
              "      <td>83</td>\n",
              "      <td>2</td>\n",
              "      <td>Hurto de vehiculos</td>\n",
              "      <td>HURTO</td>\n",
              "    </tr>\n",
              "    <tr>\n",
              "      <th>20</th>\n",
              "      <td>2</td>\n",
              "      <td>2</td>\n",
              "      <td>Homicidio por arma blanca</td>\n",
              "      <td>HOMICIDIO</td>\n",
              "    </tr>\n",
              "    <tr>\n",
              "      <th>21</th>\n",
              "      <td>24</td>\n",
              "      <td>1</td>\n",
              "      <td>Robo de motocicletas</td>\n",
              "      <td>ROBO</td>\n",
              "    </tr>\n",
              "    <tr>\n",
              "      <th>22</th>\n",
              "      <td>106</td>\n",
              "      <td>1</td>\n",
              "      <td>Intento de suicidio por arma de fuego</td>\n",
              "      <td>LESION</td>\n",
              "    </tr>\n",
              "    <tr>\n",
              "      <th>23</th>\n",
              "      <td>35</td>\n",
              "      <td>1</td>\n",
              "      <td>Robo en iglesias</td>\n",
              "      <td>ROBO</td>\n",
              "    </tr>\n",
              "    <tr>\n",
              "      <th>24</th>\n",
              "      <td>100</td>\n",
              "      <td>1</td>\n",
              "      <td>Extorsion a transporte escolar</td>\n",
              "      <td>EXTORSION</td>\n",
              "    </tr>\n",
              "    <tr>\n",
              "      <th>25</th>\n",
              "      <td>111</td>\n",
              "      <td>1</td>\n",
              "      <td>Suicidio por arma blanca</td>\n",
              "      <td>HOMICIDIO</td>\n",
              "    </tr>\n",
              "  </tbody>\n",
              "</table>\n",
              "</div>"
            ],
            "text/plain": [
              "    index  ...      Gravedad\n",
              "0       1  ...     HOMICIDIO\n",
              "1      71  ...  DESAPARICION\n",
              "2      19  ...          ROBO\n",
              "3      97  ...     EXTORSION\n",
              "4       8  ...        LESION\n",
              "5       7  ...        LESION\n",
              "6      69  ...          ROBO\n",
              "7     104  ...     EXTORSION\n",
              "8       3  ...     HOMICIDIO\n",
              "9      81  ...         HURTO\n",
              "10     75  ...         HURTO\n",
              "11     22  ...          ROBO\n",
              "12      9  ...        LESION\n",
              "13     30  ...          ROBO\n",
              "14     68  ...          OTRO\n",
              "15      5  ...     HOMICIDIO\n",
              "16     21  ...         HURTO\n",
              "17     20  ...          ROBO\n",
              "18     79  ...         HURTO\n",
              "19     83  ...         HURTO\n",
              "20      2  ...     HOMICIDIO\n",
              "21     24  ...          ROBO\n",
              "22    106  ...        LESION\n",
              "23     35  ...          ROBO\n",
              "24    100  ...     EXTORSION\n",
              "25    111  ...     HOMICIDIO\n",
              "\n",
              "[26 rows x 4 columns]"
            ]
          },
          "metadata": {
            "tags": []
          },
          "execution_count": 18
        }
      ]
    },
    {
      "cell_type": "code",
      "metadata": {
        "id": "kQ1jwTKBwdXy",
        "colab_type": "code",
        "outputId": "707c8a03-a9cd-4c79-a85c-6806d4fa0ba5",
        "colab": {
          "base_uri": "https://localhost:8080/",
          "height": 34
        }
      },
      "source": [
        "crimenes_fraijanes = del_com['Delitos en Fraijanes'].sum()\n",
        "crimenes_fraijanes"
      ],
      "execution_count": 19,
      "outputs": [
        {
          "output_type": "execute_result",
          "data": {
            "text/plain": [
              "126"
            ]
          },
          "metadata": {
            "tags": []
          },
          "execution_count": 19
        }
      ]
    },
    {
      "cell_type": "markdown",
      "metadata": {
        "id": "rxjwnm7n34gh",
        "colab_type": "text"
      },
      "source": [
        "## Table for crime index"
      ]
    },
    {
      "cell_type": "markdown",
      "metadata": {
        "id": "ZFiijNJ6KkOH",
        "colab_type": "text"
      },
      "source": [
        "### Creation of the lists of crimes"
      ]
    },
    {
      "cell_type": "code",
      "metadata": {
        "id": "l7K4lbjt34Cv",
        "colab_type": "code",
        "colab": {}
      },
      "source": [
        "number = list(range(1,127))\n",
        "number.remove(13)\n",
        "number.remove(14)\n",
        "number.remove(18)\n",
        "number.remove(57)\n",
        "number.remove(70)\n",
        "number.remove(122)"
      ],
      "execution_count": 0,
      "outputs": []
    },
    {
      "cell_type": "code",
      "metadata": {
        "id": "qCR8CuDc7XIN",
        "colab_type": "code",
        "colab": {}
      },
      "source": [
        "delitos_descr = [\"Homicidio por arma de fuego\", \"Homicidio por arma blanca\", \"Homicidio por arma contundente\", \"Homicidio por artefacto explosivo\",\n",
        "\"Homicidio por estrangulamiento\", \"Homicidio por linchamiento\", \"Lesiones por arma de fuego\", \"Lesiones por arma blanca\", \"Lesiones por arma contundente\", \n",
        "\"Lesiones por artefacto explosivo\", \"Lesiones por linchamiento\", \"Agresión\", \"Secuestro\", \"Autosecuestro\", \"Allanamiento de morada\", \"Robo a residencias\",\n",
        "\"Robo a comercios\", \"Hurto a comercios\", \"Robo de vehículos\", \"Robo de camiones/trailers con mercadería\", \"Robo de motocicletas\", \"Portación ilegal arma de fuego\",\n",
        "\"Portación arma blanca\", \"Robo a bancos\", \"Robos a turistas extranjeros\", \"Robo a turistas nacionales\", \"Robo a peatones\", \"Robo a blindados\", \"Robo a buses urbanos\",\n",
        "\"Robo a buses extraurbanos\", \"Cobro ilegal de impuesto a buses\", \"Robo en iglesias\", \"Otros robos y hurtos\", \"Impuesto a negocios\", \"En desalojos de fincas\",\n",
        "\"En allanamientos judiciales\", \"Extorsión\",\"Portación artefacto explosivo\",\"Tenencia de droga\",\"Tráfico de droga\",\"Siembra y cultivo de drogas\",\n",
        "\"Delitos forestales\",\"Cohecho\",\"Orden de captura\",\"Riña\",\"Daños\",\"Ebriedad y escándalo\",\"Escándalo bajo efectos de droga\",\"Responsabilidad de conductores\",\n",
        "\"Accidente de tránsito\",\"Indocumentados extranjeros (remitidos)\",\"Estafa\",\"Perversión de menores\",\"Contrabando\",\"Disparos\",\"Falsificación de documentos\",\n",
        "\"Falsificación de moneda\",\"Disturbios\",\"Tenencia de licores clandestirnos\",\"Rapto\",\"Actos inmorales en la vía pública\",\"Maltrato infantil\",\"Juegos ilícitos\",\n",
        "\"Otras causas (detenidos)\",\"Robo de armas de fuego\",\"Desaparecidos\",\"Extravío de armas de fuego\",\"Robo a microbuses extraurbanos\",\"Robo a microbuses urbanos\",\n",
        "\"Hurto de armas de fuego\",\"Hurto a buses extraurbanos\",\"Hurto a buses urbanos\",\"Hurto a iglesias\",\"Hurto de motocicletas\",\"Hurto a peatones\",\n",
        "\"Hurto a residencias\",\"Hurto a turistas extranjeros\",\"Hurto de vehículos\",\"Violación\",\"Robo a bus\",\"Intento de suicidio por arma blanca\",\n",
        "\"Suicidio por arma de fuego\",\"Suicidio por asfixia\",\"Suicidio por intoxicación de insecticida\",\"Intento de suicidio por intoxicación de medicamentos\",\n",
        "\"Suicidio por otras intoxicaciones\",\"Suicidio por politraumatismo\",\"Suicidio por intoxicación de envenenamiento\",\"Extorsión a buses extraurbanos\",\n",
        "\"Extorsión a buses urbanos\",\"Extorsión a centro educativo\",\"Extorsión a comercios\",\"Extorsión a municipalidad\",\"Extorsión a taxis\",\"Extorsión a transporte escolar\",\n",
        "\"Extorsión a transporte pesado\",\"Extorsión a mototaxis\",\"Extorsión a iglesias\",\"Extorsión a residencias\",\"Otras extorsiones\",\"Intento de suicidio por arma de fuego\",\n",
        "\"Intento de suicidio por asfixia\",\"Intento de suicidio por intoxicación de insecticida\",\"Intento de suicidio por otras intoxicaciones\",\"Intento de suicidio por politraumatismo\",\"Suicidio por arma blanca\",\n",
        "\"Intento de suicidio por intoxiación de envenenamiento\",\"Suicidio por intoxicación de medicamentos\",\"Extorsión a instituciones\",\"Hurto a bancos\",\n",
        "\"Suicidio por causa ignorada\",\"Intento de suicidio por quemadura\",\"Armas incautadas\",\"Intento de suicidio por intoxicación alcohólica\",\"Suicidio por intoxicación alcohólica\",\n",
        "\"Intento de suicidio por causa ignorada\",\"Intento de suicidio por arma contundente\",\"Motos recuperadas\",\"Vehículos recuperados\",\"Lesiones por vapuleo\"]"
      ],
      "execution_count": 0,
      "outputs": []
    },
    {
      "cell_type": "code",
      "metadata": {
        "id": "6eCwymaTNIZr",
        "colab_type": "code",
        "colab": {}
      },
      "source": [
        "data = {'index':number, 'Delitos':delitos_descr} "
      ],
      "execution_count": 0,
      "outputs": []
    },
    {
      "cell_type": "markdown",
      "metadata": {
        "id": "GJ64dxeoNjNA",
        "colab_type": "text"
      },
      "source": [
        "## Analysis of municipio"
      ]
    },
    {
      "cell_type": "markdown",
      "metadata": {
        "id": "k5mfHxHvNLxS",
        "colab_type": "text"
      },
      "source": [
        "### Creation of dataframe for analysis"
      ]
    },
    {
      "cell_type": "code",
      "metadata": {
        "id": "mtAyx9_-5_Bx",
        "colab_type": "code",
        "colab": {}
      },
      "source": [
        "# Create DataFrame \n",
        "\n",
        "descrip = pd.DataFrame(data)\n",
        "ciudad = df.loc[df.dept ==1]\n",
        "muni = ciudad.loc[ciudad.muni ==113]\n",
        "delito_Count_Table = muni.delito.value_counts()\n",
        "del_com = delito_Count_Table.reset_index(name='Delitos en ')\n",
        "union_tables = pd.merge(del_com, descrip, on='index', how='inner')"
      ],
      "execution_count": 0,
      "outputs": []
    },
    {
      "cell_type": "code",
      "metadata": {
        "id": "YXxPWtqcRgAu",
        "colab_type": "code",
        "colab": {
          "base_uri": "https://localhost:8080/",
          "height": 0
        },
        "outputId": "588922a0-5b0b-42ef-feb6-3e5b29ae4b39"
      },
      "source": [
        "union_tables"
      ],
      "execution_count": 85,
      "outputs": [
        {
          "output_type": "execute_result",
          "data": {
            "text/html": [
              "<div>\n",
              "<style scoped>\n",
              "    .dataframe tbody tr th:only-of-type {\n",
              "        vertical-align: middle;\n",
              "    }\n",
              "\n",
              "    .dataframe tbody tr th {\n",
              "        vertical-align: top;\n",
              "    }\n",
              "\n",
              "    .dataframe thead th {\n",
              "        text-align: right;\n",
              "    }\n",
              "</style>\n",
              "<table border=\"1\" class=\"dataframe\">\n",
              "  <thead>\n",
              "    <tr style=\"text-align: right;\">\n",
              "      <th></th>\n",
              "      <th>index</th>\n",
              "      <th>Delitos en</th>\n",
              "      <th>Delitos</th>\n",
              "    </tr>\n",
              "  </thead>\n",
              "  <tbody>\n",
              "    <tr>\n",
              "      <th>0</th>\n",
              "      <td>1</td>\n",
              "      <td>18</td>\n",
              "      <td>Homicidio por arma de fuego</td>\n",
              "    </tr>\n",
              "    <tr>\n",
              "      <th>1</th>\n",
              "      <td>71</td>\n",
              "      <td>13</td>\n",
              "      <td>Desaparecidos</td>\n",
              "    </tr>\n",
              "    <tr>\n",
              "      <th>2</th>\n",
              "      <td>19</td>\n",
              "      <td>11</td>\n",
              "      <td>Robo a residencias</td>\n",
              "    </tr>\n",
              "    <tr>\n",
              "      <th>3</th>\n",
              "      <td>97</td>\n",
              "      <td>9</td>\n",
              "      <td>Extorsión a comercios</td>\n",
              "    </tr>\n",
              "    <tr>\n",
              "      <th>4</th>\n",
              "      <td>8</td>\n",
              "      <td>8</td>\n",
              "      <td>Lesiones por arma blanca</td>\n",
              "    </tr>\n",
              "    <tr>\n",
              "      <th>5</th>\n",
              "      <td>7</td>\n",
              "      <td>7</td>\n",
              "      <td>Lesiones por arma de fuego</td>\n",
              "    </tr>\n",
              "    <tr>\n",
              "      <th>6</th>\n",
              "      <td>69</td>\n",
              "      <td>7</td>\n",
              "      <td>Robo de armas de fuego</td>\n",
              "    </tr>\n",
              "    <tr>\n",
              "      <th>7</th>\n",
              "      <td>104</td>\n",
              "      <td>5</td>\n",
              "      <td>Extorsión a residencias</td>\n",
              "    </tr>\n",
              "    <tr>\n",
              "      <th>8</th>\n",
              "      <td>3</td>\n",
              "      <td>5</td>\n",
              "      <td>Homicidio por arma contundente</td>\n",
              "    </tr>\n",
              "    <tr>\n",
              "      <th>9</th>\n",
              "      <td>81</td>\n",
              "      <td>5</td>\n",
              "      <td>Hurto a residencias</td>\n",
              "    </tr>\n",
              "    <tr>\n",
              "      <th>10</th>\n",
              "      <td>75</td>\n",
              "      <td>5</td>\n",
              "      <td>Hurto de armas de fuego</td>\n",
              "    </tr>\n",
              "    <tr>\n",
              "      <th>11</th>\n",
              "      <td>22</td>\n",
              "      <td>4</td>\n",
              "      <td>Robo de vehículos</td>\n",
              "    </tr>\n",
              "    <tr>\n",
              "      <th>12</th>\n",
              "      <td>9</td>\n",
              "      <td>4</td>\n",
              "      <td>Lesiones por arma contundente</td>\n",
              "    </tr>\n",
              "    <tr>\n",
              "      <th>13</th>\n",
              "      <td>30</td>\n",
              "      <td>4</td>\n",
              "      <td>Robo a peatones</td>\n",
              "    </tr>\n",
              "    <tr>\n",
              "      <th>14</th>\n",
              "      <td>68</td>\n",
              "      <td>3</td>\n",
              "      <td>Otras causas (detenidos)</td>\n",
              "    </tr>\n",
              "    <tr>\n",
              "      <th>15</th>\n",
              "      <td>5</td>\n",
              "      <td>3</td>\n",
              "      <td>Homicidio por estrangulamiento</td>\n",
              "    </tr>\n",
              "    <tr>\n",
              "      <th>16</th>\n",
              "      <td>21</td>\n",
              "      <td>2</td>\n",
              "      <td>Hurto a comercios</td>\n",
              "    </tr>\n",
              "    <tr>\n",
              "      <th>17</th>\n",
              "      <td>20</td>\n",
              "      <td>2</td>\n",
              "      <td>Robo a comercios</td>\n",
              "    </tr>\n",
              "    <tr>\n",
              "      <th>18</th>\n",
              "      <td>79</td>\n",
              "      <td>2</td>\n",
              "      <td>Hurto de motocicletas</td>\n",
              "    </tr>\n",
              "    <tr>\n",
              "      <th>19</th>\n",
              "      <td>83</td>\n",
              "      <td>2</td>\n",
              "      <td>Hurto de vehículos</td>\n",
              "    </tr>\n",
              "    <tr>\n",
              "      <th>20</th>\n",
              "      <td>2</td>\n",
              "      <td>2</td>\n",
              "      <td>Homicidio por arma blanca</td>\n",
              "    </tr>\n",
              "    <tr>\n",
              "      <th>21</th>\n",
              "      <td>24</td>\n",
              "      <td>1</td>\n",
              "      <td>Robo de motocicletas</td>\n",
              "    </tr>\n",
              "    <tr>\n",
              "      <th>22</th>\n",
              "      <td>106</td>\n",
              "      <td>1</td>\n",
              "      <td>Intento de suicidio por arma de fuego</td>\n",
              "    </tr>\n",
              "    <tr>\n",
              "      <th>23</th>\n",
              "      <td>35</td>\n",
              "      <td>1</td>\n",
              "      <td>Robo en iglesias</td>\n",
              "    </tr>\n",
              "    <tr>\n",
              "      <th>24</th>\n",
              "      <td>100</td>\n",
              "      <td>1</td>\n",
              "      <td>Extorsión a transporte escolar</td>\n",
              "    </tr>\n",
              "    <tr>\n",
              "      <th>25</th>\n",
              "      <td>111</td>\n",
              "      <td>1</td>\n",
              "      <td>Suicidio por arma blanca</td>\n",
              "    </tr>\n",
              "  </tbody>\n",
              "</table>\n",
              "</div>"
            ],
            "text/plain": [
              "    index  Delitos en                                 Delitos\n",
              "0       1           18            Homicidio por arma de fuego\n",
              "1      71           13                          Desaparecidos\n",
              "2      19           11                     Robo a residencias\n",
              "3      97            9                  Extorsión a comercios\n",
              "4       8            8               Lesiones por arma blanca\n",
              "5       7            7             Lesiones por arma de fuego\n",
              "6      69            7                 Robo de armas de fuego\n",
              "7     104            5                Extorsión a residencias\n",
              "8       3            5         Homicidio por arma contundente\n",
              "9      81            5                    Hurto a residencias\n",
              "10     75            5                Hurto de armas de fuego\n",
              "11     22            4                      Robo de vehículos\n",
              "12      9            4          Lesiones por arma contundente\n",
              "13     30            4                        Robo a peatones\n",
              "14     68            3               Otras causas (detenidos)\n",
              "15      5            3         Homicidio por estrangulamiento\n",
              "16     21            2                      Hurto a comercios\n",
              "17     20            2                       Robo a comercios\n",
              "18     79            2                  Hurto de motocicletas\n",
              "19     83            2                     Hurto de vehículos\n",
              "20      2            2              Homicidio por arma blanca\n",
              "21     24            1                   Robo de motocicletas\n",
              "22    106            1  Intento de suicidio por arma de fuego\n",
              "23     35            1                       Robo en iglesias\n",
              "24    100            1         Extorsión a transporte escolar\n",
              "25    111            1               Suicidio por arma blanca"
            ]
          },
          "metadata": {
            "tags": []
          },
          "execution_count": 85
        }
      ]
    },
    {
      "cell_type": "code",
      "metadata": {
        "id": "MdTOZljnPAZu",
        "colab_type": "code",
        "colab": {
          "base_uri": "https://localhost:8080/",
          "height": 202
        },
        "outputId": "772ae180-06c5-459f-ba39-8a5aeec56bc2"
      },
      "source": [
        "df.head()"
      ],
      "execution_count": 64,
      "outputs": [
        {
          "output_type": "execute_result",
          "data": {
            "text/html": [
              "<div>\n",
              "<style scoped>\n",
              "    .dataframe tbody tr th:only-of-type {\n",
              "        vertical-align: middle;\n",
              "    }\n",
              "\n",
              "    .dataframe tbody tr th {\n",
              "        vertical-align: top;\n",
              "    }\n",
              "\n",
              "    .dataframe thead th {\n",
              "        text-align: right;\n",
              "    }\n",
              "</style>\n",
              "<table border=\"1\" class=\"dataframe\">\n",
              "  <thead>\n",
              "    <tr style=\"text-align: right;\">\n",
              "      <th></th>\n",
              "      <th>mes</th>\n",
              "      <th>dia</th>\n",
              "      <th>dia_sem</th>\n",
              "      <th>hora</th>\n",
              "      <th>g_hora</th>\n",
              "      <th>area</th>\n",
              "      <th>dept</th>\n",
              "      <th>muni</th>\n",
              "      <th>sexo</th>\n",
              "      <th>edad</th>\n",
              "      <th>g_edad</th>\n",
              "      <th>mayor_menor</th>\n",
              "      <th>delito</th>\n",
              "      <th>g_delitos</th>\n",
              "      <th>region</th>\n",
              "    </tr>\n",
              "  </thead>\n",
              "  <tbody>\n",
              "    <tr>\n",
              "      <th>0</th>\n",
              "      <td>1</td>\n",
              "      <td>1</td>\n",
              "      <td>7</td>\n",
              "      <td>3</td>\n",
              "      <td>1</td>\n",
              "      <td>2</td>\n",
              "      <td>1</td>\n",
              "      <td>115</td>\n",
              "      <td>1</td>\n",
              "      <td>22</td>\n",
              "      <td>5</td>\n",
              "      <td>1</td>\n",
              "      <td>69</td>\n",
              "      <td>4</td>\n",
              "      <td>metro</td>\n",
              "    </tr>\n",
              "    <tr>\n",
              "      <th>1</th>\n",
              "      <td>1</td>\n",
              "      <td>1</td>\n",
              "      <td>7</td>\n",
              "      <td>19</td>\n",
              "      <td>4</td>\n",
              "      <td>2</td>\n",
              "      <td>2</td>\n",
              "      <td>207</td>\n",
              "      <td>1</td>\n",
              "      <td>24</td>\n",
              "      <td>5</td>\n",
              "      <td>1</td>\n",
              "      <td>69</td>\n",
              "      <td>4</td>\n",
              "      <td>nor_or</td>\n",
              "    </tr>\n",
              "    <tr>\n",
              "      <th>2</th>\n",
              "      <td>1</td>\n",
              "      <td>2</td>\n",
              "      <td>1</td>\n",
              "      <td>8</td>\n",
              "      <td>2</td>\n",
              "      <td>2</td>\n",
              "      <td>19</td>\n",
              "      <td>1901</td>\n",
              "      <td>1</td>\n",
              "      <td>35</td>\n",
              "      <td>8</td>\n",
              "      <td>1</td>\n",
              "      <td>75</td>\n",
              "      <td>3</td>\n",
              "      <td>nor_or</td>\n",
              "    </tr>\n",
              "    <tr>\n",
              "      <th>3</th>\n",
              "      <td>1</td>\n",
              "      <td>2</td>\n",
              "      <td>1</td>\n",
              "      <td>18</td>\n",
              "      <td>4</td>\n",
              "      <td>1</td>\n",
              "      <td>5</td>\n",
              "      <td>501</td>\n",
              "      <td>1</td>\n",
              "      <td>27</td>\n",
              "      <td>6</td>\n",
              "      <td>1</td>\n",
              "      <td>75</td>\n",
              "      <td>3</td>\n",
              "      <td>central</td>\n",
              "    </tr>\n",
              "    <tr>\n",
              "      <th>4</th>\n",
              "      <td>1</td>\n",
              "      <td>2</td>\n",
              "      <td>1</td>\n",
              "      <td>12</td>\n",
              "      <td>3</td>\n",
              "      <td>2</td>\n",
              "      <td>10</td>\n",
              "      <td>1001</td>\n",
              "      <td>1</td>\n",
              "      <td>62</td>\n",
              "      <td>13</td>\n",
              "      <td>1</td>\n",
              "      <td>75</td>\n",
              "      <td>3</td>\n",
              "      <td>sur_oc</td>\n",
              "    </tr>\n",
              "  </tbody>\n",
              "</table>\n",
              "</div>"
            ],
            "text/plain": [
              "   mes  dia  dia_sem  hora  ...  mayor_menor  delito  g_delitos   region\n",
              "0    1    1        7     3  ...            1      69          4    metro\n",
              "1    1    1        7    19  ...            1      69          4   nor_or\n",
              "2    1    2        1     8  ...            1      75          3   nor_or\n",
              "3    1    2        1    18  ...            1      75          3  central\n",
              "4    1    2        1    12  ...            1      75          3   sur_oc\n",
              "\n",
              "[5 rows x 15 columns]"
            ]
          },
          "metadata": {
            "tags": []
          },
          "execution_count": 64
        }
      ]
    },
    {
      "cell_type": "markdown",
      "metadata": {
        "id": "VWMnnBJ7O54f",
        "colab_type": "text"
      },
      "source": [
        "### Division to see the Municipio with the most crimes reported"
      ]
    },
    {
      "cell_type": "code",
      "metadata": {
        "id": "2IQIYjc2O0cY",
        "colab_type": "code",
        "colab": {}
      },
      "source": [
        "grouping2 = df\n",
        "#print(grouping)\n",
        "grouping2 = grouping2.drop(['dia_sem', 'dia', 'hora', 'g_hora', 'sexo', 'edad', 'g_edad', 'mayor_menor', 'g_delitos', 'region', 'area', 'mes'], axis=1)\n",
        "\n",
        "grouping = grouping2['muni'].value_counts()\n",
        "#grouping.drop(['dia_sem', 'dia', 'hora', 'g_hora', 'sexo', 'edad', 'g_edad', 'mayor_menor', 'g_delito'], axis=1)\n",
        "grouping = pd.DataFrame(grouping)\n",
        "grouping"
      ],
      "execution_count": 0,
      "outputs": []
    },
    {
      "cell_type": "code",
      "metadata": {
        "id": "9iNYIrm3RrZG",
        "colab_type": "code",
        "colab": {
          "base_uri": "https://localhost:8080/",
          "height": 130
        },
        "outputId": "c671e29d-aee5-4ac0-c53a-bb1a37e2d818"
      },
      "source": [
        "muni_descr = [\n",
        "\"Guatemala\",\n",
        "\"Santa Catarina Pinula\",\n",
        "\"San José Pinula\",\n",
        "\"San José del Golfo\"\n",
        "\"Palencia\"\n",
        "\"Chinautla\"\n",
        "\"San Pedro Ayampuc\"\n",
        "\"Mixco\"\n",
        "\"San Pedro Sacatepéquez\"\n",
        "\"San Juan Sacatepéquez\"\n",
        "\"San Raymundo\"\n",
        "\"Chuarrancho\"\n",
        "\"Fraijanes\"\n",
        "\"Amatitlán\n",
        "\"Villa Nueva\"\n",
        "\"Villa Canales\"\n",
        "\"Petapa\"\n",
        "\"Guastatoya\"\n",
        "\"Morazán\"\n",
        "\"San Agustín Acasaguastlán\"\n",
        "\"San Cristóbal Acasaguastlán\"\n",
        "\"El Jícaro\"\n",
        "\"Sansare\"\n",
        "\"Sanarate\"\n",
        "\"San Antonio La Paz\"\n",
        "\"Antigua Guatemala\"\n",
        "\"Jocotenango\"\n",
        "\"Pastores\"\n",
        "\"Sumpango\"\n",
        "\"Santo Domingo Xenacoj\"\n",
        "\"Santiago Sacatepéquez\"\n",
        "\"San Bartolomé Milpas Altas\"\n",
        "\"San Lucas Sacatepéquez\"\n",
        "\"Santa Lucía Milpas Altas\"\n",
        "\"Magdalena Milpas Altas\"\n",
        "\"Santa María de Jesús\"\n",
        "\"Ciudad Vieja\"\n",
        "\"San Miguel Dueñas\"\n",
        "\"Alotenango\"\n",
        "\"San Antonio Aguas Calientes\"\n",
        "\"Santa Catarina Barahona\"\n",
        "\"Chimaltenango\"\n",
        "\"San José Poaquil\"\n",
        "\"San Martín Jilotepeque\"\n",
        "\"Comalapa\"\n",
        "\"Santa Apolonia\"\n",
        "\"Tecpán Guatemala\"\n",
        "\"Patzún\"\n",
        "\"Pochuta\"\n",
        "\"Patzicía\"\n",
        "\"Santa Cruz Balanyá\"\n",
        "\"Acatenango\"\n",
        "\"Yepocapa\"\n",
        "\"San Andrés Itzapa\"\n",
        "\"Parramos\"\n",
        "\"Zaragoza\"\n",
        "\"El Tejar\"\n",
        "\"Escuintla\"\n",
        "\"Santa Lucía Cotzumalguapa\"\n",
        "\"La Democracia\"\n",
        "\"Siquinalá\"\n",
        "\"Masagua\"\n",
        "\"Tiquisate\"\n",
        "\"La Gomera\"\n",
        "\"Guanagazapa\"\n",
        "\"San José\"\n",
        "\"Iztapa\"\n",
        "\"Palín\"\n",
        "\"San Vicente Pacaya\"\n",
        "\"Nueva Concepción\"\n",
        "\"Sipacate\"\n",
        "\"Cuilapa\"\n",
        "\"Barberena\"\n",
        "\"Santa Rosa de Lima\"\n",
        "\"Casillas\"\n",
        "\"San Rafael las Flores\"\n",
        "\"Oratorio\"\n",
        "\"San Juan Tecuaco\"\n",
        "\"Chiquimulilla\"\n",
        "\"Taxisco\"\n",
        "\"Santa María Ixhuatán\"\n",
        "\"Guazacapán\"\n",
        "\"Santa Cruz Naranjo\"\n",
        "\"Pueblo Nuevo Viñas\"\n",
        "\"Nueva Santa Rosa\"\n",
        "\"Sololá\"\n",
        "\"San José Chacayá\"\n",
        "\"Santa María Visitación\"\n",
        "\"Santa Lucía Utatlán\"\n",
        "\"Nahualá\"\n",
        "\"Santa Catarina Ixtahuacán\"\n",
        "\"Santa Clara La Laguna\"\n",
        "\"Concepción\"\n",
        "\"San Andrés Semetabaj\"\n",
        "\"Panajachel\"\n",
        "\"Santa Catarina Palopó\"\n",
        "\"San Antonio Palopó\"\n",
        "\"San Lucas Toliman\"\n",
        "\"Santa Cruz La Laguna\"\n",
        "\"San Pablo La Laguna\"\n",
        "\"San Marcos La Laguna\"\n",
        "\"San Juan La Laguna\"\n",
        "\"San Pedro La Laguna\"\n",
        "\"Santiago Atitlán\"\n",
        "\"Totonicapán\"\n",
        "\"San Cristobal Totonicapán\"\n",
        "\"San Francisco El Alto\"\n",
        "\"San Andrés Xecul\"\n",
        "\"Momostenango\"\n",
        "\"Santa María Chiquimula\"\n",
        "\"Santa Lucía La Reforma\"\n",
        "\"San Bartolo\"\n",
        "\"Quetzaltenango\"\n",
        "\"Salcajá\"\n",
        "\"Olintepeque\"\n",
        "\"San Carlos Sija\"\n",
        "\"Sibilia\"\n",
        "\"Cabricán\"\n",
        "\"Cajolá\"\n",
        "\"San Miguel Siguilá\"\n",
        "\"Ostuncalco\"\n",
        "\"San Mateo\"\n",
        "\"Concepción Chiquirichapa\"\n",
        "\"San Martín Sacatepéquez\"\n",
        "\"Almolonga\"\n",
        "\"Cantel\"\n",
        "\"Huitán\"\n",
        "\"Zunil\"\n",
        "\"Colomba\"\n",
        "\"San Francisco La Unión\"\n",
        "\"El Palmar\"\n",
        "\"Coatepeque\"\n",
        "\"Génova\"\n",
        "\"Flores Costa Cuca\"\n",
        "\"La Esperanza\"\n",
        "\"Palestina de los Altos\n",
        "\"Mazatenango\"\n",
        "\"Cuyotenango\"\n",
        "\"San Francisco Zapotitlán\"\n",
        "\"San Bernardino\"\n",
        "\"San José El Idolo\"\n",
        "\"Santo Domingo Suchitepéquez\"\n",
        "\"San Lorenzo\"\n",
        "\"Samayac\"\n",
        "\"San Pablo Jocopilas\"\n",
        "\"San Antonio Suchitepéquez\"\n",
        "\"San Miguel Panán\"\n",
        "\"San Gabriel\"\n",
        "\"Chicacao\"\n",
        "\"Patulul\"\n",
        "\"Santa Bárbara\"\n",
        "\"San Juan Bautista\"\n",
        "\"Santo Tomás La Unión\"\n",
        "\"Zunilito\"\n",
        "\"Pueblo Nuevo\" \n",
        "\"Rio Bravo\"\n",
        "\"San José La Máquina\"\n",
        "\"Retalhuleu\"\n",
        "\"San Sebastián\"\n",
        "\"Santa Cruz Muluá\"\n",
        "\"San Martín Zapotitlán\"\n",
        "\"San Felipe\"\n",
        "\"San Andrés Villa Seca\"\n",
        "\"Champerico\"\n",
        "\"Nuevo San Carlos\"\n",
        "\"El Asintal\"\n",
        "\"San Marcos\"\n",
        "\"San Pedro Sacatepéquez\"\n",
        "\"San Antonio Sacatepéquez\"\n",
        "\"Comitancillo\"\n",
        "\"San Miguel Ixtahuacán\"\n",
        "\"Concepción Tutuapa\"\n",
        "\"Tacaná\"\n",
        "\"Sibinal\"\n",
        "\"Tajumulco\"\n",
        "\"Tejutla\"\n",
        "\"San Rafael Pié de La Cuesta\"\n",
        "\"Nuevo Progreso\"\n",
        "\"El Tumbador\"\n",
        "\"El Rodeo\"\n",
        "\"Malacatán\"\n",
        "\"Catarina\"\n",
        "\"Ayutla o Tecún Umán\"\n",
        "\"Ocós\"\n",
        "\"San Pablo\"\n",
        "\"El Quetzal\"\n",
        "\"La Reforma\"\n",
        "\"Pajapita\"\n",
        "\"Ixchiguán\"\n",
        "\"San José Ojetenam\"\n",
        "\"San Cristóbal Cucho\"\n",
        "\"Sipacapa\"\n",
        "\"Esquipulas Palo Gordo\"\n",
        "\"Rio Blanco\"\n",
        "\"San Lorenzo\"\n",
        "\"La Blanca\"\n",
        "\"Huehuetenango\"\n",
        "\"Chiantla\"\n",
        "\"Malacatancito\"\n",
        "\"Cuilco\"\n",
        "\"Nentón\"\n",
        "\"San Pedro Necta\"\n",
        "\"Jacaltenango\"\n",
        "\"Soloma\"\n",
        "\"Ixtahuacán\"\n",
        "\"Santa Bárbara\"\n",
        "\"La Libertad\"\n",
        "\"La Democracia\"\n",
        "\"San Miguel Acatán\"\n",
        "\"San Rafael La Independencia\"\n",
        "\"Todos Santos Cuchumatán\"\n",
        "\"San Juan Atitán\"\n",
        "\"Santa Eulalia\"\n",
        "\"San Mateo Ixtatán\"\n",
        "\"Colotenango\"\n",
        "\"San Sebastián Huehuetenango\"\n",
        "\"Tectitán\"\n",
        "\"Concepción Huista\"\n",
        "\"San Juan Ixcoy\"\n",
        "\"San Antonio Huista\"\n",
        "\"San Sebastián Coatán\"\n",
        "\"Barillas\"\n",
        "\"Aguacatán\"\n",
        "\"San Rafael Petzal\"\n",
        "\"San Gaspar Ixchil\"\n",
        "\"Santiago Chimaltenango\"\n",
        "\"Santa Ana Huista\"\n",
        "\"Unión Cantinil\"\n",
        "\"Petatán\"\n",
        "\"Santa Cruz del Quiché\"\n",
        "\"Chiché\"\n",
        "\"Chinique\"\n",
        "\"Zacualpa\"\n",
        "\"Chajul\"\n",
        "\"Chichicastenango\"\n",
        "\"Patzité\"\n",
        "\"San Antonio Ilotenango\"\n",
        "\"San Pedro Jocopilas\"\n",
        "\"Cunén\"\n",
        "\"San Juan Cotzal\"\n",
        "\"Joyabaj\"\n",
        "\"Nebaj\"\n",
        "\"San Andrés Sajcabajá\"\n",
        "\"Uspantán\"\n",
        "\"Sacapulas\"\n",
        "\"San Bartolomé Jocotenango\"\n",
        "\"Canillá\"\n",
        "\"Chicamán\"\n",
        "\"Ixcán\"\n",
        "\"Pachalum\"\n",
        "\"Salamá\"\n",
        "\"San Miguel Chicaj\"\n",
        "\"Rabinal\"\n",
        "\"Cubulco\"\n",
        "\"Granados\"\n",
        "\"El Chol\"\n",
        "\"San Jerónimo\"\n",
        "\"Purulhá\"\n",
        "\"Cobán\"\n",
        "\"Santa Cruz Verapaz\"\n",
        "\"San Cristóbal Verapaz\"\n",
        "\"Tactic\"\n",
        "\"Tamahú\"\n",
        "\"Tucurú\"\n",
        "\"Panzós\"\n",
        "\"Senahú\"\n",
        "\"San Pedro Carchá\"\n",
        "\"San Juan Chamelco\"\n",
        "\"Lanquín\"\n",
        "\"Cahabón\"\n",
        "\"Chisec\"\n",
        "\"Chahal\"\n",
        "\"Fray Bartolomé de Las Casas\"\n",
        "\"Santa Catalina la Tinta\"\n",
        "\"Raxruhá\"\n",
        "\"Flores\"\n",
        "\"San José\"\n",
        "\"San Benito\"\n",
        "\"San Andrés\"\n",
        "\"La Libertad\"\n",
        "\"San Francisco\"\n",
        "\"Santa Ana\"\n",
        "\"Dolores\"\n",
        "\"San Luis\"\n",
        "\"Sayaxché\"\n",
        "\"Melchor de Mencos\"\n",
        "\"Poptún\"\n",
        "\"Las Cruces\"\n",
        "\"El Chal\"\n",
        "\"Puerto Barrios\"\n",
        "\"Livingston\"\n",
        "\"El Estor\"\n",
        "\"Morales\"\n",
        "\"Los Amates\"\n",
        "\"Zacapa\"\n",
        "\"Estanzuela\"\n",
        "\"Río Hondo\"\n",
        "\"Gualán\"\n",
        "\"Teculután\"\n",
        "\"Usumatlán\"\n",
        "\"Cabañas\"\n",
        "\"San Diego\"\n",
        "\"La Unión\"\n",
        "\"Huité\"\n",
        "\"San Jorge\"\n",
        "\"Chiquimula\"\n",
        "\"San José La Arada\"\n",
        "\"San Juan Erminta\"\n",
        "\"Jocotán\"\n",
        "\"Camotán\"\n",
        "\"Olopa\"\n",
        "\"Esquipulas\"\n",
        "\"Concepción Las Minas\"\n",
        "\"Quetzaltepeque\"\n",
        "\"San Jacinto\"\n",
        "\"Ipala\"\n",
        "\"Jalapa\"\n",
        "\"San Pedro Pinula\"\n",
        "\"San Luis Jilotepeque\"\n",
        "\"San Manuel Chaparrón\"\n",
        "\"San Carlos Alzatate\"\n",
        "\"Monjas\"\n",
        "\"Mataquescuintla\"\n",
        "\"Jutiapa\"\n",
        "\"El Progreso\"\n",
        "\"Santa Catarina Mita\"\n",
        "\"Agua Blanca\"\n",
        "\"Asunción Mita\"\n",
        "\"Yupiltepeque\"\n",
        "\"Atescatempa\"\n",
        "\"Jerez\"\n",
        "\"El Adelanto\"\n",
        "\"Zapotitlán\"\n",
        "\"Comapa\"\n",
        "\"Jalpatagua\"\n",
        "\"Conguaco\"\n",
        "\"Moyuta\"\n",
        "\"Pasaco\"\n",
        "\"San José Acatempa\"\n",
        "\"Quesada\"]"
      ],
      "execution_count": 87,
      "outputs": [
        {
          "output_type": "error",
          "ename": "SyntaxError",
          "evalue": "ignored",
          "traceback": [
            "\u001b[0;36m  File \u001b[0;32m\"<ipython-input-87-e57e0fe1b023>\"\u001b[0;36m, line \u001b[0;32m15\u001b[0m\n\u001b[0;31m    \"Amatitlán\u001b[0m\n\u001b[0m              ^\u001b[0m\n\u001b[0;31mSyntaxError\u001b[0m\u001b[0;31m:\u001b[0m EOL while scanning string literal\n"
          ]
        }
      ]
    },
    {
      "cell_type": "code",
      "metadata": {
        "id": "MrKamCc8Ru3w",
        "colab_type": "code",
        "colab": {}
      },
      "source": [
        "number = list(range(101,2218))"
      ],
      "execution_count": 0,
      "outputs": []
    },
    {
      "cell_type": "code",
      "metadata": {
        "id": "YzH8_l18RwSO",
        "colab_type": "code",
        "colab": {}
      },
      "source": [
        "data = {'index':number, 'Delitos':delitos_descr} "
      ],
      "execution_count": 0,
      "outputs": []
    },
    {
      "cell_type": "code",
      "metadata": {
        "id": "v5rP0fexRoSR",
        "colab_type": "code",
        "colab": {}
      },
      "source": [
        "# Create DataFrame \n",
        "\n",
        "descrip = pd.DataFrame(data)\n",
        "ciudad = df.loc[df.dept ==1]\n",
        "muni = ciudad.loc[ciudad.muni ==113]\n",
        "delito_Count_Table = muni.delito.value_counts()\n",
        "del_com = delito_Count_Table.reset_index(name='Delitos en ')\n",
        "union_tables = pd.merge(del_com, descrip, on='index', how='inner')"
      ],
      "execution_count": 0,
      "outputs": []
    }
  ]
}