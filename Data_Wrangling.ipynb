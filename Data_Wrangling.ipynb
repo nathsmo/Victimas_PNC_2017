{
  "nbformat": 4,
  "nbformat_minor": 0,
  "metadata": {
    "colab": {
      "name": "Data_Wrangling.ipynb",
      "version": "0.3.2",
      "provenance": [],
      "include_colab_link": true
    },
    "language_info": {
      "codemirror_mode": {
        "name": "ipython",
        "version": 2
      },
      "file_extension": ".py",
      "mimetype": "text/x-python",
      "name": "python",
      "nbconvert_exporter": "python",
      "pygments_lexer": "ipython2",
      "version": "2.7.15"
    },
    "kernelspec": {
      "display_name": "Python 2",
      "language": "python",
      "name": "python2"
    }
  },
  "cells": [
    {
      "cell_type": "markdown",
      "metadata": {
        "id": "view-in-github",
        "colab_type": "text"
      },
      "source": [
        "<a href=\"https://colab.research.google.com/github/nathsmo/Victimas_PNC_2017/blob/master/Data_Wrangling.ipynb\" target=\"_parent\"><img src=\"https://colab.research.google.com/assets/colab-badge.svg\" alt=\"Open In Colab\"/></a>"
      ]
    },
    {
      "cell_type": "markdown",
      "metadata": {
        "id": "EqIdr78JAC3c",
        "colab_type": "text"
      },
      "source": [
        "# <center> Data Wrangling </center>\n",
        "## <center> Nathalia Morales </center>\n",
        "### <center> Proyecto final Elements of Machine Learning </center>\n",
        "\n",
        "## Imporando las librerias necesarias"
      ]
    },
    {
      "cell_type": "code",
      "metadata": {
        "id": "V8R9kHgtAC3e",
        "colab_type": "code",
        "colab": {}
      },
      "source": [
        "import pandas as pd\n",
        "import numpy as np  \n",
        "import matplotlib.pyplot as plt  \n",
        "%matplotlib inline\n",
        "from sklearn.model_selection import train_test_split  \n",
        "from pandas import DataFrame\n",
        "import statsmodels.api as sm\n",
        "import seaborn as sns"
      ],
      "execution_count": 0,
      "outputs": []
    },
    {
      "cell_type": "code",
      "metadata": {
        "id": "Dfj3uKa_AC3i",
        "colab_type": "code",
        "colab": {}
      },
      "source": [
        "df = pd.read_excel('victimas_2017.xlsx')"
      ],
      "execution_count": 0,
      "outputs": []
    },
    {
      "cell_type": "markdown",
      "metadata": {
        "id": "YSjJpzCIAC3k",
        "colab_type": "text"
      },
      "source": [
        "## Forma General de la data"
      ]
    },
    {
      "cell_type": "code",
      "metadata": {
        "id": "Wy1RqiXaAC3l",
        "colab_type": "code",
        "colab": {},
        "outputId": "489c24d6-0708-46e5-f9fb-dbe9a3c4b869"
      },
      "source": [
        "df.shape"
      ],
      "execution_count": 0,
      "outputs": [
        {
          "output_type": "execute_result",
          "data": {
            "text/plain": [
              "(35169, 20)"
            ]
          },
          "metadata": {
            "tags": []
          },
          "execution_count": 3
        }
      ]
    },
    {
      "cell_type": "code",
      "metadata": {
        "id": "7XAP5LfMAC3o",
        "colab_type": "code",
        "colab": {},
        "outputId": "c710f550-8a8e-455e-afc9-1131ba67cfff"
      },
      "source": [
        "df.columns"
      ],
      "execution_count": 0,
      "outputs": [
        {
          "output_type": "execute_result",
          "data": {
            "text/plain": [
              "Index([u'núm_corre', u'año_ocu', u'mes_ocu', u'día_ocu', u'día_sem_ocu',\n",
              "       u'hora_ocu', u'g_hora', u'g_hora_mañ.tar.noch', u'área_geo_ocu',\n",
              "       u'depto_ocu', u'mupio_ocu', u'zona_ocu', u'sexo_per', u'edad_per',\n",
              "       u'g_edad_60ymás', u'g_edad_80ymás', u'edad_quinquenales',\n",
              "       u'menor_mayor', u'delito_com', u'g_delitos'],\n",
              "      dtype='object')"
            ]
          },
          "metadata": {
            "tags": []
          },
          "execution_count": 4
        }
      ]
    },
    {
      "cell_type": "code",
      "metadata": {
        "id": "4EKbiM85AC3s",
        "colab_type": "code",
        "colab": {},
        "outputId": "85b28944-bdc7-406c-f560-01a791de8973"
      },
      "source": [
        "df.head()"
      ],
      "execution_count": 0,
      "outputs": [
        {
          "output_type": "execute_result",
          "data": {
            "text/html": [
              "<div>\n",
              "<style scoped>\n",
              "    .dataframe tbody tr th:only-of-type {\n",
              "        vertical-align: middle;\n",
              "    }\n",
              "\n",
              "    .dataframe tbody tr th {\n",
              "        vertical-align: top;\n",
              "    }\n",
              "\n",
              "    .dataframe thead th {\n",
              "        text-align: right;\n",
              "    }\n",
              "</style>\n",
              "<table border=\"1\" class=\"dataframe\">\n",
              "  <thead>\n",
              "    <tr style=\"text-align: right;\">\n",
              "      <th></th>\n",
              "      <th>núm_corre</th>\n",
              "      <th>año_ocu</th>\n",
              "      <th>mes_ocu</th>\n",
              "      <th>día_ocu</th>\n",
              "      <th>día_sem_ocu</th>\n",
              "      <th>hora_ocu</th>\n",
              "      <th>g_hora</th>\n",
              "      <th>g_hora_mañ.tar.noch</th>\n",
              "      <th>área_geo_ocu</th>\n",
              "      <th>depto_ocu</th>\n",
              "      <th>mupio_ocu</th>\n",
              "      <th>zona_ocu</th>\n",
              "      <th>sexo_per</th>\n",
              "      <th>edad_per</th>\n",
              "      <th>g_edad_60ymás</th>\n",
              "      <th>g_edad_80ymás</th>\n",
              "      <th>edad_quinquenales</th>\n",
              "      <th>menor_mayor</th>\n",
              "      <th>delito_com</th>\n",
              "      <th>g_delitos</th>\n",
              "    </tr>\n",
              "  </thead>\n",
              "  <tbody>\n",
              "    <tr>\n",
              "      <th>0</th>\n",
              "      <td>1</td>\n",
              "      <td>2017</td>\n",
              "      <td>1</td>\n",
              "      <td>1</td>\n",
              "      <td>7</td>\n",
              "      <td>3</td>\n",
              "      <td>1</td>\n",
              "      <td>1</td>\n",
              "      <td>2</td>\n",
              "      <td>1</td>\n",
              "      <td>115</td>\n",
              "      <td>99</td>\n",
              "      <td>1</td>\n",
              "      <td>22</td>\n",
              "      <td>3</td>\n",
              "      <td>3</td>\n",
              "      <td>5</td>\n",
              "      <td>1</td>\n",
              "      <td>69</td>\n",
              "      <td>3</td>\n",
              "    </tr>\n",
              "    <tr>\n",
              "      <th>1</th>\n",
              "      <td>2</td>\n",
              "      <td>2017</td>\n",
              "      <td>1</td>\n",
              "      <td>1</td>\n",
              "      <td>7</td>\n",
              "      <td>19</td>\n",
              "      <td>4</td>\n",
              "      <td>3</td>\n",
              "      <td>2</td>\n",
              "      <td>2</td>\n",
              "      <td>207</td>\n",
              "      <td>99</td>\n",
              "      <td>1</td>\n",
              "      <td>24</td>\n",
              "      <td>3</td>\n",
              "      <td>3</td>\n",
              "      <td>5</td>\n",
              "      <td>1</td>\n",
              "      <td>69</td>\n",
              "      <td>3</td>\n",
              "    </tr>\n",
              "    <tr>\n",
              "      <th>2</th>\n",
              "      <td>3</td>\n",
              "      <td>2017</td>\n",
              "      <td>1</td>\n",
              "      <td>2</td>\n",
              "      <td>1</td>\n",
              "      <td>8</td>\n",
              "      <td>2</td>\n",
              "      <td>1</td>\n",
              "      <td>2</td>\n",
              "      <td>19</td>\n",
              "      <td>1901</td>\n",
              "      <td>99</td>\n",
              "      <td>1</td>\n",
              "      <td>35</td>\n",
              "      <td>6</td>\n",
              "      <td>6</td>\n",
              "      <td>8</td>\n",
              "      <td>1</td>\n",
              "      <td>75</td>\n",
              "      <td>3</td>\n",
              "    </tr>\n",
              "    <tr>\n",
              "      <th>3</th>\n",
              "      <td>4</td>\n",
              "      <td>2017</td>\n",
              "      <td>1</td>\n",
              "      <td>2</td>\n",
              "      <td>1</td>\n",
              "      <td>18</td>\n",
              "      <td>4</td>\n",
              "      <td>3</td>\n",
              "      <td>1</td>\n",
              "      <td>5</td>\n",
              "      <td>501</td>\n",
              "      <td>99</td>\n",
              "      <td>1</td>\n",
              "      <td>27</td>\n",
              "      <td>4</td>\n",
              "      <td>4</td>\n",
              "      <td>6</td>\n",
              "      <td>1</td>\n",
              "      <td>75</td>\n",
              "      <td>3</td>\n",
              "    </tr>\n",
              "    <tr>\n",
              "      <th>4</th>\n",
              "      <td>5</td>\n",
              "      <td>2017</td>\n",
              "      <td>1</td>\n",
              "      <td>2</td>\n",
              "      <td>1</td>\n",
              "      <td>12</td>\n",
              "      <td>3</td>\n",
              "      <td>2</td>\n",
              "      <td>2</td>\n",
              "      <td>10</td>\n",
              "      <td>1001</td>\n",
              "      <td>99</td>\n",
              "      <td>1</td>\n",
              "      <td>62</td>\n",
              "      <td>11</td>\n",
              "      <td>11</td>\n",
              "      <td>13</td>\n",
              "      <td>1</td>\n",
              "      <td>75</td>\n",
              "      <td>3</td>\n",
              "    </tr>\n",
              "  </tbody>\n",
              "</table>\n",
              "</div>"
            ],
            "text/plain": [
              "   núm_corre  año_ocu  mes_ocu  día_ocu  día_sem_ocu  hora_ocu  g_hora  \\\n",
              "0          1     2017        1        1            7         3       1   \n",
              "1          2     2017        1        1            7        19       4   \n",
              "2          3     2017        1        2            1         8       2   \n",
              "3          4     2017        1        2            1        18       4   \n",
              "4          5     2017        1        2            1        12       3   \n",
              "\n",
              "   g_hora_mañ.tar.noch  área_geo_ocu  depto_ocu  mupio_ocu  zona_ocu  \\\n",
              "0                    1             2          1        115        99   \n",
              "1                    3             2          2        207        99   \n",
              "2                    1             2         19       1901        99   \n",
              "3                    3             1          5        501        99   \n",
              "4                    2             2         10       1001        99   \n",
              "\n",
              "   sexo_per  edad_per  g_edad_60ymás  g_edad_80ymás  edad_quinquenales  \\\n",
              "0         1        22              3              3                  5   \n",
              "1         1        24              3              3                  5   \n",
              "2         1        35              6              6                  8   \n",
              "3         1        27              4              4                  6   \n",
              "4         1        62             11             11                 13   \n",
              "\n",
              "   menor_mayor  delito_com  g_delitos  \n",
              "0            1          69          3  \n",
              "1            1          69          3  \n",
              "2            1          75          3  \n",
              "3            1          75          3  \n",
              "4            1          75          3  "
            ]
          },
          "metadata": {
            "tags": []
          },
          "execution_count": 5
        }
      ]
    },
    {
      "cell_type": "code",
      "metadata": {
        "id": "7o4UoQ45AC3u",
        "colab_type": "code",
        "colab": {}
      },
      "source": [
        "df[u'día_ocu']=df[u'día_ocu'].replace(99, np.nan)\n",
        "df[u'hora_ocu']=df[u'hora_ocu'].replace(99, np.nan)\n",
        "df[u'edad_per']=df[u'edad_per'].replace(999, np.nan)\n",
        "df[u'sexo_per']=df[u'sexo_per'].replace(9, np.nan)\n",
        "df[u'menor_mayor']=df[u'menor_mayor'].replace(9, np.nan)\n",
        "df[u'g_hora']=df[u'g_hora'].replace(5, np.nan)\n",
        "df[u'área_geo_ocu']=df[u'área_geo_ocu'].replace(9, np.nan)"
      ],
      "execution_count": 0,
      "outputs": []
    },
    {
      "cell_type": "markdown",
      "metadata": {
        "id": "XstgDxTkAC3w",
        "colab_type": "text"
      },
      "source": [
        "## Eliminando columnas irrelevantes o repetitivas"
      ]
    },
    {
      "cell_type": "code",
      "metadata": {
        "id": "iygU3LSpAC3x",
        "colab_type": "code",
        "colab": {}
      },
      "source": [
        "df.drop(u'núm_corre', axis=1, inplace=True)# irrelevante\n",
        "df.drop(u'año_ocu', axis=1, inplace=True)# todos son de 2017\n",
        "df.drop(u'zona_ocu', axis=1, inplace=True)# muchos NaN\n",
        "df.drop(u'g_hora_mañ.tar.noch', axis=1, inplace=True)# repetitivo\n",
        "df.drop(u'g_edad_60ymás', axis=1, inplace=True)# repetitivo\n",
        "df.drop(u'g_edad_80ymás', axis=1, inplace=True)# repetitivo"
      ],
      "execution_count": 0,
      "outputs": []
    },
    {
      "cell_type": "markdown",
      "metadata": {
        "id": "a0LyBajZAC3z",
        "colab_type": "text"
      },
      "source": [
        "## Contando los datos  NaN"
      ]
    },
    {
      "cell_type": "code",
      "metadata": {
        "id": "_2bHwq-KAC3z",
        "colab_type": "code",
        "colab": {},
        "outputId": "c35e8b8b-bc2f-470e-b1fd-6b2ec8f76ada"
      },
      "source": [
        "df.isna().sum()"
      ],
      "execution_count": 0,
      "outputs": [
        {
          "output_type": "execute_result",
          "data": {
            "text/plain": [
              "mes_ocu                 0\n",
              "día_ocu                 0\n",
              "día_sem_ocu             0\n",
              "hora_ocu              264\n",
              "g_hora                264\n",
              "área_geo_ocu           97\n",
              "depto_ocu               0\n",
              "mupio_ocu               0\n",
              "sexo_per              233\n",
              "edad_per             2655\n",
              "edad_quinquenales       0\n",
              "menor_mayor          2113\n",
              "delito_com              0\n",
              "g_delitos               0\n",
              "dtype: int64"
            ]
          },
          "metadata": {
            "tags": []
          },
          "execution_count": 8
        }
      ]
    },
    {
      "cell_type": "code",
      "metadata": {
        "id": "UchKvbGAAC32",
        "colab_type": "code",
        "colab": {},
        "outputId": "1cf0d1e1-8390-4cf7-9890-49ae16276bc1"
      },
      "source": [
        "df = df.dropna()\n",
        "print('done!')"
      ],
      "execution_count": 0,
      "outputs": [
        {
          "output_type": "stream",
          "text": [
            "done!\n"
          ],
          "name": "stdout"
        }
      ]
    },
    {
      "cell_type": "code",
      "metadata": {
        "id": "a01kjegkAC35",
        "colab_type": "code",
        "colab": {},
        "outputId": "64c46b91-7727-4879-88ac-c1185a4f0a6d"
      },
      "source": [
        "df.shape"
      ],
      "execution_count": 0,
      "outputs": [
        {
          "output_type": "execute_result",
          "data": {
            "text/plain": [
              "(32257, 14)"
            ]
          },
          "metadata": {
            "tags": []
          },
          "execution_count": 10
        }
      ]
    },
    {
      "cell_type": "markdown",
      "metadata": {
        "id": "juss3vKPAC37",
        "colab_type": "text"
      },
      "source": [
        "## Reordenamiento de delitos por grupos de gravedad"
      ]
    },
    {
      "cell_type": "code",
      "metadata": {
        "id": "_Oaowu-NAC38",
        "colab_type": "code",
        "colab": {}
      },
      "source": [
        "g1 = [45, 54, 62, 63, 68, 72, 124, 125]\n",
        "g2 = [7, 8, 9, 10, 11, 12, 16, 17, 25, 26, 38, 38, 41, 42, 43, 44, 48, 56, 57, 58, 71, 84, 86, \n",
        "      106, 107, 108, 109, 110, 112, 117, 119, 121, 122, 123, 126]\n",
        "g3 = [36, 37, 75, 76, 77, 78, 79, 80, 81, 82, 83, 21, 60, 61, 115]\n",
        "g4 = [19, 20, 22, 23, 24, 27, 28, 29, 30, 31, 32, 33, 34, 35, 69, 73, 74, 85]\n",
        "g5 = [40, 64, 94, 95, 96, 97, 98, 99, 100, 101, 102, 103, 104 , 105, 114]\n",
        "g6 = [1, 2, 3, 4, 5, 6, 15, 87, 88, 89, 90, 91, 92, 93, 111, 113, 116, 120]\n",
        "g7 = [46, 47, 49, 50, 51, 52, 53, 55, 65, 66, 67, 118]\n",
        "\n",
        "lgrav = []\n"
      ],
      "execution_count": 0,
      "outputs": []
    },
    {
      "cell_type": "code",
      "metadata": {
        "id": "wyNMgL9TAC3-",
        "colab_type": "code",
        "colab": {}
      },
      "source": [
        "for i in df['delito_com']:\n",
        "    if i in g1:\n",
        "        lgrav.append(1)\n",
        "    elif i in g2:\n",
        "        lgrav.append(2)    \n",
        "    elif i in g3:\n",
        "        lgrav.append(3)    \n",
        "    elif i in g4:\n",
        "        lgrav.append(4)    \n",
        "    elif i in g5:\n",
        "        lgrav.append(5) \n",
        "    elif i in g6:\n",
        "        lgrav.append(6)    \n",
        "    elif i in g7:\n",
        "        lgrav.append(0)      "
      ],
      "execution_count": 0,
      "outputs": []
    },
    {
      "cell_type": "code",
      "metadata": {
        "id": "HsgClZmtAC4B",
        "colab_type": "code",
        "colab": {}
      },
      "source": [
        "df.drop('g_delitos', axis=1, inplace=True) "
      ],
      "execution_count": 0,
      "outputs": []
    },
    {
      "cell_type": "code",
      "metadata": {
        "id": "2gc5sbW1AC4C",
        "colab_type": "code",
        "colab": {}
      },
      "source": [
        "df['g_delitos'] = lgrav"
      ],
      "execution_count": 0,
      "outputs": []
    },
    {
      "cell_type": "markdown",
      "metadata": {
        "id": "7i5O1JWtAC4F",
        "colab_type": "text"
      },
      "source": [
        "## Histogramas y gráficas de barras generales \n",
        "### Los nombres de las varieblaes estan en  la parte de abajo de su gráfica"
      ]
    },
    {
      "cell_type": "code",
      "metadata": {
        "scrolled": true,
        "id": "-sfU8XWWAC4H",
        "colab_type": "code",
        "colab": {},
        "outputId": "ae9d028d-bcc1-4aaf-8d99-219aa304d8dc"
      },
      "source": [
        "col = df.columns\n",
        "for i in col:\n",
        "    plt.figure(i)\n",
        "    sns.countplot(df[i])"
      ],
      "execution_count": 0,
      "outputs": [
        {
          "output_type": "display_data",
          "data": {
            "image/png": "[encoded data removed]",
            "text/plain": [
              "<Figure size 432x288 with 1 Axes>"
            ]
          },
          "metadata": {
            "tags": [],
            "needs_background": "light"
          }
        },
        {
          "output_type": "display_data",
          "data": {
            "image/png": "[encoded data removed]",
            "text/plain": [
              "<Figure size 432x288 with 1 Axes>"
            ]
          },
          "metadata": {
            "tags": [],
            "needs_background": "light"
          }
        },
        {
          "output_type": "display_data",
          "data": {
            "image/png": "[encoded data removed]",
            "text/plain": [
              "<Figure size 432x288 with 1 Axes>"
            ]
          },
          "metadata": {
            "tags": [],
            "needs_background": "light"
          }
        },
        {
          "output_type": "display_data",
          "data": {
            "image/png": "[encoded data removed]",
            "text/plain": [
              "<Figure size 432x288 with 1 Axes>"
            ]
          },
          "metadata": {
            "tags": [],
            "needs_background": "light"
          }
        },
        {
          "output_type": "display_data",
          "data": {
            "image/png": "[encoded data removed]",
            "text/plain": [
              "<Figure size 432x288 with 1 Axes>"
            ]
          },
          "metadata": {
            "tags": [],
            "needs_background": "light"
          }
        },
        {
          "output_type": "display_data",
          "data": {
            "image/png": "[encoded data removed]",
            "text/plain": [
              "<Figure size 432x288 with 1 Axes>"
            ]
          },
          "metadata": {
            "tags": [],
            "needs_background": "light"
          }
        },
        {
          "output_type": "display_data",
          "data": {
            "image/png": "[encoded data removed]",
            "text/plain": [
              "<Figure size 432x288 with 1 Axes>"
            ]
          },
          "metadata": {
            "tags": [],
            "needs_background": "light"
          }
        },
        {
          "output_type": "display_data",
          "data": {
            "image/png": "[encoded data removed]",
            "text/plain": [
              "<Figure size 432x288 with 1 Axes>"
            ]
          },
          "metadata": {
            "tags": [],
            "needs_background": "light"
          }
        },
        {
          "output_type": "display_data",
          "data": {
            "image/png": "[encoded data removed]",
            "text/plain": [
              "<Figure size 432x288 with 1 Axes>"
            ]
          },
          "metadata": {
            "tags": [],
            "needs_background": "light"
          }
        },
        {
          "output_type": "display_data",
          "data": {
            "image/png": "[encoded data removed]",
            "text/plain": [
              "<Figure size 432x288 with 1 Axes>"
            ]
          },
          "metadata": {
            "tags": [],
            "needs_background": "light"
          }
        },
        {
          "output_type": "display_data",
          "data": {
            "image/png": "[encoded data removed]",
            "text/plain": [
              "<Figure size 432x288 with 1 Axes>"
            ]
          },
          "metadata": {
            "tags": [],
            "needs_background": "light"
          }
        },
        {
          "output_type": "display_data",
          "data": {
            "image/png": "[encoded data removed]",
            "text/plain": [
              "<Figure size 432x288 with 1 Axes>"
            ]
          },
          "metadata": {
            "tags": [],
            "needs_background": "light"
          }
        },
        {
          "output_type": "display_data",
          "data": {
            "image/png": "[encoded data removed]",
            "text/plain": [
              "<Figure size 432x288 with 1 Axes>"
            ]
          },
          "metadata": {
            "tags": [],
            "needs_background": "light"
          }
        },
        {
          "output_type": "display_data",
          "data": {
            "image/png": "[encoded data removed]",
            "text/plain": [
              "<Figure size 432x288 with 1 Axes>"
            ]
          },
          "metadata": {
            "tags": [],
            "needs_background": "light"
          }
        }
      ]
    },
    {
      "cell_type": "code",
      "metadata": {
        "id": "Plebxy8DAC4J",
        "colab_type": "code",
        "colab": {},
        "outputId": "19a23552-2cf8-4ed2-ce0a-6987cdd70760"
      },
      "source": [
        "del_com = df[\"delito_com\"].value_counts().reset_index(name='Sum of Incidents')[:11]\n",
        "del_com"
      ],
      "execution_count": 0,
      "outputs": [
        {
          "output_type": "execute_result",
          "data": {
            "text/html": [
              "<div>\n",
              "<style scoped>\n",
              "    .dataframe tbody tr th:only-of-type {\n",
              "        vertical-align: middle;\n",
              "    }\n",
              "\n",
              "    .dataframe tbody tr th {\n",
              "        vertical-align: top;\n",
              "    }\n",
              "\n",
              "    .dataframe thead th {\n",
              "        text-align: right;\n",
              "    }\n",
              "</style>\n",
              "<table border=\"1\" class=\"dataframe\">\n",
              "  <thead>\n",
              "    <tr style=\"text-align: right;\">\n",
              "      <th></th>\n",
              "      <th>index</th>\n",
              "      <th>Sum of Incidents</th>\n",
              "    </tr>\n",
              "  </thead>\n",
              "  <tbody>\n",
              "    <tr>\n",
              "      <th>0</th>\n",
              "      <td>104</td>\n",
              "      <td>3379</td>\n",
              "    </tr>\n",
              "    <tr>\n",
              "      <th>1</th>\n",
              "      <td>1</td>\n",
              "      <td>3345</td>\n",
              "    </tr>\n",
              "    <tr>\n",
              "      <th>2</th>\n",
              "      <td>7</td>\n",
              "      <td>3192</td>\n",
              "    </tr>\n",
              "    <tr>\n",
              "      <th>3</th>\n",
              "      <td>79</td>\n",
              "      <td>3094</td>\n",
              "    </tr>\n",
              "    <tr>\n",
              "      <th>4</th>\n",
              "      <td>71</td>\n",
              "      <td>2929</td>\n",
              "    </tr>\n",
              "    <tr>\n",
              "      <th>5</th>\n",
              "      <td>83</td>\n",
              "      <td>2521</td>\n",
              "    </tr>\n",
              "    <tr>\n",
              "      <th>6</th>\n",
              "      <td>97</td>\n",
              "      <td>2208</td>\n",
              "    </tr>\n",
              "    <tr>\n",
              "      <th>7</th>\n",
              "      <td>24</td>\n",
              "      <td>2192</td>\n",
              "    </tr>\n",
              "    <tr>\n",
              "      <th>8</th>\n",
              "      <td>68</td>\n",
              "      <td>1897</td>\n",
              "    </tr>\n",
              "    <tr>\n",
              "      <th>9</th>\n",
              "      <td>8</td>\n",
              "      <td>1437</td>\n",
              "    </tr>\n",
              "    <tr>\n",
              "      <th>10</th>\n",
              "      <td>30</td>\n",
              "      <td>1107</td>\n",
              "    </tr>\n",
              "  </tbody>\n",
              "</table>\n",
              "</div>"
            ],
            "text/plain": [
              "    index  Sum of Incidents\n",
              "0     104              3379\n",
              "1       1              3345\n",
              "2       7              3192\n",
              "3      79              3094\n",
              "4      71              2929\n",
              "5      83              2521\n",
              "6      97              2208\n",
              "7      24              2192\n",
              "8      68              1897\n",
              "9       8              1437\n",
              "10     30              1107"
            ]
          },
          "metadata": {
            "tags": []
          },
          "execution_count": 77
        }
      ]
    },
    {
      "cell_type": "code",
      "metadata": {
        "id": "HJUyX4-FAC4N",
        "colab_type": "code",
        "colab": {},
        "outputId": "23d76217-ccdc-4301-ab48-31b43b3a8840"
      },
      "source": [
        "ax = del_com.plot.bar(x='index', y='Sum of Incidents', rot=0)"
      ],
      "execution_count": 0,
      "outputs": [
        {
          "output_type": "display_data",
          "data": {
            "image/png": "[encoded data removed]",
            "text/plain": [
              "<Figure size 432x288 with 1 Axes>"
            ]
          },
          "metadata": {
            "tags": [],
            "needs_background": "light"
          }
        }
      ]
    },
    {
      "cell_type": "markdown",
      "metadata": {
        "id": "j8JVqsZrAC4Q",
        "colab_type": "text"
      },
      "source": [
        "Delitos encontrados:\n",
        "* 104 - Extorsión a residencias\n",
        "* 1 - Homicidio por arma de fuego\n",
        "* 7 - Lesiones por arma de fuego\n",
        "* 79 - Hurto de motocicletas\n",
        "* 71 - Desaparecidos\n",
        "* 83 - Hurto de vehículos\n",
        "* 97 - Extorsión a comercios\n",
        "* 24 - Robo de motocicletas\n",
        "* 68 - Otras causas (detenidos)\n",
        "* 8 - Lesiones por arma blanca\n",
        "* 30 - Robo a peatones"
      ]
    },
    {
      "cell_type": "markdown",
      "metadata": {
        "id": "oAXqFTS0AC4Q",
        "colab_type": "text"
      },
      "source": [
        "## Renombrando variables por tildes y facilidad"
      ]
    },
    {
      "cell_type": "code",
      "metadata": {
        "id": "Ga9mL7OKAC4R",
        "colab_type": "code",
        "colab": {}
      },
      "source": [
        "df.rename(columns={u'mes_ocu':'mes',\n",
        "                          u'día_ocu':'dia',\n",
        "                          u'día_sem_ocu':'dia_sem',\n",
        "                          u'hora_ocu':'hora',\n",
        "                          u'área_geo_ocu':'area',\n",
        "                          u'depto_ocu':'dept',\n",
        "                          u'mupio_ocu':'muni',\n",
        "                          u'sexo_per':'sexo',\n",
        "                          u'edad_per':'edad',                   \n",
        "                          u'edad_quinquenales':'g_edad',                   \n",
        "                          u'delito_com':'delito',                   \n",
        "                          u'menor_mayor':'mayor_menor'}, \n",
        "                 inplace=True)"
      ],
      "execution_count": 0,
      "outputs": []
    },
    {
      "cell_type": "code",
      "metadata": {
        "id": "FmfMubuaAC4S",
        "colab_type": "code",
        "colab": {}
      },
      "source": [
        "df.area = df.area.astype(int)\n",
        "df.sexo = df.sexo.astype(int)\n",
        "df.edad = df.edad.astype(int)\n",
        "df.mayor_menor = df.mayor_menor.astype(int)\n",
        "df.g_hora = df.g_hora.astype(int)\n",
        "df.hora = df.hora.astype(int)"
      ],
      "execution_count": 0,
      "outputs": []
    },
    {
      "cell_type": "markdown",
      "metadata": {
        "id": "A99ZksN2AC4U",
        "colab_type": "text"
      },
      "source": [
        "## Matriz de correlación\n"
      ]
    },
    {
      "cell_type": "code",
      "metadata": {
        "id": "yZFG1xJqAC4U",
        "colab_type": "code",
        "colab": {},
        "outputId": "c06dff96-cf11-4681-e3d5-d46968869c1e"
      },
      "source": [
        "corr = df.corr()\n",
        "sns.heatmap(corr)"
      ],
      "execution_count": 0,
      "outputs": [
        {
          "output_type": "execute_result",
          "data": {
            "text/plain": [
              "<matplotlib.axes._subplots.AxesSubplot at 0x1c173557d0>"
            ]
          },
          "metadata": {
            "tags": []
          },
          "execution_count": 81
        },
        {
          "output_type": "display_data",
          "data": {
            "image/png": "[encoded data removed]",
            "text/plain": [
              "<Figure size 432x288 with 2 Axes>"
            ]
          },
          "metadata": {
            "tags": [],
            "needs_background": "light"
          }
        }
      ]
    },
    {
      "cell_type": "code",
      "metadata": {
        "id": "he77TghBAC4X",
        "colab_type": "code",
        "colab": {},
        "outputId": "07a21305-6f57-4584-c3d2-895c56133fe0"
      },
      "source": [
        "df.g_delitos.unique()"
      ],
      "execution_count": 0,
      "outputs": [
        {
          "output_type": "execute_result",
          "data": {
            "text/plain": [
              "array([4, 3, 1, 2, 6, 5])"
            ]
          },
          "metadata": {
            "tags": []
          },
          "execution_count": 86
        }
      ]
    },
    {
      "cell_type": "markdown",
      "metadata": {
        "id": "EVqdtQwkAC4a",
        "colab_type": "text"
      },
      "source": [
        "## Generar el csv para el procesamiento y análisis. "
      ]
    },
    {
      "cell_type": "code",
      "metadata": {
        "id": "vw9Pu2lYAC4a",
        "colab_type": "code",
        "colab": {}
      },
      "source": [
        "df.to_csv('vic_final.csv')"
      ],
      "execution_count": 0,
      "outputs": []
    },
    {
      "cell_type": "code",
      "metadata": {
        "id": "yP3fJkJEAC4c",
        "colab_type": "code",
        "colab": {}
      },
      "source": [
        "df = pd.read_csv('vic_final.csv')"
      ],
      "execution_count": 0,
      "outputs": []
    }
  ]
}